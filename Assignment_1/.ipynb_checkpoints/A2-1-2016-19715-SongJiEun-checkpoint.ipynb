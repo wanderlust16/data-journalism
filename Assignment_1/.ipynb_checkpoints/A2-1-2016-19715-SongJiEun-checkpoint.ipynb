{
 "cells": [
  {
   "cell_type": "code",
   "execution_count": 20,
   "metadata": {},
   "outputs": [
    {
     "name": "stdout",
     "output_type": "stream",
     "text": [
      "안녕하세요. 성을 입력해주세요: 송\n",
      "안녕하세요. 이름을 입력해주세요: 지은\n",
      "송지은님의 나이는 몇살인가요: 12\n",
      "송지은님은 지금까지 모두 378432000초를 살아왔군요.\n",
      "지금까지 이용해 주셔서 감사합니다. 송지은님.\n"
     ]
    }
   ],
   "source": [
    "lastname = input(\"안녕하세요. 성을 입력해주세요: \")\n",
    "firstname = input(\"안녕하세요. 이름을 입력해주세요: \")\n",
    "name = lastname + firstname\n",
    "age = input(name + \"님의 나이는 몇살인가요: \")\n",
    "print(name + \"님은 지금까지 모두 \" + str(int(age)*365*24*60*60) + \"초를 살아왔군요.\")\n",
    "print(\"지금까지 이용해 주셔서 감사합니다. \" + name + \"님.\")\n",
    "\n"
   ]
  },
  {
   "cell_type": "code",
   "execution_count": 7,
   "metadata": {},
   "outputs": [
    {
     "name": "stdout",
     "output_type": "stream",
     "text": [
      "2019-09-09 20:33:21\n"
     ]
    }
   ],
   "source": [
    "from datetime import datetime, date, time\n",
    "dt = datetime(2019, 9, 9, 20, 33, 21)  # 년, 월, 일, 시, 분, 초의 순서로 datetime 오브젝트 생성\n",
    "print(dt)"
   ]
  },
  {
   "cell_type": "code",
   "execution_count": 8,
   "metadata": {},
   "outputs": [
    {
     "name": "stdout",
     "output_type": "stream",
     "text": [
      "9\n",
      "9\n",
      "33\n"
     ]
    }
   ],
   "source": [
    "print(dt.day)\n",
    "print(dt.month)\n",
    "print(dt.minute)\n"
   ]
  },
  {
   "cell_type": "code",
   "execution_count": null,
   "metadata": {},
   "outputs": [],
   "source": []
  }
 ],
 "metadata": {
  "kernelspec": {
   "display_name": "Python 3",
   "language": "python",
   "name": "python3"
  },
  "language_info": {
   "codemirror_mode": {
    "name": "ipython",
    "version": 3
   },
   "file_extension": ".py",
   "mimetype": "text/x-python",
   "name": "python",
   "nbconvert_exporter": "python",
   "pygments_lexer": "ipython3",
   "version": "3.7.3"
  }
 },
 "nbformat": 4,
 "nbformat_minor": 2
}
