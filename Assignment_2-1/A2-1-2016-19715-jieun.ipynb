{
 "cells": [
  {
   "cell_type": "markdown",
   "metadata": {},
   "source": [
    "# A2-1-2016-19715-jieun.iphynb\n",
    "\n",
    "* 파일 이름: A2-1-학번-이름(영어로).iphynb 형식으로 (예: A2-1-13403-999-jiyoon.iphynb)"
   ]
  },
  {
   "cell_type": "markdown",
   "metadata": {},
   "source": [
    "#1. 다음의 프로그램을 작성하시오. (input()함수를 사용할 것)\n",
    "\n",
    "> 안녕하세요. 성을 입력해 주세요:  (성 입력의 예: 홍)\n",
    ">\n",
    "> 이름을 입력해 주세요:  (이름 입력의 예: 길동)\n",
    ">\n",
    "> 홍길동님의 나이는 몇살인가요: (나이 입력의 예: 30)\n",
    ">\n",
    "> 홍길동님은 지금까지 모두 ** xxxx **초를 살아왔군요.  \n",
    ">\n",
    "> 지금까지 이용해 주셔서 감사합니다. 홍길동님.\n",
    "\n",
    "(참고) 입력받은 나이는 숫자(int)가 아니라 문자열(string)임. 윤년 계산 등은 무시할 것."
   ]
  },
  {
   "cell_type": "code",
   "execution_count": 1,
   "metadata": {},
   "outputs": [
    {
     "name": "stdout",
     "output_type": "stream",
     "text": [
      "안녕하세요. 성을 입력해주세요: 송\n",
      "안녕하세요. 이름을 입력해주세요: 지은\n",
      "송지은님의 나이는 몇살인가요: 23\n",
      "송지은님은 지금까지 모두 725328000초를 살아왔군요.\n",
      "지금까지 이용해 주셔서 감사합니다. 송지은님.\n"
     ]
    }
   ],
   "source": [
    "lastname = input(\"안녕하세요. 성을 입력해주세요: \")\n",
    "firstname = input(\"안녕하세요. 이름을 입력해주세요: \")\n",
    "name = lastname + firstname\n",
    "age = input(name + \"님의 나이는 몇살인가요: \")\n",
    "print(name + \"님은 지금까지 모두 \" + str(int(age)*365*24*60*60) + \"초를 살아왔군요.\")\n",
    "print(\"지금까지 이용해 주셔서 감사합니다. \" + name + \"님.\")"
   ]
  },
  {
   "cell_type": "markdown",
   "metadata": {},
   "source": [
    "#2. 다음을 계산하는 메소드를 만들고 계산 예를 적으시오.\n",
    "\n",
    "> 섭씨 <-> 화씨 변환 \n",
    "\n",
    "> 인치 <-> 센치 변환\n",
    "\n",
    "출력의 예: \n",
    "\n",
    "> 섭씨 oo도는 화씨로 oo도 입니다.\n",
    "\n",
    "> oo인치는 oo센티미터 입니다.\n",
    "\n",
    "(참고) round() 함수를 사용해 보자: round() 함수는 지정한 소수점에서 반올림하여 결과를 표시한다.\n",
    "\n",
    "> round(3.954839283, 3) # 소수점 3째 자리에서 반올림\n",
    "\n",
    "> 3.955 "
   ]
  },
  {
   "cell_type": "code",
   "execution_count": 5,
   "metadata": {},
   "outputs": [
    {
     "name": "stdout",
     "output_type": "stream",
     "text": [
      "섭씨 25도는 화씨로 77.0도 입니다.\n",
      "3인치는 7.62센티미터 입니다.\n"
     ]
    }
   ],
   "source": [
    "# F = 9/5C + 32\n",
    "def tempconversion(celsius):\n",
    "    fahrenheit = round((9 / 5 * celsius + 32), 3)\n",
    "    print(\"섭씨 \" + str(celsius) + \"도는 화씨로 \" + str(fahrenheit) + \"도 입니다.\")\n",
    "tempconversion(25)\n",
    "\n",
    "    \n",
    "# inch = 2.54centimeter\n",
    "def lengthconversion(inch):\n",
    "    centimeter = 2.54 * inch\n",
    "    print(str(inch) + \"인치는 \" + str(centimeter) +\"센티미터 입니다.\")\n",
    "lengthconversion(3)"
   ]
  },
  {
   "cell_type": "markdown",
   "metadata": {},
   "source": [
    "#3. 다음을 출력하는 프로그램을 작성하시오.\n",
    "\n",
    "> 오늘은 oooo년 o월 o일, 크리스마스까지는 oo일 이나 남았네. 이 수업도 이제 oo번 밖에 안남았구나!"
   ]
  },
  {
   "cell_type": "code",
   "execution_count": 6,
   "metadata": {},
   "outputs": [
    {
     "name": "stdout",
     "output_type": "stream",
     "text": [
      "오늘은 2019년 09월 15일, 크리스마스까지는 100일 이나 남았네. 이 수업도 이제 13번 밖에 안남았구나!\n"
     ]
    }
   ],
   "source": [
    "from datetime import datetime, date, time, timedelta\n",
    "\n",
    "now = datetime.now()\n",
    "# print(now)\n",
    "today = now.strftime('%Y년 %m월 %d일'.encode('unicode-escape').decode()).encode().decode('unicode-escape')\n",
    "\n",
    "christmas = datetime(2019, 12, 25)\n",
    "christmasLeft = christmas - now\n",
    "# print(christmasLeft.days)\n",
    "\n",
    "endOfCourse = datetime(2019, 12, 16)\n",
    "coursesLeft = (endOfCourse - now) / 7\n",
    "# print(coursesLeft.days)\n",
    "\n",
    "print(\"오늘은 \" + today + \", 크리스마스까지는 \" + str(christmasLeft.days) + \"일 이나 남았네. 이 수업도 이제 \" + str(coursesLeft.days) + \"번 밖에 안남았구나!\")"
   ]
  },
  {
   "cell_type": "code",
   "execution_count": null,
   "metadata": {},
   "outputs": [],
   "source": []
  },
  {
   "cell_type": "code",
   "execution_count": null,
   "metadata": {},
   "outputs": [],
   "source": []
  }
 ],
 "metadata": {
  "kernelspec": {
   "display_name": "Python 3",
   "language": "python",
   "name": "python3"
  },
  "language_info": {
   "codemirror_mode": {
    "name": "ipython",
    "version": 3
   },
   "file_extension": ".py",
   "mimetype": "text/x-python",
   "name": "python",
   "nbconvert_exporter": "python",
   "pygments_lexer": "ipython3",
   "version": "3.7.3"
  }
 },
 "nbformat": 4,
 "nbformat_minor": 1
}
