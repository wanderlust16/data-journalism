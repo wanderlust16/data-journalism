{
 "cells": [
  {
   "cell_type": "markdown",
   "metadata": {},
   "source": [
    "# Week 3 - Exercise\n",
    "\n",
    "* 파일 이름: W3ex-학번-이름(영어로).iphynb 형식으로 (예: W3ex-13403-999-jiyoon.iphynb)"
   ]
  },
  {
   "cell_type": "markdown",
   "metadata": {},
   "source": [
    "#1. 다음을 출력하는 프로그램을 작성하시오.\n",
    "\n",
    "> **100** little **monkeys** jumping on the bed.\n",
    "\n",
    "> One fell off and broke his head. \n",
    "\n",
    "> **Mama(or Daddy)** called the doctor and the doctor said, \"No more monkeys jumping on the bed!\"\n",
    "\n",
    "> ...\n",
    "\n",
    "> ... \n",
    "\n",
    "> **1** little **monkey** jumping on the bed. \n",
    "\n",
    "> One fell off and broke his head. \n",
    "\n",
    "> **Mama(or Daddy)** called the doctor and the doctor said, \n",
    "\n",
    "> \"No more monkeys jumping on the bed!\" \n",
    "\n",
    "(참고) Mama 혹은 Daddy를 랜돔하게 선택하게 하자."
   ]
  },
  {
   "cell_type": "code",
   "execution_count": null,
   "metadata": {},
   "outputs": [],
   "source": [
    "# 여기에 코드를 입력하세요."
   ]
  },
  {
   "cell_type": "markdown",
   "metadata": {},
   "source": [
    "#2. 시작하는 연도와 끝나는 연도를 물어보는 프로그램을 작성 하고, 그 사이에 있는 모든 윤년을 출력하라. \n",
    "\n",
    "(시작하는 연도와 끝나는 연도가 윤년이면 그 해도 출력) \n",
    "\n",
    "* 윤년은 4로 나누어짐 (예: 1984, 2012)\n",
    "* 100으로 나누어지면 윤년이 아님 (예: 1800, 1900) \n",
    "* 윤년은 400으로 나누어짐 (예: 1600, 2000) \n",
    "\n",
    "> Pick a starting year (like 1973 or something): 1973\n",
    "\n",
    "> Now pick an ending year: 1977 \n",
    "\n",
    "> Check it out... these years are leap years: 1976 \n",
    "\n",
    "(참고) 윤년 리스트: http://mwultong.blogspot.com/2005/12/18002300-leap-year-list.html"
   ]
  },
  {
   "cell_type": "code",
   "execution_count": null,
   "metadata": {},
   "outputs": [],
   "source": [
    "# 여기에 코드를 입력하세요."
   ]
  },
  {
   "cell_type": "markdown",
   "metadata": {},
   "source": [
    "#3. 구구단을 출력하는 프로그램을 작성하고 결과를 txt 파일로 저장하시오."
   ]
  },
  {
   "cell_type": "code",
   "execution_count": null,
   "metadata": {},
   "outputs": [],
   "source": [
    "# 여기에 코드를 입력하세요."
   ]
  }
 ],
 "metadata": {
  "kernelspec": {
   "display_name": "Python 3",
   "language": "python",
   "name": "python3"
  },
  "language_info": {
   "codemirror_mode": {
    "name": "ipython",
    "version": 3
   },
   "file_extension": ".py",
   "mimetype": "text/x-python",
   "name": "python",
   "nbconvert_exporter": "python",
   "pygments_lexer": "ipython3",
   "version": "3.6.8"
  }
 },
 "nbformat": 4,
 "nbformat_minor": 1
}
