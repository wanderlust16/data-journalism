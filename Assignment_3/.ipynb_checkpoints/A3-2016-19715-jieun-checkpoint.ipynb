{
 "cells": [
  {
   "cell_type": "markdown",
   "metadata": {},
   "source": [
    "# Assignment 3 - Data Cleaning and Analysis\n",
    "\n",
    "이번 과제에서 학생들은 주어진 데이터를 clean up 하고 분석하는 연습을 하게 될 것이다.\n",
    "\n",
    "두개의 지정된 질문에 대한 답을 하여야 하고 세개의 질문을 스스로 만들어 코드와 함께 결과를 제시한다.\n",
    "\n",
    "* 파일 이름: A3-학번-이름(영어로).iphynb 형식으로 (예: A3-13403-999-jiyoon.iphynb)"
   ]
  },
  {
   "cell_type": "markdown",
   "metadata": {},
   "source": [
    "### Dataset\n",
    "\n",
    "타이타닉호의 모든 승객, 승무원의 정보와 생존자, 사망자 정보는 다음의 웹사이트에 잘 정리되어있다.\n",
    "* http://biostat.mc.vanderbilt.edu/wiki/pub/Main/DataSets/titanic.html\n",
    "\n",
    "본 과제에서 제시하는 데이터는 해당 웹사이트의 정보를 담고 있다. 다음의 데이터를 다운로드하여 분석하고 아래의 질문에 답하시오.\n",
    "* 데이터: http://biostat.mc.vanderbilt.edu/wiki/pub/Main/DataSets/titanic3.xls\n",
    "* 데이터 설명: http://biostat.mc.vanderbilt.edu/wiki/pub/Main/DataSets/titanic.html\n",
    "* 데이터 변수 설명: http://biostat.mc.vanderbilt.edu/wiki/pub/Main/DataSets/titanic3info.txt"
   ]
  },
  {
   "cell_type": "code",
   "execution_count": 2,
   "metadata": {
    "scrolled": true
   },
   "outputs": [],
   "source": [
    "import pandas as pd\n",
    "import numpy as np\n",
    "\n",
    "data = pd.read_excel(\"titanic3.xls\")"
   ]
  },
  {
   "cell_type": "code",
   "execution_count": 3,
   "metadata": {},
   "outputs": [
    {
     "data": {
      "text/html": [
       "<div>\n",
       "<style scoped>\n",
       "    .dataframe tbody tr th:only-of-type {\n",
       "        vertical-align: middle;\n",
       "    }\n",
       "\n",
       "    .dataframe tbody tr th {\n",
       "        vertical-align: top;\n",
       "    }\n",
       "\n",
       "    .dataframe thead th {\n",
       "        text-align: right;\n",
       "    }\n",
       "</style>\n",
       "<table border=\"1\" class=\"dataframe\">\n",
       "  <thead>\n",
       "    <tr style=\"text-align: right;\">\n",
       "      <th></th>\n",
       "      <th>pclass</th>\n",
       "      <th>survived</th>\n",
       "      <th>name</th>\n",
       "      <th>sex</th>\n",
       "      <th>age</th>\n",
       "      <th>sibsp</th>\n",
       "      <th>parch</th>\n",
       "      <th>ticket</th>\n",
       "      <th>fare</th>\n",
       "      <th>cabin</th>\n",
       "      <th>embarked</th>\n",
       "      <th>boat</th>\n",
       "      <th>body</th>\n",
       "      <th>home.dest</th>\n",
       "    </tr>\n",
       "  </thead>\n",
       "  <tbody>\n",
       "    <tr>\n",
       "      <th>0</th>\n",
       "      <td>1</td>\n",
       "      <td>1</td>\n",
       "      <td>Allen, Miss. Elisabeth Walton</td>\n",
       "      <td>female</td>\n",
       "      <td>29.0000</td>\n",
       "      <td>0</td>\n",
       "      <td>0</td>\n",
       "      <td>24160</td>\n",
       "      <td>211.3375</td>\n",
       "      <td>B5</td>\n",
       "      <td>S</td>\n",
       "      <td>2</td>\n",
       "      <td>NaN</td>\n",
       "      <td>St Louis, MO</td>\n",
       "    </tr>\n",
       "    <tr>\n",
       "      <th>1</th>\n",
       "      <td>1</td>\n",
       "      <td>1</td>\n",
       "      <td>Allison, Master. Hudson Trevor</td>\n",
       "      <td>male</td>\n",
       "      <td>0.9167</td>\n",
       "      <td>1</td>\n",
       "      <td>2</td>\n",
       "      <td>113781</td>\n",
       "      <td>151.5500</td>\n",
       "      <td>C22 C26</td>\n",
       "      <td>S</td>\n",
       "      <td>11</td>\n",
       "      <td>NaN</td>\n",
       "      <td>Montreal, PQ / Chesterville, ON</td>\n",
       "    </tr>\n",
       "    <tr>\n",
       "      <th>2</th>\n",
       "      <td>1</td>\n",
       "      <td>0</td>\n",
       "      <td>Allison, Miss. Helen Loraine</td>\n",
       "      <td>female</td>\n",
       "      <td>2.0000</td>\n",
       "      <td>1</td>\n",
       "      <td>2</td>\n",
       "      <td>113781</td>\n",
       "      <td>151.5500</td>\n",
       "      <td>C22 C26</td>\n",
       "      <td>S</td>\n",
       "      <td>NaN</td>\n",
       "      <td>NaN</td>\n",
       "      <td>Montreal, PQ / Chesterville, ON</td>\n",
       "    </tr>\n",
       "    <tr>\n",
       "      <th>3</th>\n",
       "      <td>1</td>\n",
       "      <td>0</td>\n",
       "      <td>Allison, Mr. Hudson Joshua Creighton</td>\n",
       "      <td>male</td>\n",
       "      <td>30.0000</td>\n",
       "      <td>1</td>\n",
       "      <td>2</td>\n",
       "      <td>113781</td>\n",
       "      <td>151.5500</td>\n",
       "      <td>C22 C26</td>\n",
       "      <td>S</td>\n",
       "      <td>NaN</td>\n",
       "      <td>135.0</td>\n",
       "      <td>Montreal, PQ / Chesterville, ON</td>\n",
       "    </tr>\n",
       "    <tr>\n",
       "      <th>4</th>\n",
       "      <td>1</td>\n",
       "      <td>0</td>\n",
       "      <td>Allison, Mrs. Hudson J C (Bessie Waldo Daniels)</td>\n",
       "      <td>female</td>\n",
       "      <td>25.0000</td>\n",
       "      <td>1</td>\n",
       "      <td>2</td>\n",
       "      <td>113781</td>\n",
       "      <td>151.5500</td>\n",
       "      <td>C22 C26</td>\n",
       "      <td>S</td>\n",
       "      <td>NaN</td>\n",
       "      <td>NaN</td>\n",
       "      <td>Montreal, PQ / Chesterville, ON</td>\n",
       "    </tr>\n",
       "  </tbody>\n",
       "</table>\n",
       "</div>"
      ],
      "text/plain": [
       "   pclass  survived                                             name     sex  \\\n",
       "0       1         1                    Allen, Miss. Elisabeth Walton  female   \n",
       "1       1         1                   Allison, Master. Hudson Trevor    male   \n",
       "2       1         0                     Allison, Miss. Helen Loraine  female   \n",
       "3       1         0             Allison, Mr. Hudson Joshua Creighton    male   \n",
       "4       1         0  Allison, Mrs. Hudson J C (Bessie Waldo Daniels)  female   \n",
       "\n",
       "       age  sibsp  parch  ticket      fare    cabin embarked boat   body  \\\n",
       "0  29.0000      0      0   24160  211.3375       B5        S    2    NaN   \n",
       "1   0.9167      1      2  113781  151.5500  C22 C26        S   11    NaN   \n",
       "2   2.0000      1      2  113781  151.5500  C22 C26        S  NaN    NaN   \n",
       "3  30.0000      1      2  113781  151.5500  C22 C26        S  NaN  135.0   \n",
       "4  25.0000      1      2  113781  151.5500  C22 C26        S  NaN    NaN   \n",
       "\n",
       "                         home.dest  \n",
       "0                     St Louis, MO  \n",
       "1  Montreal, PQ / Chesterville, ON  \n",
       "2  Montreal, PQ / Chesterville, ON  \n",
       "3  Montreal, PQ / Chesterville, ON  \n",
       "4  Montreal, PQ / Chesterville, ON  "
      ]
     },
     "execution_count": 3,
     "metadata": {},
     "output_type": "execute_result"
    }
   ],
   "source": [
    "data.head()"
   ]
  },
  {
   "cell_type": "code",
   "execution_count": 4,
   "metadata": {
    "scrolled": false
   },
   "outputs": [
    {
     "data": {
      "text/plain": [
       "Index(['pclass', 'survived', 'name', 'sex', 'age', 'sibsp', 'parch', 'ticket',\n",
       "       'fare', 'cabin', 'embarked', 'boat', 'body', 'home.dest'],\n",
       "      dtype='object')"
      ]
     },
     "execution_count": 4,
     "metadata": {},
     "output_type": "execute_result"
    }
   ],
   "source": [
    "data.columns"
   ]
  },
  {
   "cell_type": "markdown",
   "metadata": {},
   "source": [
    "### Q1: 생존자와 사망자의 평균 나이를 남녀를 구분하여 계산하시오."
   ]
  },
  {
   "cell_type": "code",
   "execution_count": 8,
   "metadata": {},
   "outputs": [
    {
     "data": {
      "text/plain": [
       "{(0, 'female'): 25.255208333333332,\n",
       " (0, 'male'): 31.51641166347992,\n",
       " (1, 'female'): 29.81535410958904,\n",
       " (1, 'male'): 26.977777777777778}"
      ]
     },
     "execution_count": 8,
     "metadata": {},
     "output_type": "execute_result"
    }
   ],
   "source": [
    "survived_sex_temp = {}\n",
    "for (survived, sex), group_data in data.groupby([\"survived\", \"sex\"]):\n",
    "    survived_sex_temp[survived, sex] = group_data.age.mean()\n",
    "survived_sex_temp"
   ]
  },
  {
   "cell_type": "code",
   "execution_count": 10,
   "metadata": {},
   "outputs": [
    {
     "name": "stdout",
     "output_type": "stream",
     "text": [
      "The mean age of survived male is 26.977777777777778\n",
      "The mean age of dead male is 31.51641166347992\n",
      "The mean age of survived female is 29.81535410958904\n",
      "The mean age of dead female is 25.255208333333332\n"
     ]
    }
   ],
   "source": [
    "survived_male = survived_sex_temp[(1, 'male')]\n",
    "dead_male = survived_sex_temp[(0, 'male')]\n",
    "survived_female = survived_sex_temp[(1, 'female')]\n",
    "dead_female = survived_sex_temp[(0, 'female')]\n",
    "\n",
    "print(\"The mean age of survived male is {}\".format(survived_male))\n",
    "print(\"The mean age of dead male is {}\".format(dead_male))\n",
    "print(\"The mean age of survived female is {}\".format(survived_female))\n",
    "print(\"The mean age of dead female is {}\".format(dead_female))\n",
    "\n"
   ]
  },
  {
   "cell_type": "markdown",
   "metadata": {},
   "source": [
    "### Q2: 생존자의 평균 티켓 가격과 사망자의 평균 티켓 가격을 구하고 비교하시오."
   ]
  },
  {
   "cell_type": "code",
   "execution_count": 11,
   "metadata": {},
   "outputs": [
    {
     "data": {
      "text/plain": [
       "33.29547928134572"
      ]
     },
     "execution_count": 11,
     "metadata": {},
     "output_type": "execute_result"
    }
   ],
   "source": [
    "data.fare.mean()"
   ]
  },
  {
   "cell_type": "code",
   "execution_count": 12,
   "metadata": {},
   "outputs": [
    {
     "name": "stdout",
     "output_type": "stream",
     "text": [
      "The Mean ticket price of survived is 49.36118360000002 Pounds\n",
      "The Mean ticket price of dead is 23.35383056930686 Pounds\n"
     ]
    }
   ],
   "source": [
    "survived = data[data.survived == 1]\n",
    "dead = data[data.survived == 0]\n",
    "survived_tprice_mean = survived.fare.mean() \n",
    "print(\"The Mean ticket price of survived is {} Pounds\".format(survived_tprice_mean))\n",
    "dead_tprice_mean = dead.fare.mean()\n",
    "print(\"The Mean ticket price of dead is {} Pounds\".format(dead_tprice_mean))\n"
   ]
  },
  {
   "cell_type": "markdown",
   "metadata": {},
   "source": [
    "### Q3: 질문을 스스로 만들고 답을 제시하시오."
   ]
  },
  {
   "cell_type": "code",
   "execution_count": 13,
   "metadata": {},
   "outputs": [],
   "source": [
    "data['fam'] = data.sibsp + data.parch"
   ]
  },
  {
   "cell_type": "code",
   "execution_count": 26,
   "metadata": {},
   "outputs": [
    {
     "name": "stdout",
     "output_type": "stream",
     "text": [
      "The number of survived who had family companion : 261\n",
      "The number of dead who had family companion : 258\n",
      "The number of survived who didn't have family companion : 239\n",
      "The number of dead who didn't have family companion : 551\n"
     ]
    }
   ],
   "source": [
    "# 생존자와 사망자의 가족 동반탑승 유무(sibsp & parch)\n",
    "\n",
    "survived_with_fam = 0 # 생존자 중 가족 동반탑승 O\n",
    "dead_with_fam = 0 # 사망자 중 가족 동반탑승 O\n",
    "survived_without_fam = 0 # 생존자 중 가족 동반탑승 X\n",
    "dead_without_fam = 0 # 사망자 중 가족 동반탑승 X\n",
    "\n",
    "for idx, row in data.iterrows():\n",
    "    if row['survived'] == 1:\n",
    "        if row['fam'] > 0:\n",
    "            survived_with_fam += 1\n",
    "        else:\n",
    "            survived_without_fam +=1\n",
    "    else:\n",
    "        if row['fam'] > 0:\n",
    "            dead_with_fam += 1\n",
    "        else:\n",
    "            dead_without_fam +=1\n",
    "\n",
    "print(\"The number of survived who had family companion : {}\".format(survived_with_fam))\n",
    "print(\"The number of dead who had family companion : {}\".format(dead_with_fam))\n",
    "print(\"The number of survived who didn't have family companion : {}\".format(survived_without_fam))\n",
    "print(\"The number of dead who didn't have family companion : {}\".format(dead_without_fam))"
   ]
  },
  {
   "cell_type": "markdown",
   "metadata": {},
   "source": [
    "### Q4: 질문을 스스로 만들고 답을 제시하시오."
   ]
  },
  {
   "cell_type": "code",
   "execution_count": 27,
   "metadata": {},
   "outputs": [
    {
     "name": "stdout",
     "output_type": "stream",
     "text": [
      "The survival rate of who were in first class is 61.92%\n",
      "The survival rate of who were in second class is 42.96%\n",
      "The survival rate of who were in third class is 25.53%\n"
     ]
    }
   ],
   "source": [
    "# 객실 위치에 따른 생존율(객실별 생존자 수 / 객실별 전체 탑승자 수) (pclass: 1,2,3)\n",
    "\n",
    "survived_first_class = len(data[(data.survived == 1) & (data.pclass == 1)]) / len(data[data.pclass == 1]) * 100\n",
    "survived_second_class = len(data[(data.survived == 1) & (data.pclass == 2)]) / len(data[data.pclass == 2]) * 100\n",
    "survived_third_class = len(data[(data.survived == 1) & (data.pclass == 3)]) / len(data[data.pclass == 3]) * 100\n",
    "\n",
    "print(\"The survival rate of who were in first class is {}%\".format(round(survived_first_class, 2)))\n",
    "print(\"The survival rate of who were in second class is {}%\".format(round(survived_second_class, 2)))\n",
    "print(\"The survival rate of who were in third class is {}%\".format(round(survived_third_class, 2)))\n"
   ]
  },
  {
   "cell_type": "markdown",
   "metadata": {},
   "source": [
    "### Q5: 질문을 스스로 만들고 답을 제시하시오."
   ]
  },
  {
   "cell_type": "code",
   "execution_count": 46,
   "metadata": {},
   "outputs": [
    {
     "name": "stdout",
     "output_type": "stream",
     "text": [
      "The nubmer of dead is 102 and the number of missing is 707\n"
     ]
    }
   ],
   "source": [
    "# 사망자와 실종자 수 (cabin 값이 null인 경우 실종)\n",
    "\n",
    "victim = data[data.survived == 0]\n",
    "\n",
    "dead = victim.cabin.notnull().sum()\n",
    "missing = victim.cabin.isnull().sum()\n",
    "\n",
    "print(\"The nubmer of dead is {} and the number of missing is {}\".format(dead, missing))"
   ]
  },
  {
   "cell_type": "code",
   "execution_count": null,
   "metadata": {},
   "outputs": [],
   "source": []
  }
 ],
 "metadata": {
  "kernelspec": {
   "display_name": "Python 3",
   "language": "python",
   "name": "python3"
  },
  "language_info": {
   "codemirror_mode": {
    "name": "ipython",
    "version": 3
   },
   "file_extension": ".py",
   "mimetype": "text/x-python",
   "name": "python",
   "nbconvert_exporter": "python",
   "pygments_lexer": "ipython3",
   "version": "3.7.3"
  }
 },
 "nbformat": 4,
 "nbformat_minor": 1
}
