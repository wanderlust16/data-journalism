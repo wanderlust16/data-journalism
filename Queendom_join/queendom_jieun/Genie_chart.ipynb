{
 "cells": [
  {
   "cell_type": "code",
   "execution_count": 37,
   "metadata": {},
   "outputs": [],
   "source": [
    "import pandas as pd\n",
    "import numpy as np\n",
    "import matplotlib.pyplot as plt"
   ]
  },
  {
   "cell_type": "code",
   "execution_count": 38,
   "metadata": {},
   "outputs": [],
   "source": [
    "data = pd.read_excel(\"genie_totalplay.xlsx\")"
   ]
  },
  {
   "cell_type": "code",
   "execution_count": 39,
   "metadata": {},
   "outputs": [
    {
     "data": {
      "text/plain": [
       "Index(['회차', 'Lovelyz', 'Mamamoo', 'ParkBom', 'AOA', '(G)IDLE', 'OMG'], dtype='object')"
      ]
     },
     "execution_count": 39,
     "metadata": {},
     "output_type": "execute_result"
    }
   ],
   "source": [
    "data.columns"
   ]
  },
  {
   "cell_type": "code",
   "execution_count": 40,
   "metadata": {},
   "outputs": [
    {
     "data": {
      "text/html": [
       "<div>\n",
       "<style scoped>\n",
       "    .dataframe tbody tr th:only-of-type {\n",
       "        vertical-align: middle;\n",
       "    }\n",
       "\n",
       "    .dataframe tbody tr th {\n",
       "        vertical-align: top;\n",
       "    }\n",
       "\n",
       "    .dataframe thead th {\n",
       "        text-align: right;\n",
       "    }\n",
       "</style>\n",
       "<table border=\"1\" class=\"dataframe\">\n",
       "  <thead>\n",
       "    <tr style=\"text-align: right;\">\n",
       "      <th></th>\n",
       "      <th>회차</th>\n",
       "      <th>Lovelyz</th>\n",
       "      <th>Mamamoo</th>\n",
       "      <th>ParkBom</th>\n",
       "      <th>AOA</th>\n",
       "      <th>(G)IDLE</th>\n",
       "      <th>OMG</th>\n",
       "    </tr>\n",
       "  </thead>\n",
       "  <tbody>\n",
       "    <tr>\n",
       "      <td>0</td>\n",
       "      <td>2(커버곡)</td>\n",
       "      <td>260184</td>\n",
       "      <td>1535508</td>\n",
       "      <td>471608</td>\n",
       "      <td>2619346.0</td>\n",
       "      <td>NaN</td>\n",
       "      <td>4123560</td>\n",
       "    </tr>\n",
       "    <tr>\n",
       "      <td>1</td>\n",
       "      <td>3(팬도라)</td>\n",
       "      <td>429142</td>\n",
       "      <td>840241</td>\n",
       "      <td>197428</td>\n",
       "      <td>NaN</td>\n",
       "      <td>1170085.0</td>\n",
       "      <td>736495</td>\n",
       "    </tr>\n",
       "    <tr>\n",
       "      <td>2</td>\n",
       "      <td>4(FINAL)</td>\n",
       "      <td>908111</td>\n",
       "      <td>4170054</td>\n",
       "      <td>578998</td>\n",
       "      <td>780419.0</td>\n",
       "      <td>7285789.0</td>\n",
       "      <td>2394975</td>\n",
       "    </tr>\n",
       "  </tbody>\n",
       "</table>\n",
       "</div>"
      ],
      "text/plain": [
       "         회차  Lovelyz  Mamamoo  ParkBom        AOA    (G)IDLE      OMG\n",
       "0    2(커버곡)   260184  1535508   471608  2619346.0        NaN  4123560\n",
       "1    3(팬도라)   429142   840241   197428        NaN  1170085.0   736495\n",
       "2  4(FINAL)   908111  4170054   578998   780419.0  7285789.0  2394975"
      ]
     },
     "execution_count": 40,
     "metadata": {},
     "output_type": "execute_result"
    }
   ],
   "source": [
    "data"
   ]
  },
  {
   "cell_type": "code",
   "execution_count": 41,
   "metadata": {},
   "outputs": [],
   "source": [
    "data = data.drop([\"회차\"], axis=1)"
   ]
  },
  {
   "cell_type": "code",
   "execution_count": 42,
   "metadata": {},
   "outputs": [
    {
     "data": {
      "text/html": [
       "<div>\n",
       "<style scoped>\n",
       "    .dataframe tbody tr th:only-of-type {\n",
       "        vertical-align: middle;\n",
       "    }\n",
       "\n",
       "    .dataframe tbody tr th {\n",
       "        vertical-align: top;\n",
       "    }\n",
       "\n",
       "    .dataframe thead th {\n",
       "        text-align: right;\n",
       "    }\n",
       "</style>\n",
       "<table border=\"1\" class=\"dataframe\">\n",
       "  <thead>\n",
       "    <tr style=\"text-align: right;\">\n",
       "      <th></th>\n",
       "      <th>Lovelyz</th>\n",
       "      <th>Mamamoo</th>\n",
       "      <th>ParkBom</th>\n",
       "      <th>AOA</th>\n",
       "      <th>(G)IDLE</th>\n",
       "      <th>OMG</th>\n",
       "    </tr>\n",
       "  </thead>\n",
       "  <tbody>\n",
       "    <tr>\n",
       "      <td>0</td>\n",
       "      <td>260184</td>\n",
       "      <td>1535508</td>\n",
       "      <td>471608</td>\n",
       "      <td>2619346.0</td>\n",
       "      <td>NaN</td>\n",
       "      <td>4123560</td>\n",
       "    </tr>\n",
       "    <tr>\n",
       "      <td>1</td>\n",
       "      <td>429142</td>\n",
       "      <td>840241</td>\n",
       "      <td>197428</td>\n",
       "      <td>NaN</td>\n",
       "      <td>1170085.0</td>\n",
       "      <td>736495</td>\n",
       "    </tr>\n",
       "    <tr>\n",
       "      <td>2</td>\n",
       "      <td>908111</td>\n",
       "      <td>4170054</td>\n",
       "      <td>578998</td>\n",
       "      <td>780419.0</td>\n",
       "      <td>7285789.0</td>\n",
       "      <td>2394975</td>\n",
       "    </tr>\n",
       "  </tbody>\n",
       "</table>\n",
       "</div>"
      ],
      "text/plain": [
       "   Lovelyz  Mamamoo  ParkBom        AOA    (G)IDLE      OMG\n",
       "0   260184  1535508   471608  2619346.0        NaN  4123560\n",
       "1   429142   840241   197428        NaN  1170085.0   736495\n",
       "2   908111  4170054   578998   780419.0  7285789.0  2394975"
      ]
     },
     "execution_count": 42,
     "metadata": {},
     "output_type": "execute_result"
    }
   ],
   "source": [
    "data"
   ]
  },
  {
   "cell_type": "code",
   "execution_count": 43,
   "metadata": {},
   "outputs": [],
   "source": [
    "data.index = ['Stage2(Cover)','Stage3(Fandora)', 'Stage4(Final)']"
   ]
  },
  {
   "cell_type": "code",
   "execution_count": 44,
   "metadata": {},
   "outputs": [
    {
     "data": {
      "text/html": [
       "<div>\n",
       "<style scoped>\n",
       "    .dataframe tbody tr th:only-of-type {\n",
       "        vertical-align: middle;\n",
       "    }\n",
       "\n",
       "    .dataframe tbody tr th {\n",
       "        vertical-align: top;\n",
       "    }\n",
       "\n",
       "    .dataframe thead th {\n",
       "        text-align: right;\n",
       "    }\n",
       "</style>\n",
       "<table border=\"1\" class=\"dataframe\">\n",
       "  <thead>\n",
       "    <tr style=\"text-align: right;\">\n",
       "      <th></th>\n",
       "      <th>Lovelyz</th>\n",
       "      <th>Mamamoo</th>\n",
       "      <th>ParkBom</th>\n",
       "      <th>AOA</th>\n",
       "      <th>(G)IDLE</th>\n",
       "      <th>OMG</th>\n",
       "    </tr>\n",
       "  </thead>\n",
       "  <tbody>\n",
       "    <tr>\n",
       "      <td>Stage2(Cover)</td>\n",
       "      <td>260184</td>\n",
       "      <td>1535508</td>\n",
       "      <td>471608</td>\n",
       "      <td>2619346.0</td>\n",
       "      <td>NaN</td>\n",
       "      <td>4123560</td>\n",
       "    </tr>\n",
       "    <tr>\n",
       "      <td>Stage3(Fandora)</td>\n",
       "      <td>429142</td>\n",
       "      <td>840241</td>\n",
       "      <td>197428</td>\n",
       "      <td>NaN</td>\n",
       "      <td>1170085.0</td>\n",
       "      <td>736495</td>\n",
       "    </tr>\n",
       "    <tr>\n",
       "      <td>Stage4(Final)</td>\n",
       "      <td>908111</td>\n",
       "      <td>4170054</td>\n",
       "      <td>578998</td>\n",
       "      <td>780419.0</td>\n",
       "      <td>7285789.0</td>\n",
       "      <td>2394975</td>\n",
       "    </tr>\n",
       "  </tbody>\n",
       "</table>\n",
       "</div>"
      ],
      "text/plain": [
       "                 Lovelyz  Mamamoo  ParkBom        AOA    (G)IDLE      OMG\n",
       "Stage2(Cover)     260184  1535508   471608  2619346.0        NaN  4123560\n",
       "Stage3(Fandora)   429142   840241   197428        NaN  1170085.0   736495\n",
       "Stage4(Final)     908111  4170054   578998   780419.0  7285789.0  2394975"
      ]
     },
     "execution_count": 44,
     "metadata": {},
     "output_type": "execute_result"
    }
   ],
   "source": [
    "data"
   ]
  },
  {
   "cell_type": "code",
   "execution_count": 53,
   "metadata": {},
   "outputs": [
    {
     "data": {
      "text/plain": [
       "<matplotlib.axes._subplots.AxesSubplot at 0x115a6e250>"
      ]
     },
     "execution_count": 53,
     "metadata": {},
     "output_type": "execute_result"
    },
    {
     "data": {
      "image/png": "[encoded data removed]",
      "text/plain": [
       "<Figure size 1440x864 with 1 Axes>"
      ]
     },
     "metadata": {
      "needs_background": "light"
     },
     "output_type": "display_data"
    }
   ],
   "source": [
    "import matplotlib.pyplot as plt\n",
    "\n",
    "data.plot(kind='bar', rot=0, width=0.8, figsize=(20,12), legend=(4,4), fontsize=30)"
   ]
  }
 ],
 "metadata": {
  "kernelspec": {
   "display_name": "Python 3",
   "language": "python",
   "name": "python3"
  },
  "language_info": {
   "codemirror_mode": {
    "name": "ipython",
    "version": 3
   },
   "file_extension": ".py",
   "mimetype": "text/x-python",
   "name": "python",
   "nbconvert_exporter": "python",
   "pygments_lexer": "ipython3",
   "version": "3.7.4"
  }
 },
 "nbformat": 4,
 "nbformat_minor": 2
}
