{
 "cells": [
  {
   "cell_type": "code",
   "execution_count": 16,
   "metadata": {
    "scrolled": false
   },
   "outputs": [
    {
     "name": "stderr",
     "output_type": "stream",
     "text": [
      "[nltk_data] Downloading package vader_lexicon to\n",
      "[nltk_data]     C:\\Users\\LG\\AppData\\Roaming\\nltk_data...\n",
      "[nltk_data]   Package vader_lexicon is already up-to-date!\n"
     ]
    }
   ],
   "source": [
    "import nltk\n",
    "from nltk.sentiment.vader import SentimentIntensityAnalyzer\n",
    "import pandas as pd\n",
    "\n",
    "nltk.download(\"vader_lexicon\")\n",
    "sid = SentimentIntensityAnalyzer()\n",
    "\n",
    "\n",
    "for artist in [\"AOA\",\"오마이걸\",\"마마무\",\"박봄\",\"러블리즈\",\"아이들\"]:\n",
    "    f_eng = open(\"data/english_comments/english_comments_{}.txt\".format(artist), \"r\" , encoding=\"utf-8\")\n",
    "    f_ko_to_eng = open(\"data/ko_to_eng_comments/ko_to_eng_{}.txt\".format(artist), \"r\" , encoding=\"utf-8\")\n",
    "    f_eng_text = f_eng.read()\n",
    "    f_ko_to_eng_text = f_ko_to_eng.read()    \n",
    "    merged_text = f_ko_to_eng_text + f_eng_text\n",
    "    merged_text_list = merged_text.split(\"\\n=\\n\")\n",
    "    #print(merged_text_list)\n",
    "    comments_and_sentiment=[]\n",
    "    for text in merged_text_list:\n",
    "        #print(text)\n",
    "        ss = sid.polarity_scores(text)\n",
    "        \"\"\"for k in sorted(ss):\n",
    "            print('{0}: {1}, '.format(k, ss[k]), end='')\n",
    "        print()\"\"\"\n",
    "        if (ss[\"pos\"] > ss[\"neg\"]) and (ss[\"pos\"] > ss[\"neu\"]):\n",
    "            comments_and_sentiment.append([text,ss[\"compound\"], ss[\"neg\"], ss[\"neu\"], ss[\"pos\"], \"2\"]) #very positive\n",
    "        elif (ss[\"pos\"] > ss[\"neg\"]) and (ss[\"pos\"] <= ss[\"neu\"]): \n",
    "            comments_and_sentiment.append([text,ss[\"compound\"], ss[\"neg\"], ss[\"neu\"], ss[\"pos\"], \"1\"]) #slightly positive\n",
    "        elif ss[\"pos\"] == ss[\"neg\"] :\n",
    "            comments_and_sentiment.append([text,ss[\"compound\"], ss[\"neg\"], ss[\"neu\"], ss[\"pos\"], \"0\"]) #neutral\n",
    "        elif (ss[\"neg\"] > ss[\"pos\"]) and (ss[\"neg\"] <= ss[\"neu\"]): \n",
    "            comments_and_sentiment.append([text,ss[\"compound\"], ss[\"neg\"], ss[\"neu\"], ss[\"pos\"], \"-1\"]) #slightly negative           \n",
    "        else: \n",
    "            comments_and_sentiment.append([text,ss[\"compound\"], ss[\"neg\"], ss[\"neu\"], ss[\"pos\"], \"-2\"]) #very negative\n",
    "    df = pd.DataFrame(comments_and_sentiment,columns=[\"comment\", \"compound\", \"negative\" , \"neutral\", \"positive\", \"pos_neg_intensity\"])\n",
    "    df.to_csv(\"data/comments_and_sentiment/sentiment_analysis_{}.csv\".format(artist), encoding=\"utf-8\")\n",
    "    "
   ]
  },
  {
   "cell_type": "code",
   "execution_count": 17,
   "metadata": {},
   "outputs": [
    {
     "name": "stdout",
     "output_type": "stream",
     "text": [
      "Artist :AOA\n",
      "mean_positive : 0.20299305448371663\n",
      "mean_negative : 0.05511467819107887\n",
      "positive or negative(-2 to 2) : 0.5081031023306066\n",
      "=====\n",
      "Artist :오마이걸\n",
      "mean_positive : 0.20959184983154178\n",
      "mean_negative : 0.04710203754211455\n",
      "positive or negative(-2 to 2) : 0.5742018289748115\n",
      "=====\n",
      "Artist :마마무\n",
      "mean_positive : 0.20026254468423144\n",
      "mean_negative : 0.059585197934595525\n",
      "positive or negative(-2 to 2) : 0.4833840857937243\n",
      "=====\n",
      "Artist :박봄\n",
      "mean_positive : 0.1630205433166644\n",
      "mean_negative : 0.08749128260575753\n",
      "positive or negative(-2 to 2) : 0.2654412758480876\n",
      "=====\n",
      "Artist :러블리즈\n",
      "mean_positive : 0.20461862942700834\n",
      "mean_negative : 0.05359170745752951\n",
      "positive or negative(-2 to 2) : 0.5185718399078606\n",
      "=====\n",
      "Artist :아이들\n",
      "mean_positive : 0.16537948501477415\n",
      "mean_negative : 0.06300365836499226\n",
      "positive or negative(-2 to 2) : 0.36260025327142253\n",
      "=====\n"
     ]
    }
   ],
   "source": [
    "import pandas as pd\n",
    "import numpy as np\n",
    "\n",
    "for artist in [\"AOA\",\"오마이걸\",\"마마무\",\"박봄\",\"러블리즈\",\"아이들\"]:\n",
    "    df = pd.read_csv(\"data/comments_and_sentiment/sentiment_analysis_{}.csv\".format(artist))\n",
    "    print(\"Artist :{}\".format(artist))\n",
    "    print(\"mean_positive : {}\".format(df[\"positive\"].mean()))\n",
    "    print(\"mean_negative : {}\".format(df[\"negative\"].mean()))\n",
    "    print(\"positive or negative(-2 to 2) : {}\".format(df[\"pos_neg_intensity\"].mean()))\n",
    "    print(\"=====\")"
   ]
  },
  {
   "cell_type": "code",
   "execution_count": null,
   "metadata": {},
   "outputs": [],
   "source": []
  },
  {
   "cell_type": "code",
   "execution_count": null,
   "metadata": {},
   "outputs": [],
   "source": []
  }
 ],
 "metadata": {
  "kernelspec": {
   "display_name": "Python 3",
   "language": "python",
   "name": "python3"
  },
  "language_info": {
   "codemirror_mode": {
    "name": "ipython",
    "version": 3
   },
   "file_extension": ".py",
   "mimetype": "text/x-python",
   "name": "python",
   "nbconvert_exporter": "python",
   "pygments_lexer": "ipython3",
   "version": "3.7.5"
  }
 },
 "nbformat": 4,
 "nbformat_minor": 2
}
