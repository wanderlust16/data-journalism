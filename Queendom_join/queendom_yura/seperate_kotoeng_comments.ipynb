{
 "cells": [
  {
   "cell_type": "code",
   "execution_count": 25,
   "metadata": {},
   "outputs": [],
   "source": [
    "import re\n",
    "\n",
    "# function : Get rid of emojis (source : koNLPy] kernal shut-down 될때!  이모티콘/기호 제외하기|작성자 데이터공방 )\n",
    "def strip_e(alist):\n",
    "    RE_EMOJI = re.compile('[\\U00010000-\\U0010ffff]', flags=re.UNICODE)\n",
    "    processed_alist =[]\n",
    "    for item in alist :\n",
    "        processed_item = RE_EMOJI.sub(r\"\", item)\n",
    "        processed_alist.append(processed_item)\n",
    "    return processed_alist \n",
    "\n",
    "\n",
    "# function : Detect if Korean (source : https://blog.naver.com/chandong83/221142971719)\n",
    "def isHangul(text):\n",
    "    encText = text\n",
    "    hanCount = len(re.findall(u'[\\u3130-\\u318F\\uAC00-\\uD7A3]+', encText))\n",
    "    return hanCount > 0\n",
    "\n",
    "\n",
    "#Get only Korean Comments\n",
    "for turn in [\"1차경연 \", \"2차경연 \",\"3차경연 \",\"4차경연 \"]:\n",
    "    for artist in [\"AOA\",\"오마이걸\",\"마마무\",\"박봄\",\"러블리즈\",\"아이들\"]:\n",
    "        \n",
    "        with open(\"data/raw_comments/comments_{}{}.txt\".format(str(turn), artist), encoding=\"utf-8\") as f:\n",
    "                    lines = f.read().split(\"\\n=\\n\")\n",
    "        processed_lines = strip_e(lines)\n",
    "        \n",
    "        ko_sentences = [line for line in processed_lines if (isHangul(line))]\n",
    "        ko_sentences_string = \"\\n=\\n\".join(ko_sentences)\n",
    "        \n",
    "        eng_sentences = [line for line in processed_lines if not (isHangul(line))]\n",
    "        eng_sentences_string = \"\\n=\\n\".join(eng_sentences)\n",
    "        \n",
    "        file_ko = open(\"data/korean_comments/korean_comments_{}.txt\".format(artist), \"a\", encoding=\"utf-8\")\n",
    "        file_ko.write(ko_sentences_string.replace(\"\\n\\n\",\"\\n\"))\n",
    "        file_ko.close()\n",
    "        \n",
    "        file_eng = open(\"data/english_comments/english_comments_{}.txt\".format(artist), \"a\", encoding=\"utf-8\")\n",
    "        file_eng.write(eng_sentences_string.replace(\"\\n\\n\",\"\\n\"))\n",
    "        file_eng.close()\n",
    "    "
   ]
  },
  {
   "cell_type": "code",
   "execution_count": null,
   "metadata": {},
   "outputs": [],
   "source": []
  }
 ],
 "metadata": {
  "kernelspec": {
   "display_name": "Python 3",
   "language": "python",
   "name": "python3"
  },
  "language_info": {
   "codemirror_mode": {
    "name": "ipython",
    "version": 3
   },
   "file_extension": ".py",
   "mimetype": "text/x-python",
   "name": "python",
   "nbconvert_exporter": "python",
   "pygments_lexer": "ipython3",
   "version": "3.7.5"
  }
 },
 "nbformat": 4,
 "nbformat_minor": 2
}
