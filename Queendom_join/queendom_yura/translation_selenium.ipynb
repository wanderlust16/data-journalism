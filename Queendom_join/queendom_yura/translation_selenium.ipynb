{
 "cells": [
  {
   "cell_type": "code",
   "execution_count": 7,
   "metadata": {},
   "outputs": [],
   "source": []
  },
  {
   "cell_type": "code",
   "execution_count": 1,
   "metadata": {},
   "outputs": [],
   "source": [
    "# code source : https://blog.naver.com/stelch/221488010218\n",
    "\n",
    "import pandas as pd\n",
    "import numpy as np\n",
    "import re\n",
    "import time\n",
    "import os\n",
    "import requests\n",
    "from selenium import webdriver\n",
    "from selenium.webdriver.support.ui import WebDriverWait\n",
    "from bs4 import BeautifulSoup as bs\n",
    "\n",
    "driver = webdriver.Chrome()\n",
    "base_url = \"https://translate.google.com/\"\n",
    "\n",
    "for artist in [\"AOA\",\"오마이걸\",\"마마무\",\"박봄\",\"러블리즈\",\"아이들\"]:  \n",
    "    driver.get(base_url)\n",
    "    time.sleep(40) #직접 해당 아티스트의 한글 댓글(data/korean_comments_{그룹이름}.txt) 붙여넣기\n",
    "    comments_list =[]\n",
    "    for i in range(0,100):\n",
    "        soup = bs(driver.page_source, 'html.parser')\n",
    "        time.sleep(3)\n",
    "        comments = soup.find(\"span\",\"tlid-translation translation\")\n",
    "        for comment in comments.contents:\n",
    "            try : \n",
    "                if type(comment) != type(comments.contents[1]):\n",
    "                    comment = re.sub('<.+?>',\"\", comment, 0).strip()\n",
    "                    comments_list.append(comment)\n",
    "            except:\n",
    "                pass\n",
    "        try : \n",
    "            driver.find_element_by_css_selector(\"span#gt-ovfl-xlt\").click()\n",
    "            time.sleep(3)\n",
    "        except:\n",
    "            break\n",
    "\n",
    "    comments_string = \"\\n\".join(comments_list)\n",
    "    file = open(\"data/ko_to_eng_comments/ko_to_eng_{}.txt\".format(artist),\"a\",encoding=\"utf-8\")  \n",
    "    file.write(comments_string)\n",
    "    file.close() \n",
    "\n"
   ]
  },
  {
   "cell_type": "code",
   "execution_count": 5,
   "metadata": {},
   "outputs": [],
   "source": []
  },
  {
   "cell_type": "code",
   "execution_count": null,
   "metadata": {},
   "outputs": [],
   "source": []
  }
 ],
 "metadata": {
  "kernelspec": {
   "display_name": "Python 3",
   "language": "python",
   "name": "python3"
  },
  "language_info": {
   "codemirror_mode": {
    "name": "ipython",
    "version": 3
   },
   "file_extension": ".py",
   "mimetype": "text/x-python",
   "name": "python",
   "nbconvert_exporter": "python",
   "pygments_lexer": "ipython3",
   "version": "3.7.5"
  }
 },
 "nbformat": 4,
 "nbformat_minor": 2
}
