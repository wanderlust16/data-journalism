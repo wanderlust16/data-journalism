{
 "cells": [
  {
   "cell_type": "code",
   "execution_count": 5,
   "metadata": {},
   "outputs": [],
   "source": [
    "import requests\n",
    "import bs4\n",
    "import pandas as pd\n",
    "\n",
    "url = 'https://movie.naver.com/movie/bi/mi/pointWriteFormList.nhn?code=167613&type=after&isActualPointWriteExecute=false&isMileageSubscriptionAlready=false&isMileageSubscriptionReject=false&page={}'\n",
    "\n",
    "count = 0\n",
    "score_result = dict()\n",
    "\n",
    "for page in range(0,3):\n",
    "    res = requests.get(url.format(1))\n",
    "    obj = bs4.BeautifulSoup(res.text)\n",
    "    list2 = obj.find_all('div', {'class':'score_result'})[0].find_all('li')\n",
    "    \n",
    "    for li in list2:\n",
    "        score_result[count] = {'score': int(li.em.text), 'reply' : li.p.text}\n",
    "        count += 1\n",
    "\n",
    "df = pd.DataFrame(score_result).T\n",
    "df.to_excel('score_result.xlsx')"
   ]
  },
  {
   "cell_type": "code",
   "execution_count": 3,
   "metadata": {},
   "outputs": [
    {
     "name": "stdout",
     "output_type": "stream",
     "text": [
      "Requirement already satisfied: xlwt in /Users/user/opt/anaconda3/lib/python3.7/site-packages (1.3.0)\n",
      "Note: you may need to restart the kernel to use updated packages.\n"
     ]
    }
   ],
   "source": [
    "pip install xlwt"
   ]
  },
  {
   "cell_type": "code",
   "execution_count": null,
   "metadata": {},
   "outputs": [],
   "source": []
  }
 ],
 "metadata": {
  "kernelspec": {
   "display_name": "Python 3",
   "language": "python",
   "name": "python3"
  },
  "language_info": {
   "codemirror_mode": {
    "name": "ipython",
    "version": 3
   },
   "file_extension": ".py",
   "mimetype": "text/x-python",
   "name": "python",
   "nbconvert_exporter": "python",
   "pygments_lexer": "ipython3",
   "version": "3.7.4"
  }
 },
 "nbformat": 4,
 "nbformat_minor": 2
}
