{
 "cells": [
  {
   "cell_type": "markdown",
   "metadata": {},
   "source": [
    "# Week 2 - Python Crash Course 1\n",
    "\n",
    "Python의 기본 문법을 학습하자. Python Crash Course 1에서는 Python이 기본으로 제공하는 data type, module을 사용하는 방법 등에 대해 다룬다.\n",
    "\n",
    "(most) code examples from \"Data Science from Scratch\""
   ]
  },
  {
   "cell_type": "markdown",
   "metadata": {},
   "source": [
    "## The Zen of Python\n",
    "\n",
    "파이썬은 간결함을 생명으로 한다. 다른 언어가 문제의 해결에 다양한 해법이 있음을 강조하고 있다면 파이썬은 '가장 아름다운 하나의 답이 존재한다'라는 명제를 바탕으로 다음과 철학에 기반하여 개발되었다.\n",
    "* 아름다운 것이 추한 것보다 낫다. (Beautiful is better than ugly)\n",
    "* 명시적인 것이 암시적인 것보다 낫다. (Explicit is better than implicit)\n",
    "* 간결한 것이 복잡한 것보다 낫다. (Simple is better than complex)\n",
    "* 정교한 것이 난잡한 것보다 낫다. (Complex is better than complicated)\n",
    "\n",
    "(read more => import this)"
   ]
  },
  {
   "cell_type": "code",
   "execution_count": null,
   "metadata": {
    "scrolled": true
   },
   "outputs": [],
   "source": [
    "import this"
   ]
  },
  {
   "cell_type": "markdown",
   "metadata": {},
   "source": [
    "## Whitespace Formatting\n",
    "\n",
    "C나 Java와 같은 언어는 괄호(curly brace)와 같은 형태로 코드가 구성되어 있으나 파이썬은 인덴트(indentation)을 사용하여 코드를 구성한다."
   ]
  },
  {
   "cell_type": "code",
   "execution_count": null,
   "metadata": {
    "scrolled": true
   },
   "outputs": [],
   "source": [
    "for i in [1, 2, 3, 4, 5]:\n",
    "    print(i)                     # first line in \"for i\" block\n",
    "    for j in [1, 2, 3, 4, 5]:\n",
    "        print(j)                # first line in \"for j\" block\n",
    "        print(i + j)             # last line in \"for j\" block\n",
    "    print(i)                     # last line in \"for i\" block\n",
    "print(\"done looping\")"
   ]
  },
  {
   "cell_type": "markdown",
   "metadata": {},
   "source": [
    "화이트스페이스(=인덴트)는 코드 블럭의 시작과 끝을 알려주지만 괄호 안에 들어간 화이트스페이스는 무시된다."
   ]
  },
  {
   "cell_type": "code",
   "execution_count": null,
   "metadata": {
    "collapsed": true
   },
   "outputs": [],
   "source": [
    "long_winded_computation=(1 + 2 + 3 + 4 + 5 + 6 + 7 + 8 + 9 + 10 + 11 + 12 +\n",
    "                         13 + 14 + 15 + 16 + 17 + 18 + 19 + 20)"
   ]
  },
  {
   "cell_type": "markdown",
   "metadata": {},
   "source": [
    "그래서 **list_of_lists = [[1, 2, 3], [4, 5, 6], [7, 8, 9]]** 과 같은 코드는 다음과 같이 작성하는 것이 데이터의 이해에 도움이 된다."
   ]
  },
  {
   "cell_type": "code",
   "execution_count": null,
   "metadata": {
    "collapsed": true
   },
   "outputs": [],
   "source": [
    " easier_to_read_list_of_lists = [ [1, 2, 3],\n",
    "                                  [4, 5, 6],\n",
    "                                  [7, 8, 9] ]"
   ]
  },
  {
   "cell_type": "markdown",
   "metadata": {},
   "source": [
    "## Commenting the Codes\n",
    "\n",
    "커맨트는 코드의 일부분 중 실행되지 않는 부분을 의미한다. 에러가 나는 부분을 잠시 실행이 되지 않도록 지워두거나 특정한 코드의 설명을 추가할 때 사용한다. 한줄을 커맨트 하기 위한 방법(#)과 여러 줄을 커맨트하기 위한 방법(\"\"\") 등이 있다."
   ]
  },
  {
   "cell_type": "code",
   "execution_count": 2,
   "metadata": {},
   "outputs": [],
   "source": [
    "# This is a comment in Python\n",
    "print(\"Hello World\") # This is also a comment in Python\n",
    "\n",
    "\"\"\" This is an example of a multiline\n",
    "comment that spans multiple lines\n",
    "...\n",
    "\"\"\""
   ]
  },
  {
   "cell_type": "markdown",
   "metadata": {},
   "source": [
    "## Modules\n",
    "\n",
    "모든 언어는 기본으로 제공하는 기능만으로는 부족하다. 그래서 누군가 만들어 놓은 외부 확장 라이브러리를 불러와서 사용하곤 하는데, 파이썬에서는 이를 모듈이라고 부른다. 모듈은 파이썬이 가진 기능을 확장해준다. "
   ]
  },
  {
   "cell_type": "code",
   "execution_count": null,
   "metadata": {
    "collapsed": true
   },
   "outputs": [],
   "source": [
    "import re  # 이 모듈은 파이썬에서 정규식(regular expression)을 사용하기 위해 만들어졌다.\n",
    "my_regex = re.compile(\"[0-9]+\", re.I)"
   ]
  },
  {
   "cell_type": "markdown",
   "metadata": {},
   "source": [
    "(참고) [위키피디아:정규식이란?](https://ko.wikipedia.org/wiki/%EC%A0%95%EA%B7%9C_%ED%91%9C%ED%98%84%EC%8B%9D)"
   ]
  },
  {
   "cell_type": "code",
   "execution_count": null,
   "metadata": {
    "collapsed": true
   },
   "outputs": [],
   "source": [
    "import re as regex  # 만일 이미 re 라는 변수가 사용되었다면 re as regex 라고 쓴다.\n",
    "my_regex = regex.compile(\"[0-9]+\", regex.I)"
   ]
  },
  {
   "cell_type": "markdown",
   "metadata": {},
   "source": [
    "다른 예"
   ]
  },
  {
   "cell_type": "code",
   "execution_count": null,
   "metadata": {
    "collapsed": true
   },
   "outputs": [],
   "source": [
    "import matplotlib.pyplot as plt # 길어서 plt로 줄여서 불러왔다. 매번 저 모듈명을 다 쓸 수는 없으니까\n",
    "import numpy as np"
   ]
  },
  {
   "cell_type": "markdown",
   "metadata": {
    "collapsed": true
   },
   "source": [
    "모듈에 있는 변수나 함수를 다 가져올 필요가 없는 경우 다음과 같이 필요한 것들만 선택하여 가져올 수 있다."
   ]
  },
  {
   "cell_type": "code",
   "execution_count": null,
   "metadata": {
    "collapsed": true
   },
   "outputs": [],
   "source": [
    "from collections import defaultdict, Counter"
   ]
  },
  {
   "cell_type": "code",
   "execution_count": null,
   "metadata": {},
   "outputs": [],
   "source": []
  },
  {
   "cell_type": "markdown",
   "metadata": {},
   "source": [
    "## Value Assign\n",
    "\n",
    "파이썬에서 변수에 값을 대입하기 위해서는 다음과 같이 한다. 다른 언어와 달리 파이썬은 특정한 데이터 타입을 지정하여 변수를 생성하지 않는다.\n",
    "한 변수(d)가 다른 변수(c)를 참조했을 때, 새로운 변수의 값을 바꾸면 참조한 변수의 값 또한 바뀐다."
   ]
  },
  {
   "cell_type": "code",
   "execution_count": null,
   "metadata": {},
   "outputs": [],
   "source": [
    "a = \"my string\"\n",
    "b = 1027\n",
    "c = [1, 2, 3]\n",
    "d = c\n",
    "d.append(4)\n",
    "print(d) # 출력값이 [1,2,3,4]\n",
    "print(c) # 출력값이 역시 [1,2,3,4]"
   ]
  },
  {
   "cell_type": "markdown",
   "metadata": {},
   "source": [
    "리스트의 값을 복사하면서 참조한 원본 변수와는 다른 리스트를 만들기 위해서는 다음과 같이 한다."
   ]
  },
  {
   "cell_type": "code",
   "execution_count": 1,
   "metadata": {},
   "outputs": [
    {
     "name": "stdout",
     "output_type": "stream",
     "text": [
      "original:  [1, 2, 3]\n",
      "duplicated:  [1, 2, 3]\n",
      "original:  [1, 2, 3]\n",
      "duplicated:  [1, 2, 3, 4]\n"
     ]
    }
   ],
   "source": [
    "#1. [:]를 사용\n",
    "orig = [1, 2, 3]\n",
    "dupe = orig[:]\n",
    "print(\"original: \", orig)\n",
    "print(\"duplicated: \", dupe)\n",
    "dupe.append(4)\n",
    "print(\"original: \", orig)\n",
    "print(\"duplicated: \", dupe)"
   ]
  },
  {
   "cell_type": "code",
   "execution_count": null,
   "metadata": {},
   "outputs": [],
   "source": [
    "#2. copy 모듈을 이용\n",
    "from copy import copy\n",
    "orig = [1, 2, 3]\n",
    "dupe = copy(orig)\n",
    "print(\"original: \", orig)\n",
    "print(\"duplicated: \", dupe)\n",
    "dupe.append(4)\n",
    "print(\"original: \", orig)\n",
    "print(\"duplicated: \", dupe)"
   ]
  },
  {
   "cell_type": "markdown",
   "metadata": {},
   "source": [
    "## Interactive Program\n",
    "\n",
    "사용자의 입력을 받아서 처리하기 위해서는 input() 메소드를 사용한다."
   ]
  },
  {
   "cell_type": "code",
   "execution_count": 2,
   "metadata": {},
   "outputs": [
    {
     "name": "stdout",
     "output_type": "stream",
     "text": [
      "Hello there, and what's your name?zig\n",
      "Nice to meet you, zig.\n"
     ]
    }
   ],
   "source": [
    "name = input(\"Hello there, and what's your name?\")\n",
    "print(\"Nice to meet you, \" + name + \".\")"
   ]
  },
  {
   "cell_type": "markdown",
   "metadata": {},
   "source": [
    "## Arithmetic\n",
    "\n",
    "파이썬은 기본적인 연산기능을 제공한다. 복잡한 계산을 위해서는 math 등의 모듈을 import 해서 사용한다."
   ]
  },
  {
   "cell_type": "code",
   "execution_count": null,
   "metadata": {},
   "outputs": [],
   "source": [
    "print(1 + 2)\n",
    "print(1 - 2)\n",
    "print(5 * 3)\n",
    "print(5 / 3)"
   ]
  },
  {
   "cell_type": "markdown",
   "metadata": {},
   "source": [
    "파이썬에서는 (다른 언어와 마찬가지로) 기본적으로 정수의 연산을 제공한다. 따라서 5/3과 같은 경우 위의 예와 같이 1이 출력된다. 이 문제 때문에 종종 계산의 문제가 발생하곤 한다. 이 문제를 해결하기 위해서 일반적으로 세가지 방법이 사용된다. (Python 2에 한함. Python 3에서는 실수 연산이 기본적으로 제공된다.)"
   ]
  },
  {
   "cell_type": "code",
   "execution_count": null,
   "metadata": {},
   "outputs": [],
   "source": [
    "#1. 숫자를 float(실수)로 바꾸어 사용\n",
    "print(5 / 3.0)\n",
    "\n",
    "#2. casting (예: float(), int(), str()...) cf) casting = 형 변환\n",
    "print(float(5) / float(3))\n",
    "\n",
    "#3. 실수연산 모듈 사용 cf) __future__ = '앞으로는', division은 실수 연산을 가능케 해줌\n",
    "from __future__ import division\n",
    "print(5 / 3)"
   ]
  },
  {
   "cell_type": "markdown",
   "metadata": {},
   "source": [
    "나머지의 계산"
   ]
  },
  {
   "cell_type": "code",
   "execution_count": null,
   "metadata": {},
   "outputs": [],
   "source": [
    "print(5 % 3)\n",
    "print(7 % 2)"
   ]
  },
  {
   "cell_type": "markdown",
   "metadata": {},
   "source": [
    "'나머지'는 코딩할 때 매우 자주 사용하게 된다. 다음과 같이 숫자를 증가시키고 나머지를 이용하여 (아웃풋) 발생주기를 제어할 수 있다."
   ]
  },
  {
   "cell_type": "code",
   "execution_count": 3,
   "metadata": {},
   "outputs": [
    {
     "name": "stdout",
     "output_type": "stream",
     "text": [
      "0 - 0 : Hello\n",
      "1 - 1 : Python\n",
      "2 - 2 : World!\n",
      "3 - 0 : Hello\n",
      "4 - 1 : Python\n",
      "5 - 2 : World!\n",
      "6 - 0 : Hello\n",
      "7 - 1 : Python\n",
      "8 - 2 : World!\n",
      "9 - 0 : Hello\n",
      "10 - 1 : Python\n",
      "11 - 2 : World!\n",
      "12 - 0 : Hello\n",
      "13 - 1 : Python\n",
      "14 - 2 : World!\n",
      "15 - 0 : Hello\n",
      "16 - 1 : Python\n",
      "17 - 2 : World!\n",
      "18 - 0 : Hello\n",
      "19 - 1 : Python\n",
      "20 - 2 : World!\n"
     ]
    }
   ],
   "source": [
    "for i in range(21):\n",
    "    flag = i % 3\n",
    "    if flag == 0:\n",
    "        print(i, \"-\", flag, \": Hello\")\n",
    "    elif flag == 1:\n",
    "        print(i, \"-\", flag, \": Python\")\n",
    "    else:\n",
    "        print(i, \"-\", flag, \": World!\")"
   ]
  },
  {
   "cell_type": "markdown",
   "metadata": {},
   "source": [
    "## Functions\n",
    "\n",
    "Function은 같은 기능을 반복하기 위해 사용한다. 인자(parameter)를 가지는 경우도 있고 그렇지 않은 경우도 있다. \n",
    "\n",
    "Function을 만들기 위해서는 다음과 같은 구조를 사용한다.\n",
    "\n",
    "\n",
    "```def function_name(param1, param2, ...):\n",
    "    \"\"\" function description\"\"\"\n",
    "    function code\n",
    "    (if needed) return value\n",
    "```"
   ]
  },
  {
   "cell_type": "code",
   "execution_count": null,
   "metadata": {},
   "outputs": [],
   "source": [
    "def hello():\n",
    "    print(\"hello, my friend.\")\n",
    "    \n",
    "hello()"
   ]
  },
  {
   "cell_type": "code",
   "execution_count": 4,
   "metadata": {},
   "outputs": [
    {
     "name": "stdout",
     "output_type": "stream",
     "text": [
      "hello, joonhwan\n",
      "hello, nicole\n",
      "hello, my friend\n"
     ]
    }
   ],
   "source": [
    "def hello(name=\"my friend\"): # name이 지정이 안 되면 원래 오류가 나는데, name을 지정하지 않았을 시 \"my friend\"를 출력하라는 명령\n",
    "    print(\"hello, \" + name) # print를 사용, 화면에 값을 출력해주기만 함\n",
    "\n",
    "hello(\"joonhwan\")\n",
    "hello(\"nicole\")\n",
    "hello()"
   ]
  },
  {
   "cell_type": "code",
   "execution_count": 7,
   "metadata": {},
   "outputs": [
    {
     "data": {
      "text/plain": [
       "8"
      ]
     },
     "execution_count": 7,
     "metadata": {},
     "output_type": "execute_result"
    }
   ],
   "source": [
    "def double(x):\n",
    "    \"\"\"this is where you put an optional docstring\n",
    "    that explains what the function does.\n",
    "    for example, this function multiplies its input by 2\"\"\" \n",
    "    return x * 2\n",
    "\n",
    "double(4)"
   ]
  },
  {
   "cell_type": "code",
   "execution_count": 8,
   "metadata": {},
   "outputs": [
    {
     "name": "stdout",
     "output_type": "stream",
     "text": [
      "8\n",
      "None\n"
     ]
    }
   ],
   "source": [
    "def double2(x):\n",
    "    print(x * 2)\n",
    "\n",
    "b = double2(4)\n",
    "print(b)"
   ]
  },
  {
   "cell_type": "code",
   "execution_count": 10,
   "metadata": {},
   "outputs": [
    {
     "name": "stdout",
     "output_type": "stream",
     "text": [
      "1\n",
      "-8\n",
      "-5\n",
      "0\n",
      "1\n"
     ]
    }
   ],
   "source": [
    "def subtract(a=0, b=0):\n",
    "    return a - b\n",
    "\n",
    "print(subtract(5, 4))\n",
    "print(subtract(0, 8))\n",
    "print(subtract(b=5))\n",
    "print(subtract())\n",
    "print(subtract(1))"
   ]
  },
  {
   "cell_type": "markdown",
   "metadata": {},
   "source": [
    "## Strings\n",
    "\n",
    "스트링은 single quote 혹은 double quote 를 사용하여 선언한다. "
   ]
  },
  {
   "cell_type": "code",
   "execution_count": null,
   "metadata": {
    "collapsed": true
   },
   "outputs": [],
   "source": [
    "single_quoted_string = 'data science'\n",
    "double_quoted_string = \"data science\""
   ]
  },
  {
   "cell_type": "markdown",
   "metadata": {},
   "source": [
    "스트링 내에서 quote를 사용하기 위해서는 single과 double을 섞어서 쓰거나 escape character를 사용한다."
   ]
  },
  {
   "cell_type": "code",
   "execution_count": null,
   "metadata": {},
   "outputs": [],
   "source": [
    "string = 'I'm a python.'\n",
    "print(string)"
   ]
  },
  {
   "cell_type": "code",
   "execution_count": null,
   "metadata": {},
   "outputs": [],
   "source": [
    "string = \"I'm a python.\"\n",
    "print(string)"
   ]
  },
  {
   "cell_type": "code",
   "execution_count": null,
   "metadata": {},
   "outputs": [],
   "source": [
    "string = 'I\\'m a python.' # 개발자들이 선호하는 방식\n",
    "print(string)"
   ]
  },
  {
   "cell_type": "markdown",
   "metadata": {},
   "source": [
    "escape character에는 여러 종류가 있다. 몇가지만 살펴보면..\n",
    "\n",
    "\\t : tab\n",
    "\n",
    "\\n 혹은 \\r : 줄바꿈\n",
    "\n",
    "(참고) https://docs.python.org/2.0/ref/strings.html "
   ]
  },
  {
   "cell_type": "code",
   "execution_count": 11,
   "metadata": {},
   "outputs": [
    {
     "name": "stdout",
     "output_type": "stream",
     "text": [
      "I'm a\t\tpython.\n",
      "This is the list of food I like:\n",
      "\t* Rat\n",
      "\t* Rabbit\n",
      "\t* Data\n"
     ]
    }
   ],
   "source": [
    "tabstring1 = \"I'm a\\t\\tpython.\"\n",
    "tabstring2 = \"This is the list of food I like:\\n\\t* Rat\\n\\t* Rabbit\\n\\t* Data\"\n",
    "print(tabstring1)\n",
    "print(tabstring2)"
   ]
  },
  {
   "cell_type": "markdown",
   "metadata": {},
   "source": [
    "스트링은 연산기호를 사용하여 연산할 수 있다."
   ]
  },
  {
   "cell_type": "code",
   "execution_count": null,
   "metadata": {},
   "outputs": [],
   "source": [
    "print(\"I like \" + \"Python.\")\n",
    "print(\"python \" * 3)\n",
    "print(\"python \" + 3)"
   ]
  },
  {
   "cell_type": "code",
   "execution_count": null,
   "metadata": {},
   "outputs": [],
   "source": [
    "print(\"python \" + str(3))  # 앞서 다룬 casting 방법을 사용할 수 있다."
   ]
  },
  {
   "cell_type": "markdown",
   "metadata": {},
   "source": [
    "여러 라인의 문자열을 생성할 때는 comment를 만들 때 사용했던 \"\"\" 를 이용한다."
   ]
  },
  {
   "cell_type": "code",
   "execution_count": 12,
   "metadata": {},
   "outputs": [
    {
     "name": "stdout",
     "output_type": "stream",
     "text": [
      "This is the first line.\n",
      "and this is the second line\n",
      "    and this is the third line\n"
     ]
    }
   ],
   "source": [
    "multi_line_string = \"\"\"This is the first line.\n",
    "and this is the second line\n",
    "    and this is the third line\"\"\"\n",
    "print(multi_line_string)"
   ]
  },
  {
   "cell_type": "markdown",
   "metadata": {},
   "source": [
    "String은 list와 유사한 형태이다. 따라서 String 내의 요소에 접근하려면 list처럼 index를 사용한다. (list의 사용법은 아래 섹션에서 보다 자세히 다룬다.) 명시적으로 list로 변환하기 위해서는 list() 함수를 사용한다."
   ]
  },
  {
   "cell_type": "code",
   "execution_count": 13,
   "metadata": {},
   "outputs": [
    {
     "name": "stdout",
     "output_type": "stream",
     "text": [
      "o\n",
      "hel\n"
     ]
    },
    {
     "data": {
      "text/plain": [
       "['h', 'e', 'l', 'l', 'o', ' ', 'p', 'y', 't', 'h', 'o', 'n']"
      ]
     },
     "execution_count": 13,
     "metadata": {},
     "output_type": "execute_result"
    }
   ],
   "source": [
    "myString = 'hello python'\n",
    "print(myString[4])\n",
    "print(myString[:3])  # 사용법은 아래의 list 참고\n",
    "list(myString)"
   ]
  },
  {
   "cell_type": "markdown",
   "metadata": {},
   "source": [
    "## Date and Time\n",
    "\n",
    "파이썬이 기본으로 가지고 있는 datetime 모듈은 datetime, date, time 타입을 지원한다. datetime 타입은 이름에서 알 수 있듯이 date와 time 정보를 함께 저장하며 주로 사용되는 자료형이다."
   ]
  },
  {
   "cell_type": "markdown",
   "metadata": {},
   "source": [
    "datetime, date, time을 사용하기 위해서는 다음과 같이 datetime 모듈을 불러온다."
   ]
  },
  {
   "cell_type": "code",
   "execution_count": null,
   "metadata": {},
   "outputs": [],
   "source": [
    "from datetime import datetime, date, time\n",
    "dt = datetime(2016, 9, 1, 17, 30, 21)  # 년, 월, 일, 시, 분, 초의 순서로 datetime 오브젝트 생성\n",
    "print(dt)"
   ]
  },
  {
   "cell_type": "code",
   "execution_count": null,
   "metadata": {},
   "outputs": [],
   "source": [
    "print(dt.day)\n",
    "print(dt.month)\n",
    "print(dt.minute)"
   ]
  },
  {
   "cell_type": "code",
   "execution_count": null,
   "metadata": {},
   "outputs": [],
   "source": [
    "print(dt.date())  # datetime 오브젝트에서 date 오브젝트를 생성\n",
    "print(dt.time())  # datetime 오브젝트에서 time 오브젝트를 생성"
   ]
  },
  {
   "cell_type": "markdown",
   "metadata": {},
   "source": [
    "strftime 메소드는 datetime을 문자열로 만든다. 포맷팅 방법을 이해할 필요가 있다. \n",
    "(참고) http://strftime.org/"
   ]
  },
  {
   "cell_type": "code",
   "execution_count": null,
   "metadata": {},
   "outputs": [],
   "source": [
    "dt.strftime(\"%m/%d/%Y %H:%M (%A)\")"
   ]
  },
  {
   "cell_type": "code",
   "execution_count": null,
   "metadata": {},
   "outputs": [],
   "source": [
    "dt.replace(minute = 0, second = 0)"
   ]
  },
  {
   "cell_type": "code",
   "execution_count": null,
   "metadata": {},
   "outputs": [],
   "source": [
    "dt"
   ]
  },
  {
   "cell_type": "code",
   "execution_count": null,
   "metadata": {},
   "outputs": [],
   "source": [
    "dt2 = dt.replace(year = 2015, minute = 0, second = 0)\n",
    "print(dt)\n",
    "print(dt2)"
   ]
  },
  {
   "cell_type": "code",
   "execution_count": null,
   "metadata": {},
   "outputs": [],
   "source": [
    "delta = dt - dt2\n",
    "print(delta)\n",
    "print(delta.days, delta.seconds)"
   ]
  },
  {
   "cell_type": "code",
   "execution_count": null,
   "metadata": {},
   "outputs": [],
   "source": [
    "now = datetime.now()\n",
    "print(now)"
   ]
  },
  {
   "cell_type": "markdown",
   "metadata": {},
   "source": [
    "## Exceptions\n",
    "\n",
    "프로그래밍을 하다보면 데이터 연산과 관련하여 항상 에러가 발생하게 된다. 에러의 유형은 여러가지인데, 에러가 발생하면 프로그램은 일반적으로 종료된다. 에러가 발생해도 프로그램이 종료되지 않고 에러를 처리한 후 계속 진행하기 위해서는 exception 이라는 기능을 사용한다. 예컨대 0/0을 수행하면 ZeroDivisionError라는 것이 뜨면서 프로그램이 종료되는데, exception 처리를 해주면 에러를 처리한 후 프로그램은 계속 수행된다. 다음의 코드를 확인해보자."
   ]
  },
  {
   "cell_type": "code",
   "execution_count": null,
   "metadata": {},
   "outputs": [],
   "source": [
    "print(0/0)\n",
    "print(\"계산이 완료되었습니다. 다음 계산을 수행해 주세요.\")"
   ]
  },
  {
   "cell_type": "code",
   "execution_count": null,
   "metadata": {},
   "outputs": [],
   "source": [
    "try: \n",
    "    print(0/0)\n",
    "except ZeroDivisionError:\n",
    "    print(\"cannot divide by zero\")\n",
    "\n",
    "print(\"계산이 완료되었습니다. 다음 계산을 수행해 주세요.\")"
   ]
  },
  {
   "cell_type": "markdown",
   "metadata": {
    "collapsed": true
   },
   "source": [
    "## Lists\n",
    "\n",
    "파이썬에서 가장 기본적인 데이터 구조 (data structure). List는 간단한 ordered collection. 다른 언어의 array와 비슷하지만 데이터의 삽입, 삭제, 병합 등과 관련한 기능이 좀 더 다양하게 구현되어 있음. 일반적으로 다른 언어에서는 list 혹은 array를 생성할 때 저장될 데이터의 자료형(data type)을 지정해 주어야 하지만 파이썬을 비롯한 최근의 언어는 특별히 자료형을 지정해 주지 않아도 된다."
   ]
  },
  {
   "cell_type": "code",
   "execution_count": null,
   "metadata": {
    "collapsed": true
   },
   "outputs": [],
   "source": [
    "integer_list = [1, 2, 3]\n",
    "# 서로 다른 타입의 데이터를 하나의 리스트에 넣을 수 있음.\n",
    "heterogeneous_list = [\"string\", 0.1, True]\n",
    "# 리스트에는 리스트를 담을 수 있음.\n",
    "list_of_lists = [ integer_list, heterogeneous_list, [] ]"
   ]
  },
  {
   "cell_type": "code",
   "execution_count": null,
   "metadata": {
    "collapsed": true
   },
   "outputs": [],
   "source": [
    "list_length = len(integer_list)   # equals 3 \n",
    "list_sum = sum(integer_list)      # equals 6 "
   ]
  },
  {
   "cell_type": "markdown",
   "metadata": {},
   "source": [
    "List에 자료를 저장하고 꺼내기 위해서는 index를 사용한다. 인덱스는 0부터 시작한다. 예) x[3], y[0]"
   ]
  },
  {
   "cell_type": "code",
   "execution_count": null,
   "metadata": {},
   "outputs": [],
   "source": [
    "x = [0, 1, 2, 3, 4, 5, 6, 7, 8, 9]     # is the list [0, 1, ..., 9]\n",
    "print(x)"
   ]
  },
  {
   "cell_type": "code",
   "execution_count": null,
   "metadata": {},
   "outputs": [],
   "source": [
    "a = x[0]         # equals 0, lists are 0-indexed\n",
    "b = x[1]         # equals 1\n",
    "c = x[-1]        # equals 9, 'Pythonic' for last element\n",
    "d = x[-2]        # equals 8, 'Pythonic' for next-to-last element\n",
    "print(a, b, c, d)"
   ]
  },
  {
   "cell_type": "code",
   "execution_count": null,
   "metadata": {},
   "outputs": [],
   "source": [
    "x[0] = -1         # now x is [-1, 1, 2, 3, ..., 9]\n",
    "x[-2] = 100       # now x is [-1, 1, 2, ..., 7, 100, 9]\n",
    "print(x)"
   ]
  },
  {
   "cell_type": "markdown",
   "metadata": {},
   "source": [
    "square bracket을 이용하여 list를 자를 수 있다."
   ]
  },
  {
   "cell_type": "code",
   "execution_count": null,
   "metadata": {},
   "outputs": [],
   "source": [
    "first_three = x[:3]     # [-1, 1, 2]\n",
    "three_to_end = x[3:]    # [3, 4, ..., 7, 100, 9]\n",
    "one_to_four = x[1:5]    # [1, 2, 3, 4]\n",
    "last_three = x[-3:]     # [7, 100, 9]\n",
    "without_first_and_last = x[1:-1]   # [1, 2, ..., 7, 100]\n",
    "copy_of_x = x[:]        # [-1, 1, 2, ..., 7, 100, 9]\n",
    "print(first_three, three_to_end, one_to_four, last_three, without_first_and_last, copy_of_x)"
   ]
  },
  {
   "cell_type": "markdown",
   "metadata": {},
   "source": [
    "두개의 list를 합치기 위해서는 + 오퍼레이터나 .extend 함수를 사용한다. (위에서 살펴본 것처럼) .append 함수는 요소 하나를 마지막에 추가한다."
   ]
  },
  {
   "cell_type": "code",
   "execution_count": null,
   "metadata": {},
   "outputs": [],
   "source": [
    "x = [1,2,3]\n",
    "x.extend([4, 5, 6])    # x is now [1,2,3,4,5,6]\n",
    "print(x)"
   ]
  },
  {
   "cell_type": "code",
   "execution_count": null,
   "metadata": {},
   "outputs": [],
   "source": [
    "x = [1,2,3]\n",
    "y = x + [4, 5, 6]      # y is [1, 2, 3, 4, 5, 6]; x is unchanged\n",
    "print(x, y)"
   ]
  },
  {
   "cell_type": "code",
   "execution_count": null,
   "metadata": {},
   "outputs": [],
   "source": [
    "x = [1, 2, 3]\n",
    "x.append(0)\n",
    "print(len(x))"
   ]
  },
  {
   "cell_type": "markdown",
   "metadata": {},
   "source": [
    "in 오퍼레이터의 사용으로 특정한 요소가 list에 포함되어 있는지 여부를 판단할 수 있다."
   ]
  },
  {
   "cell_type": "code",
   "execution_count": null,
   "metadata": {},
   "outputs": [],
   "source": [
    "print(1 in [1, 2, 3])  # True\n",
    "print(0 in [1, 2, 3])  # False"
   ]
  },
  {
   "cell_type": "markdown",
   "metadata": {},
   "source": [
    "range()를 사용하면 연속된 숫자가 담긴 숫자열을 만들 수 있다. 그러나 range()로 생성한 숫자열은 list가 아니기 때문에 list 처럼 사용하려면 list()함수를 이용하여 변환해 주어야 한다. (python 3 부터 바뀐 내용)"
   ]
  },
  {
   "cell_type": "code",
   "execution_count": null,
   "metadata": {},
   "outputs": [],
   "source": [
    "a = range(10)\n",
    "print(a)\n",
    "b = list(a)\n",
    "print(b)"
   ]
  },
  {
   "cell_type": "markdown",
   "metadata": {
    "collapsed": true
   },
   "source": [
    "## Tuples\n",
    "\n",
    "Tuple은 파이썬의 독특한 자료형으로 list와 거의 같은 속성을 가지고 있다. 따라서 list와 동일한 방식으로 데이터를 다룰 수 있다. Tuple이 list와 다른 점은 자료의 내용을 수정할 수 없다는 점이다. \n",
    "\n",
    "Tuple은 괄호 혹은 괄호 없이 만들 수 있다. List는 []을 사용한다."
   ]
  },
  {
   "cell_type": "code",
   "execution_count": null,
   "metadata": {},
   "outputs": [],
   "source": [
    "my_list = [1, 2]\n",
    "my_tuple1 = (1, 2)\n",
    "my_tuple2 = 1, 2\n",
    "\n",
    "print(my_list)\n",
    "print(my_tuple1)\n",
    "print(my_tuple2)"
   ]
  },
  {
   "cell_type": "code",
   "execution_count": null,
   "metadata": {},
   "outputs": [],
   "source": [
    "my_list[1] = 3\n",
    "print(my_list)"
   ]
  },
  {
   "cell_type": "code",
   "execution_count": null,
   "metadata": {},
   "outputs": [],
   "source": [
    "my_tuple1[1] = 3\n",
    "print(my_tuple1)"
   ]
  },
  {
   "cell_type": "markdown",
   "metadata": {},
   "source": [
    "위의 코드를 실행하면 TypeError가 발생한다. 이 경우 exception을 만들면 프로그램이 종료되지 않고 에러를 처리할 수 있다."
   ]
  },
  {
   "cell_type": "code",
   "execution_count": null,
   "metadata": {},
   "outputs": [],
   "source": [
    "try: \n",
    "    my_tuple1[1] = 3\n",
    "except TypeError:\n",
    "    print(\"tuple의 요소는 수정할 수 없습니다.\")\n",
    "    \n",
    "print(my_tuple1)"
   ]
  },
  {
   "cell_type": "markdown",
   "metadata": {},
   "source": [
    "Tuple은 함수의 리턴값으로도 사용되는데, 대개 (다른 랭귀지의) 함수의 경우 하나의 값만을 리턴할 수 있는데 반해 파이썬에서는 tuple을 사용하여 여러개의 값을 리턴할 수 있다. (함수 참조)"
   ]
  },
  {
   "cell_type": "code",
   "execution_count": null,
   "metadata": {},
   "outputs": [],
   "source": [
    "def sum_and_product(x, y):\n",
    "    return (x + y), (x * y)\n",
    "\n",
    "sp = sum_and_product(2, 3)\n",
    "print(sp)\n",
    "s, p = sum_and_product(5, 10)\n",
    "print(s, p)"
   ]
  },
  {
   "cell_type": "markdown",
   "metadata": {},
   "source": [
    "위의 예제에서 s, p = sum_and_product(5, 10) 는 multiple assignment의 예이다. Tuple과 List는 요소를 여러 변수에 동시에 assign할 수 있다. "
   ]
  },
  {
   "cell_type": "code",
   "execution_count": null,
   "metadata": {},
   "outputs": [],
   "source": [
    "x, y = (1, 2)\n",
    "a, b = [4, 3]\n",
    "print(x, y, a, b)"
   ]
  },
  {
   "cell_type": "markdown",
   "metadata": {},
   "source": [
    "프로그래밍을 할 때 변수가 가진 데이터를 swap할 경우가 종종 있는데, 파이썬에서는 이 작업이 다음과 같이 이루어진다."
   ]
  },
  {
   "cell_type": "code",
   "execution_count": null,
   "metadata": {},
   "outputs": [],
   "source": [
    "# non-pythonic way\n",
    "a = 10\n",
    "b = 5\n",
    "print(a, b)\n",
    "temp = a\n",
    "a = b\n",
    "b = temp\n",
    "print(a, b)"
   ]
  },
  {
   "cell_type": "code",
   "execution_count": null,
   "metadata": {},
   "outputs": [],
   "source": [
    "# pythonic way\n",
    "a, b = 10, 5\n",
    "print(a, b)\n",
    "a, b = b, a\n",
    "print(a, b)"
   ]
  },
  {
   "cell_type": "markdown",
   "metadata": {},
   "source": [
    "## Dictionaries\n",
    "\n",
    "데이터 처리를 할 때 가장 많이 사용하는 자료형 중의 하나로 앞서 다룬 list와 tuple이 자료를 순서에 따라 저장하는 역할만 수행했다면 dictionaries는 자료를 key-value 형태로 저장을 한다. Key-value는 우리가 평소에 데이터를 저장하기 위해 자주 사용하는 방식이다 예를 들어,\n",
    "\n",
    "이름:홍길동\n",
    "\n",
    "전화번호:010-1234-5678\n",
    "\n",
    "이라고 기록을 한다면 이름과 전화번호가 key이고 : 뒤의 값이 value가 된다.\n",
    "\n",
    "Dictionaries를 만들 때는 {}를 사용하거나 dict()함수를 사용한다."
   ]
  },
  {
   "cell_type": "code",
   "execution_count": null,
   "metadata": {},
   "outputs": [],
   "source": [
    "empty_dict1 = {}\n",
    "empty_dict2 = dict()\n",
    "grades = { \"Joel\":80, \"Tim\":90 }\n",
    "print(empty_dict1, empty_dict2, grades)"
   ]
  },
  {
   "cell_type": "markdown",
   "metadata": {},
   "source": [
    "List와 Tuple에서는 저장된 자료를 꺼내거나 수정하기 위해서 (tuple의 자료는 수정이 안된다!) 자료가 저장된 순서의 인덱스를 사용했다. 하지만 dictionary에서는 인덱스 대신에 key를 사용하여 자료를 꺼내거나 넣을 수 있다. 그러나 key가 없으면 KeyError가 뜬다. 이 경우를 대비해서 예외처리를 해줘야 한다. Key는 대소문자를 가리니 주의하도록 하자."
   ]
  },
  {
   "cell_type": "code",
   "execution_count": null,
   "metadata": {},
   "outputs": [],
   "source": [
    "joel_grade = grades[\"Joel\"]\n",
    "joel_grade = grades[\"joel\"]"
   ]
  },
  {
   "cell_type": "code",
   "execution_count": null,
   "metadata": {},
   "outputs": [],
   "source": [
    "try:\n",
    "    kate_grade = grades[\"Kate\"]\n",
    "except KeyError:\n",
    "    print(\"No Key found.\")"
   ]
  },
  {
   "cell_type": "markdown",
   "metadata": {},
   "source": [
    "Key가 존재하는지 먼저 확인을 한 후에 진행하는 방법도 있다."
   ]
  },
  {
   "cell_type": "code",
   "execution_count": null,
   "metadata": {},
   "outputs": [],
   "source": [
    "print(\"Joel\" in grades)\n",
    "print(\"Kate\" in grades)"
   ]
  },
  {
   "cell_type": "markdown",
   "metadata": {},
   "source": [
    "(아직 다루지 않았지만) if-else문을 사용하여 key가 있는지 먼저 확인하는 편이 좋다. 경우에 따라 exception을 사용하는 것 보다 낫다. (심지어는 이 방법을 더 많이 사용하기도 한다 - 이것도 일종의 exception 처리)"
   ]
  },
  {
   "cell_type": "code",
   "execution_count": null,
   "metadata": {},
   "outputs": [],
   "source": [
    "if \"Kate\" in grades:\n",
    "    kate_grades = grades[\"Kate\"]\n",
    "else:\n",
    "    print(\"Kate's grade is not in the list.\")"
   ]
  },
  {
   "cell_type": "markdown",
   "metadata": {},
   "source": [
    "Dictionary는 이 밖에 get()이라는 함수도 제공한다. get()을 쓰는 장점은 exception 처리를 할 필요가 없다는 것이다. 예외상황이 발생할 경우 default 로 반환할 값을 지정할 수 있다. (default는 none)\n",
    "\n",
    "예를 들어,\n",
    "\n",
    "grades.get(\"Kate\") 는 Kate라는 key가 없기 때문에 none을 반환한다. 하지만 grades.get(\"Kate\", 0)이라고 쓰면 Kate 라는 키가 없을 경우 0을 반환하게 된다. 따라서 0이 출력되면 데이터에 Kate라는 key가 없는 것으로 간주하면 된다. 그러나 grade와 같은 데이터의 경우 실제로 0점인 사람이 있을 수 있으므로 key가 없어서 발생하는 0과 0점인 0은 혼동이 될 수 있다. 따라서 반환할 값을 어떻게 지정할 지 잘 고민해야 한다."
   ]
  },
  {
   "cell_type": "code",
   "execution_count": null,
   "metadata": {},
   "outputs": [],
   "source": [
    "print(grades.get(\"Joel\"))\n",
    "print(grades.get(\"Kate\"))\n",
    "print(grades.get(\"Kate\", 0))\n",
    "print(grades.get(\"Kate\", \"nokey\"))"
   ]
  },
  {
   "cell_type": "markdown",
   "metadata": {},
   "source": [
    "Dictionary의 특정 key에 값을 입력하기 위해서는 list와 비슷하게 []을 사용한다. 하지만 역시 인덱스를 쓰는게 아니라 key를 사용한다."
   ]
  },
  {
   "cell_type": "code",
   "execution_count": null,
   "metadata": {},
   "outputs": [],
   "source": [
    "grades[\"Tim\"] = 95\n",
    "grades[\"Kate\"] = 100\n",
    "grades[\"Joel\"] = 85\n",
    "print(grades)"
   ]
  },
  {
   "cell_type": "markdown",
   "metadata": {},
   "source": [
    "앞으로 데이터를 수집하게 되면 대부분 Dictionary의 형태로 다루게 될 것이다. 예를 들어 트위터에서 JSON 형태의 자료를 수집한 후 다음과 같이 저장한다."
   ]
  },
  {
   "cell_type": "code",
   "execution_count": null,
   "metadata": {
    "collapsed": true
   },
   "outputs": [],
   "source": [
    "tweet = {\n",
    "    \"user\" : \"joelgrus\",\n",
    "    \"text\" : \"Data Science is Awesome\",\n",
    "    \"retweet_count\" : 100,\n",
    "    \"hashtags\" : [\"#data\", \"#science\", \"#datascience\", \"#awesome\", \"#yolo\"]\n",
    "}"
   ]
  },
  {
   "cell_type": "markdown",
   "metadata": {},
   "source": [
    "수집된 데이터는 다음과 같이 처리한다."
   ]
  },
  {
   "cell_type": "code",
   "execution_count": null,
   "metadata": {},
   "outputs": [],
   "source": [
    "tweet_keys = tweet.keys()  # 현재 데이터에 어떤 key가 있는지 리스트로 보여준다.\n",
    "print(tweet_keys)"
   ]
  },
  {
   "cell_type": "code",
   "execution_count": null,
   "metadata": {},
   "outputs": [],
   "source": [
    "tweet_values = tweet.values()  # key에 할당된 value를 보여준다. 많이 사용할 것 같지는 않다.\n",
    "print(tweet_values)"
   ]
  },
  {
   "cell_type": "code",
   "execution_count": null,
   "metadata": {},
   "outputs": [],
   "source": [
    "tweet_items = tweet.items()  # key와 value의 쌍을 tuple 형태로 보여준다. 매우 유용하나 데이터가 많으면 보기 힘들다.\n",
    "print(tweet_items)"
   ]
  },
  {
   "cell_type": "code",
   "execution_count": null,
   "metadata": {},
   "outputs": [],
   "source": [
    "print(\"user\" in tweet)  # True. List와 Tuple 처럼 데이터 내에 특정한 key가 있는지를 판별한다. \n",
    "print(\"Data Science is Awesome\" in tweet_values)  # value에 특정한 값이 있는지도 판별할 수 있다. 먼저 values() 함수를 사용하여 리스트를 만들어야 한다.\n",
    "print(\"Science\" in tweet_values)  # 그러나 value의 일부를 검색하는 것은 안된다. 이는 보다 복잡한 과정이 필요하다."
   ]
  },
  {
   "cell_type": "code",
   "execution_count": null,
   "metadata": {},
   "outputs": [],
   "source": [
    "document = [\"a\", \"b\", \"c\", \"a\", \"a\", \"c\", \"a\", \"c\", \"a\", \"a\", \"a\", \"b\", \"c\", \"b\"]\n",
    "word_counts = {}\n",
    "for word in document:\n",
    "    if word in word_counts:\n",
    "        word_counts[word] += 1\n",
    "    else: \n",
    "        word_counts[word] = 1\n",
    "        \n",
    "print(word_counts)"
   ]
  },
  {
   "cell_type": "markdown",
   "metadata": {},
   "source": [
    "파이썬이 기본으로 제공하는 collections 이라는 라이브러리의 Counter 기능을 사용하면 좀더 손쉽게 카운트를 만들 수 있다."
   ]
  },
  {
   "cell_type": "code",
   "execution_count": null,
   "metadata": {},
   "outputs": [],
   "source": [
    "from collections import Counter\n",
    "word_counts = Counter(document)\n",
    "print(word_counts)\n",
    "print(word_counts['c'], word_counts['a'])"
   ]
  },
  {
   "cell_type": "markdown",
   "metadata": {
    "collapsed": true
   },
   "source": [
    "## Sets\n",
    "\n",
    "Set이라는 자료형은 중복을 허용하지 않고 담긴 요소들의 순서가 없다는 특징이 있다. "
   ]
  },
  {
   "cell_type": "code",
   "execution_count": null,
   "metadata": {},
   "outputs": [],
   "source": [
    "s = set()\n",
    "s.add(1)\n",
    "s.add(2)\n",
    "s.add(2)\n",
    "print(s)"
   ]
  },
  {
   "cell_type": "code",
   "execution_count": null,
   "metadata": {},
   "outputs": [],
   "source": [
    "# set 선언\n",
    "my_set = set([1,2,3])\n",
    " \n",
    "# 값 하나 추가 : add(x)\n",
    "my_set.add(4)\n",
    "print(my_set)\n",
    " \n",
    "# 값 여러개 추가 : update(x)\n",
    "my_set.update([5,6,7,8,9,10])\n",
    "print(my_set)\n",
    " \n",
    "# 값 제거 : remove(x)\n",
    "my_set.remove(10)\n",
    "print(my_set)"
   ]
  },
  {
   "cell_type": "markdown",
   "metadata": {},
   "source": [
    "set은 순서가 없어서 index를 이용하여 자료에 접근할 수 없다. 따라서 set에서 특정 자료에 접근하기 위해선 list나 tuple로 변환하여야 한다."
   ]
  },
  {
   "cell_type": "code",
   "execution_count": null,
   "metadata": {},
   "outputs": [],
   "source": [
    "# set 선언\n",
    "my_set = set([1,2,3])\n",
    "my_list = list(my_set)\n",
    "my_tuple = tuple(my_set)\n",
    " \n",
    "print(my_list)\n",
    "print(my_list[1])\n",
    "print(my_tuple)\n",
    "print(my_tuple[2])"
   ]
  },
  {
   "cell_type": "code",
   "execution_count": null,
   "metadata": {},
   "outputs": [],
   "source": [
    "# set 선언\n",
    "set1 = set([1,2,3])\n",
    "set2 = set([2,4,5,6])\n",
    "set3 = set() # 공집합\n",
    " \n",
    "# set1과 set2의 교집합\n",
    "print(set1 & set2)\n",
    "print(set1.intersection(set2))\n",
    " \n",
    "# set1과 set2의 합집합\n",
    "print(set1 | set2)\n",
    "print(set1.union(set2))\n",
    " \n",
    "# set1과 set2의 차집합\n",
    "print(set1 - set2)\n",
    "print(set1.difference(set2))\n",
    "print(set2.difference(set1))\n",
    " \n",
    "# set1과 set2의 합집합에서 교집합을 뺀 차집합\n",
    "print(set1 ^ set2)"
   ]
  },
  {
   "cell_type": "code",
   "execution_count": null,
   "metadata": {
    "collapsed": true
   },
   "outputs": [],
   "source": []
  }
 ],
 "metadata": {
  "kernelspec": {
   "display_name": "Python 3",
   "language": "python",
   "name": "python3"
  },
  "language_info": {
   "codemirror_mode": {
    "name": "ipython",
    "version": 3
   },
   "file_extension": ".py",
   "mimetype": "text/x-python",
   "name": "python",
   "nbconvert_exporter": "python",
   "pygments_lexer": "ipython3",
   "version": "3.7.3"
  }
 },
 "nbformat": 4,
 "nbformat_minor": 1
}
