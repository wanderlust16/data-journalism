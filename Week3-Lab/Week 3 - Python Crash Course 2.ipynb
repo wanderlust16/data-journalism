{
 "cells": [
  {
   "cell_type": "markdown",
   "metadata": {},
   "source": [
    "# Week 3: Python Crash Course 2\n",
    "\n",
    "이번 주에는 파이썬의 문법 중 핵심인 Control Flow에 대해 다룬다. Control Flow는 프로그램 구조에서 분기를 만들거나 반복을 위해 사용하는 것으로 꼭 사용법을 익혀두어야 한다. 또한, 파일의 읽기와 쓰기, 클래스와 오브젝트에 대해서도 학습한다."
   ]
  },
  {
   "cell_type": "markdown",
   "metadata": {},
   "source": [
    "## Control Flow\n",
    "\n",
    "프로그램 내에서 분기를 만들거나 반복하기 위해서 control flow를 사용한다. "
   ]
  },
  {
   "cell_type": "markdown",
   "metadata": {},
   "source": [
    "**if, elif, else** "
   ]
  },
  {
   "cell_type": "markdown",
   "metadata": {},
   "source": [
    "if 문은 가장 많이 사용하는 흐름제어문이다. if문은 조건을 검사하여 조건이 true일 때 if 블록 내의 코드를 실행한다."
   ]
  },
  {
   "cell_type": "code",
   "execution_count": null,
   "metadata": {},
   "outputs": [],
   "source": [
    "x = 0\n",
    "if x < 0:\n",
    "    print(\"x is negative\")"
   ]
  },
  {
   "cell_type": "markdown",
   "metadata": {},
   "source": [
    "조건을 여러개 검증해야할 때, if-elif-else를 사용한다."
   ]
  },
  {
   "cell_type": "code",
   "execution_count": 1,
   "metadata": {},
   "outputs": [
    {
     "name": "stdout",
     "output_type": "stream",
     "text": [
      "x is positive but smaller than 5\n"
     ]
    }
   ],
   "source": [
    "x = 3\n",
    "if x < 0:\n",
    "    print(\"x is negative\")\n",
    "elif x == 0:\n",
    "    print(\"x is zero\")\n",
    "elif 0 < x < 5:\n",
    "    print(\"x is positive but smaller than 5\")\n",
    "else:\n",
    "    print(\"x is positive and larger than or equal to 5\")"
   ]
  },
  {
   "cell_type": "markdown",
   "metadata": {},
   "source": [
    "경우에 따라 if-else문을 한 줄에 쓰기도 한다. 이 경우 if문의 구조는 위와 조금 다르게 기술된다."
   ]
  },
  {
   "cell_type": "code",
   "execution_count": 3,
   "metadata": {},
   "outputs": [
    {
     "name": "stdout",
     "output_type": "stream",
     "text": [
      "even\n"
     ]
    }
   ],
   "source": [
    "x = 2\n",
    "parity = \"even\" if x % 2 == 0 else \"odd\"\n",
    "print(parity)"
   ]
  },
  {
   "cell_type": "markdown",
   "metadata": {},
   "source": [
    "**and / or**\n",
    "\n",
    "if문의 조건문이 and로 연결되어 있을 경우 두 조건이 모두 true 일 경우만 true 로 판별한다.\n",
    "\n",
    "|   A   |   B   | Output |\n",
    "|:-----:|:-----:|:------:|\n",
    "|  true |  true |  true  |\n",
    "|  true | false |  false |\n",
    "| false |  true |  false |\n",
    "| false | false |  false |\n",
    "\n",
    "if문의 조건문이 or로 연결되어 있을 경우 한쪽만 true 이면 true 로 판별한다.\n",
    "\n",
    "|   A   |   B   | Output |\n",
    "|:-----:|:-----:|:------:|\n",
    "|  true |  true |  true  |\n",
    "|  true | false |  true  |\n",
    "| false |  true |  true  |\n",
    "| false | false |  false |"
   ]
  },
  {
   "cell_type": "code",
   "execution_count": null,
   "metadata": {},
   "outputs": [],
   "source": [
    "x, y = 5, 10\n",
    "if x < 10 and y < 10:\n",
    "    print(\"true\")\n",
    "else:\n",
    "    print(\"false\")"
   ]
  },
  {
   "cell_type": "code",
   "execution_count": null,
   "metadata": {},
   "outputs": [],
   "source": [
    "x, y = 5, 10\n",
    "if x < 10 or y < 10:\n",
    "    print(\"true\")\n",
    "else:\n",
    "    print(\"false\")"
   ]
  },
  {
   "cell_type": "markdown",
   "metadata": {},
   "source": [
    "**for loop**\n",
    "\n",
    "for 반복문은 리스트나 튜플 같은 컬렉션을 순회하며 데이터를 처리한다."
   ]
  },
  {
   "cell_type": "code",
   "execution_count": null,
   "metadata": {},
   "outputs": [],
   "source": [
    "sequence = [1, 2, 3, 4, 5, 6, 7, 8, 9, 10]\n",
    "for value in sequence:\n",
    "    print(value)"
   ]
  },
  {
   "cell_type": "code",
   "execution_count": 5,
   "metadata": {},
   "outputs": [
    {
     "name": "stdout",
     "output_type": "stream",
     "text": [
      "55\n"
     ]
    }
   ],
   "source": [
    "sequence = [1, 2, 3, 4, 5, 6, 7, 8, 9, 10]\n",
    "total = 0\n",
    "for value in sequence:\n",
    "    total += value\n",
    "print(total)\n",
    "\n",
    "# print(sum(sequence)) 와 같은 결과!"
   ]
  },
  {
   "cell_type": "code",
   "execution_count": 6,
   "metadata": {},
   "outputs": [
    {
     "name": "stdout",
     "output_type": "stream",
     "text": [
      "0\n",
      "1\n",
      "2\n",
      "4\n"
     ]
    }
   ],
   "source": [
    "for x in range(10):\n",
    "    if x == 3:  # 3일 경우 리스트의 다음 순서로 넘어간다\n",
    "        continue\n",
    "    if x == 5:  # 5일 경우 for loop를 종료한다\n",
    "        break\n",
    "    print(x)"
   ]
  },
  {
   "cell_type": "markdown",
   "metadata": {},
   "source": [
    "**while loop**\n",
    "\n",
    "while반복문은 while 내의 조건이 true일 경우에만 반복을 한다."
   ]
  },
  {
   "cell_type": "code",
   "execution_count": 11,
   "metadata": {},
   "outputs": [
    {
     "name": "stdout",
     "output_type": "stream",
     "text": [
      "0 is less than 10\n",
      "1 is less than 10\n",
      "2 is less than 10\n",
      "3 is less than 10\n",
      "4 is less than 10\n",
      "5 is less than 10\n",
      "6 is less than 10\n",
      "7 is less than 10\n",
      "8 is less than 10\n",
      "9 is less than 10\n"
     ]
    }
   ],
   "source": [
    "x = 0\n",
    "while x < 10:\n",
    "    print(x, \"is less than 10\") # Q. sum을 구하려면? \n",
    "    x += 1"
   ]
  },
  {
   "cell_type": "markdown",
   "metadata": {},
   "source": [
    "## Methods\n",
    "\n",
    "오브젝트가 무엇인가를 하게 하는 것을 메소드(method)라 한다. 오브젝트는 클래스(class)로 생성된 것을 말하고, 메소드(method)는 클래스에 정의된 함수들이다. 예를 들어 \"자동차가 달린다\" 라고 하면 \"자동차\"는 \"운송수단\"이라는 클래스로 생성된 \"오브젝트\"이고, \"달린다\"는 \"운송수단\"에 정의된 \"메소드\"라고 볼 수 있다. 따라서, 운송수단에는 \"달린다\", \"멈춘다\" 등과 같은 메소드가 정의될 수 있을 것이다.\n",
    "\n",
    "파이썬에서 메소드는 다음과 같이 표기한다.\n",
    "\n",
    "**``` object.method(parameter) ```** \n"
   ]
  },
  {
   "cell_type": "code",
   "execution_count": 4,
   "metadata": {},
   "outputs": [
    {
     "name": "stdout",
     "output_type": "stream",
     "text": [
      "HELLO, PYTHON\n",
      "Hello, python\n",
      "['hello', ' python']\n",
      "['hello,', 'python']\n",
      "python\n"
     ]
    }
   ],
   "source": [
    "mystr = \"hello, python\"\n",
    "print(mystr.upper())         # string의 내용을 대문자로 만들어준다. String 클래스에 정의된 메소드이다.\n",
    "print(mystr.capitalize())    # 첫 문자만 대문자로 만들어준다.\n",
    "str_list = mystr.split(',') # 문자열을 ',' 를 기준으로 잘라준다. 잘려진 문자열은 list로 저장된다.\n",
    "str_list1 = mystr.split()\n",
    "print(str_list)\n",
    "print(str_list1)\n",
    "print(str_list[1].strip()) # 공백을 지워줌. cf) lstrip(좌공백삭제), rstrip(우공백삭제)"
   ]
  },
  {
   "cell_type": "markdown",
   "metadata": {},
   "source": [
    "string 클래스에 정의되어 있는 메소드의 리스트와 사용방법을 보려면 다음의 문서를 참고한다. https://docs.python.org/3/library/stdtypes.html#string-methods "
   ]
  },
  {
   "cell_type": "markdown",
   "metadata": {},
   "source": [
    "## Sorting\n",
    "\n",
    "프로그래밍을 할 때 데이터를 sorting하게 되는 경우가 많이 있다. 이를 위해 파이썬은 sort()와 sorted()라는 메소드를 제공한다. 두 메소드는 숫자 뿐 아니라, 영문, 한글 등의 정렬에도 사용된다."
   ]
  },
  {
   "cell_type": "code",
   "execution_count": 5,
   "metadata": {},
   "outputs": [
    {
     "name": "stdout",
     "output_type": "stream",
     "text": [
      "[0, 1, 3, 3, 4, 5, 7, 9]\n"
     ]
    }
   ],
   "source": [
    "x = [7, 3, 5, 9, 0, 1, 4, 3]\n",
    "x.sort()  # sort()라는 메소드는 원래의 list의 내용까지 바꾼다.\n",
    "print(x)"
   ]
  },
  {
   "cell_type": "code",
   "execution_count": 8,
   "metadata": {},
   "outputs": [
    {
     "name": "stdout",
     "output_type": "stream",
     "text": [
      "[7, 3, 5, 9, 0, 1, 4, 3] [0, 1, 3, 3, 4, 5, 7, 9]\n"
     ]
    }
   ],
   "source": [
    "x = [7, 3, 5, 9, 0, 1, 4, 3]\n",
    "y = sorted(x)  # 원래의 list의 내용을 그대로 두고 정렬을 하기 위해서는 다음과 같이 한다.\n",
    "print(x, y)"
   ]
  },
  {
   "cell_type": "code",
   "execution_count": null,
   "metadata": {},
   "outputs": [],
   "source": [
    "names = [\"유재석\", \"하하\", \"박명수\", \"정준하\", \"정형돈\", \"노홍철\", \"PD 김태호\"]  \n",
    "print(sorted(names))  # 한글 정렬의 예. 만약 리스트에 영문이 포함되어 있으면 영문이 우선순위를 가진다. (작은 값 => 큰 값)"
   ]
  },
  {
   "cell_type": "code",
   "execution_count": null,
   "metadata": {},
   "outputs": [],
   "source": [
    "x = [-4,1,-2,3]\n",
    "print(sorted(x))  # 적은 수 -> 큰 수로 정렬\n",
    "print(sorted(x, reverse=True))  # 역순으로 정렬\n",
    "print(sorted(x, key=abs))  # 절대값의 적은 수 -> 큰 수로 정렬\n",
    "print(sorted(x, key=abs, reverse=True))  # 절대값의 역순으로 정렬"
   ]
  },
  {
   "cell_type": "markdown",
   "metadata": {},
   "source": [
    "## Random\n",
    "\n",
    "데이터 분석을 할 때 random number를 사용하게 되는 경우가 많다. 이때는 random 모듈을 사용한다."
   ]
  },
  {
   "cell_type": "code",
   "execution_count": 11,
   "metadata": {},
   "outputs": [
    {
     "data": {
      "text/plain": [
       "0.849604889907604"
      ]
     },
     "execution_count": 11,
     "metadata": {},
     "output_type": "execute_result"
    }
   ],
   "source": [
    "import random\n",
    "random.random()  # 0-1 사이의 난수를 생성한다."
   ]
  },
  {
   "cell_type": "code",
   "execution_count": 4,
   "metadata": {},
   "outputs": [
    {
     "name": "stdout",
     "output_type": "stream",
     "text": [
      "[0.7808092599343525, 0.3773933118984958, 0.15539994804380708, 0.31991633752698256]\n",
      "[0.09717637611834096, 0.14565903086179632, 0.22707330715780694, 0.03906629420844265]\n"
     ]
    }
   ],
   "source": [
    "four_uniform_random = [random.random() for x in range(4)]  # 4개의 난수를 생성하여 리스트에 저장\n",
    "print(four_uniform_random)\n",
    "\n",
    "four_uniform_random1 = [] # 위와 같은 코드. 훨씬 복잡\n",
    "for x in range(4):\n",
    "    four_uniform_random1.append(random.random())\n",
    "print(four_uniform_random1)"
   ]
  },
  {
   "cell_type": "markdown",
   "metadata": {},
   "source": [
    "for문 등을 사용할 때 의미없이 사용되는 변수는 ``` _ ``` 로 표현한다. 예를 들어 위의 코드에서 ``` for x in range(4) ```에서 x는 외부에서 참조하거나 계산 등에 사용되지 않는다. 이런 경우 파이썬에선 일반적으로 ``` _ ``` 로 대체한다."
   ]
  },
  {
   "cell_type": "code",
   "execution_count": 5,
   "metadata": {},
   "outputs": [
    {
     "name": "stdout",
     "output_type": "stream",
     "text": [
      "[0.1392624821647237, 0.8687503075809706, 0.6024897587541569, 0.28577204651447985]\n",
      "[0.4812406429191075, 0.631383636803246, 0.7706299169890278, 0.7750839108808262]\n"
     ]
    }
   ],
   "source": [
    "four_uniform_random = [random.random() for _ in range(4)]  # 4개의 난수를 생성하여 리스트에 저장\n",
    "print(four_uniform_random)\n",
    "\n",
    "four_uniform_random1 = [] # 위와 같은 코드. 훨씬 복잡\n",
    "for _ in range(4):\n",
    "    four_uniform_random1.append(random.random())\n",
    "print(four_uniform_random1)"
   ]
  },
  {
   "cell_type": "markdown",
   "metadata": {},
   "source": [
    "특정한 range 내에서 난수를 생성하려면 randrange()를 사용한다."
   ]
  },
  {
   "cell_type": "code",
   "execution_count": 12,
   "metadata": {},
   "outputs": [
    {
     "name": "stdout",
     "output_type": "stream",
     "text": [
      "0\n",
      "8\n"
     ]
    }
   ],
   "source": [
    "print(random.randrange(10))\n",
    "print(random.randrange(6, 9))"
   ]
  },
  {
   "cell_type": "markdown",
   "metadata": {},
   "source": [
    "random.choice()를 사용하면 list에서 원하는 항목을 하나 선택할 수 있다."
   ]
  },
  {
   "cell_type": "code",
   "execution_count": 8,
   "metadata": {},
   "outputs": [
    {
     "name": "stdout",
     "output_type": "stream",
     "text": [
      "1\n",
      "정형돈\n"
     ]
    }
   ],
   "source": [
    "list1 = [1, 2, 3, 4, 5, 6, 7, 8, 9, 10]\n",
    "my_choice1 = random.choice(list1)\n",
    "print(my_choice1)\n",
    "\n",
    "list2 = [\"유재석\", \"하하\", \"박명수\", \"정준하\", \"정형돈\", \"노홍철\", \"PD 김태호\"]\n",
    "my_choice2 = random.choice(list2)\n",
    "print(my_choice2)"
   ]
  },
  {
   "cell_type": "markdown",
   "metadata": {
    "collapsed": true
   },
   "source": [
    "sample()은 range 혹은 list 내에 있는 요소를 무작위로 섞어준다. 뽑고자 하는 숫자를 parameter로 전달할 수 있다."
   ]
  },
  {
   "cell_type": "code",
   "execution_count": 15,
   "metadata": {},
   "outputs": [
    {
     "name": "stdout",
     "output_type": "stream",
     "text": [
      "[0, 1, 2, 3, 4, 5, 6, 7, 8, 9]\n",
      "[9, 4, 0]\n"
     ]
    }
   ],
   "source": [
    "# 발표 순서 정할 때 사용\n",
    "up_to_ten = range(10)\n",
    "print(list(up_to_ten))\n",
    "shuffled = random.sample(up_to_ten, 3)\n",
    "print(shuffled)"
   ]
  },
  {
   "cell_type": "code",
   "execution_count": 11,
   "metadata": {
    "scrolled": true
   },
   "outputs": [
    {
     "name": "stdout",
     "output_type": "stream",
     "text": [
      "[6, 7, 15, 23, 42, 27]\n"
     ]
    }
   ],
   "source": [
    "lottery_numbers = range(60)\n",
    "winning_numbers = random.sample(lottery_numbers, 6)\n",
    "print(winning_numbers)"
   ]
  },
  {
   "cell_type": "markdown",
   "metadata": {},
   "source": [
    "## File Read\n",
    "\n",
    "파이썬에서 파일을 읽고 쓸 때는 open()이라는 함수를 이용한다. 읽고자 하는 파일은 같은 경로에 있거나, 아니면 파일의 경로를 정확하게 설정해주어야 한다."
   ]
  },
  {
   "cell_type": "markdown",
   "metadata": {},
   "source": [
    "**```read()``` 함수의 사용**\n",
    "\n",
    "read()는 텍스트의 전체를 불러온다."
   ]
  },
  {
   "cell_type": "code",
   "execution_count": 16,
   "metadata": {},
   "outputs": [
    {
     "name": "stdout",
     "output_type": "stream",
     "text": [
      "The capricious flame spattered darts of thin yellow light on walls and floor as the doors swung gently closed. Claudia turned from her tall, deeply tanned, uniformed escort to address the servant who had let them in.\n",
      "“I won’t be needing you tonight, Tullia. You may go now. But wait ... before you leave, we shan’t be wanting all these lamps. Put out all but that one”—she pointed—“and then you may go to bed. Poor thing, I know you’re tired.” She peered beyond the wide archway opening onto the peristylium. “I see you left a lamp burning in my bedroom. Good. Well, then, just put these others out.\n",
      "“I don’t know what I’d do without her,” Claudia said as the servant snuffed out the flame and, bowing to them, disappeared into the now darkened corridor. “She’s a treasure, Longinus, intelligent, faithful, and, most important, she’s utterly loyal. She would die before betraying me.\n"
     ]
    }
   ],
   "source": [
    "f = open(\"sample-1.txt\", \"r\")  # \"r\"은 파일을 read-only 로 열겠다고 선언하는 것이다.\n",
    "text = f.read()  # 전체 파일의 내용을 불러온다.\n",
    "f.close()  # 파일 사용을 마쳤으면 파일을 닫아준다.\n",
    "\n",
    "print(text)"
   ]
  },
  {
   "cell_type": "markdown",
   "metadata": {},
   "source": [
    "**```readlines()``` 함수의 사용**\n",
    "\n",
    "readlines()는 문단 별로 (\\n 단위로) 문장을 라인으로 읽어서 리스트로 저장한다. 따라서 for ... in 등을 사용하여 리스트에 저장된 문장을 꺼낸다."
   ]
  },
  {
   "cell_type": "code",
   "execution_count": 18,
   "metadata": {
    "scrolled": true
   },
   "outputs": [
    {
     "name": "stdout",
     "output_type": "stream",
     "text": [
      "The capricious flame spattered darts of thin yellow light on walls and floor as the doors swung gently closed. Claudia turned from her tall, deeply tanned, uniformed escort to address the servant who had let them in.\n",
      "\n",
      "“I won’t be needing you tonight, Tullia. You may go now. But wait ... before you leave, we shan’t be wanting all these lamps. Put out all but that one”—she pointed—“and then you may go to bed. Poor thing, I know you’re tired.” She peered beyond the wide archway opening onto the peristylium. “I see you left a lamp burning in my bedroom. Good. Well, then, just put these others out.\n",
      "\n",
      "“I don’t know what I’d do without her,” Claudia said as the servant snuffed out the flame and, bowing to them, disappeared into the now darkened corridor. “She’s a treasure, Longinus, intelligent, faithful, and, most important, she’s utterly loyal. She would die before betraying me.\n"
     ]
    }
   ],
   "source": [
    "f = open(\"sample-1.txt\", \"r\")  # \"r\"은 파일을 read-only 로 열겠다고 선언하는 것이다.\n",
    "text = f.readlines()  # 전체 파일의 내용을 불러온다.\n",
    "f.close()  # 파일 사용을 마쳤으면 파일을 닫아준다.\n",
    "# Q. 파일 닫기 전에 print 하면 안 되는지?\n",
    "# print(text)\n",
    "\n",
    "for line in text: # Q. split('.')도 안 했는데 line을 어떻게 알아먹는지? -> f.readlines에서 이미 끊어져있음\n",
    "    print(line)"
   ]
  },
  {
   "cell_type": "code",
   "execution_count": 14,
   "metadata": {},
   "outputs": [
    {
     "name": "stdout",
     "output_type": "stream",
     "text": [
      "The capricious flame spattered darts of thin yellow light on walls and floor as the doors swung gently closed. Claudia turned from her tall, deeply tanned, uniformed escort to address the servant who had let them in.\n",
      "“I won’t be needing you tonight, Tullia. You may go now. But wait ... before you leave, we shan’t be wanting all these lamps. Put out all but that one”—she pointed—“and then you may go to bed. Poor thing, I know you’re tired.” She peered beyond the wide archway opening onto the peristylium. “I see you left a lamp burning in my bedroom. Good. Well, then, just put these others out.\n",
      "“I don’t know what I’d do without her,” Claudia said as the servant snuffed out the flame and, bowing to them, disappeared into the now darkened corridor. “She’s a treasure, Longinus, intelligent, faithful, and, most important, she’s utterly loyal. She would die before betraying me.\n"
     ]
    }
   ],
   "source": [
    "# 문단 사이의 공백을 제거하기 위해서는 strip() 함수를 사용한다.\n",
    "for line in text:\n",
    "    print(line.strip())"
   ]
  },
  {
   "cell_type": "markdown",
   "metadata": {},
   "source": [
    "둘 중 어떤 함수를 사용하는 것이 데이터 처리에 더 도움이 되는지는 상황에 따라 다르다. 일반적으로는 readlines()을 이용하여 한줄 씩 처리하는 방법이 많이 사용되지만, 다음과 같이 read()를 이용한 후, 문장을 split() 함수를 이용하여 분해하여 사용하는 것도 가능하다."
   ]
  },
  {
   "cell_type": "code",
   "execution_count": 19,
   "metadata": {},
   "outputs": [
    {
     "name": "stdout",
     "output_type": "stream",
     "text": [
      "The capricious flame spattered darts of thin yellow light on walls and floor as the doors swung gently closed\n",
      "-----\n",
      "\n",
      "Claudia turned from her tall, deeply tanned, uniformed escort to address the servant who had let them in.\n",
      "“I won’t be needing you tonight, Tullia\n",
      "-----\n",
      "\n",
      "You may go now\n",
      "-----\n",
      "\n",
      "But wait ..\n",
      "-----\n",
      "\n",
      "before you leave, we shan’t be wanting all these lamps\n",
      "-----\n",
      "\n",
      "Put out all but that one”—she pointed—“and then you may go to bed\n",
      "-----\n",
      "\n",
      "Poor thing, I know you’re tired.” She peered beyond the wide archway opening onto the peristylium\n",
      "-----\n",
      "\n",
      "“I see you left a lamp burning in my bedroom\n",
      "-----\n",
      "\n",
      "Good\n",
      "-----\n",
      "\n",
      "Well, then, just put these others out.\n",
      "“I don’t know what I’d do without her,” Claudia said as the servant snuffed out the flame and, bowing to them, disappeared into the now darkened corridor\n",
      "-----\n",
      "\n",
      "“She’s a treasure, Longinus, intelligent, faithful, and, most important, she’s utterly loyal\n",
      "-----\n",
      "\n",
      "She would die before betraying me.\n",
      "-----\n",
      "\n"
     ]
    }
   ],
   "source": [
    "f = open(\"sample-1.txt\", \"r\")  \n",
    "text = f.read()\n",
    "f.close()\n",
    "\n",
    "lines = text.split('. ')\n",
    "for line in lines:\n",
    "#     print(line)\n",
    "    print(line + '\\n-----\\n')"
   ]
  },
  {
   "cell_type": "markdown",
   "metadata": {},
   "source": [
    "**```with open()```의 사용**\n",
    "\n",
    "with open(...) as f: 은 파일을 close하지 않아도 되서 종종 사용된다."
   ]
  },
  {
   "cell_type": "code",
   "execution_count": 22,
   "metadata": {},
   "outputs": [
    {
     "name": "stdout",
     "output_type": "stream",
     "text": [
      "The capricious flame spattered darts of thin yellow light on walls and floor as the doors swung gently closed. Claudia turned from her tall, deeply tanned, uniformed escort to address the servant who had let them in.\n",
      "“I won’t be needing you tonight, Tullia. You may go now. But wait ... before you leave, we shan’t be wanting all these lamps. Put out all but that one”—she pointed—“and then you may go to bed. Poor thing, I know you’re tired.” She peered beyond the wide archway opening onto the peristylium. “I see you left a lamp burning in my bedroom. Good. Well, then, just put these others out.\n",
      "“I don’t know what I’d do without her,” Claudia said as the servant snuffed out the flame and, bowing to them, disappeared into the now darkened corridor. “She’s a treasure, Longinus, intelligent, faithful, and, most important, she’s utterly loyal. She would die before betraying me.\n"
     ]
    }
   ],
   "source": [
    "with open(\"sample-1.txt\", \"r\", encoding=\"utf-8\") as f: # window 사용자들은 encoding을 넣어주자\n",
    "    text = f.read()  # 블록이 끝나면 자동으로 close 된다.\n",
    "\n",
    "print(text)"
   ]
  },
  {
   "cell_type": "markdown",
   "metadata": {},
   "source": [
    "## File Write\n",
    "\n",
    "파이썬에서 파일을 저장할때도 open()함수를 사용한다. 다만, 사용하는 옵션은 \"w\" 혹은 \"a\"이다."
   ]
  },
  {
   "cell_type": "code",
   "execution_count": 25,
   "metadata": {},
   "outputs": [],
   "source": [
    "mylist = [\"hello\", \"python\", 1, 2, 3]\n",
    "f = open(\"result-w.txt\", \"w\")  # w 옵션을 파일을 저장할 때 사용한다.\n",
    "for i in mylist:\n",
    "    f.write(str(i) + \"\\n\") # 배열 안에 int요소들을 str으로 바꿔줘야 출력 가능\n",
    "f.close()  # close()를 하지 않으면 파일의 내용이 저장되지 않는다."
   ]
  },
  {
   "cell_type": "markdown",
   "metadata": {},
   "source": [
    "\"w\" 옵션은 파일의 내용을 대체한다. 따라서 새로운 내용이 write 되면 이전의 내용은 사라진다."
   ]
  },
  {
   "cell_type": "code",
   "execution_count": 22,
   "metadata": {},
   "outputs": [],
   "source": [
    "f = open(\"result-w.txt\", \"w\")\n",
    "f.write(\"이렇게\")\n",
    "f.write(\"\\n\")\n",
    "f.write(\"값이 \")\n",
    "f.write(\"바뀜\")\n",
    "f.close()"
   ]
  },
  {
   "cell_type": "markdown",
   "metadata": {},
   "source": [
    "기존의 내용에 추가로 내용을 작성하기 위해서는 \"a\" 옵션을 사용한다. (append)"
   ]
  },
  {
   "cell_type": "code",
   "execution_count": 26,
   "metadata": {},
   "outputs": [],
   "source": [
    "f = open(\"result-w.txt\",\"a\")\n",
    "f.write(\"\\n실행하면 값이 추가됨\")\n",
    "f.close()"
   ]
  },
  {
   "cell_type": "markdown",
   "metadata": {},
   "source": [
    "File Read 와 마찬가지로 ```with open...```을 사용할 수 있다. close()를 하지 않아도 블록이 끝난 후 자동으로 파일이 close()된다."
   ]
  },
  {
   "cell_type": "code",
   "execution_count": null,
   "metadata": {
    "collapsed": true
   },
   "outputs": [],
   "source": [
    "mylist = [\"hello\", \"python\", 1, 2, 3]\n",
    "with open(\"result-w.txt\", \"w\") as f:\n",
    "    for i in mylist:\n",
    "        f.write(str(i) + \"\\n\")"
   ]
  },
  {
   "cell_type": "markdown",
   "metadata": {},
   "source": [
    "## Object Oriented Programming\n",
    "\n",
    "다른 프로그래밍 언어와 마찬가지로 파이썬도 Object Oriented Programming 개념을 가지고 있다. (개념 설명은 슬라이드 참고)\n",
    "\n",
    "클래스는 다음과 같이 정의한다.\n",
    "\n",
    "```\n",
    "class class_name(super_class_name):\n",
    "    \n",
    "    def __init__(self, [var1, var2, ...]):\n",
    "        self.member_variable1 = var1\n",
    "        do something\n",
    "        \n",
    "    def public_method(self, [var1, var2, ...]):\n",
    "        do something\n",
    "        \n",
    "    def __private_method(self, [var1, var2, ...]):\n",
    "        do something\n",
    "    ...\n",
    "    ...\n",
    "```"
   ]
  },
  {
   "cell_type": "markdown",
   "metadata": {},
   "source": [
    "주사위(Die) 클래스는 roll() 이라는 메소드를 가지고 있다. \n",
    "\n",
    "주사위 오브젝트 die 는 **```die = Die()```** 와 같은 형식으로 생성한다.\n",
    "\n",
    "클래스의 멤버 메소드인 roll을 실행하기 위해서는 **```die.roll()```** 을 선언한다."
   ]
  },
  {
   "cell_type": "code",
   "execution_count": 2,
   "metadata": {},
   "outputs": [
    {
     "name": "stdout",
     "output_type": "stream",
     "text": [
      "6\n"
     ]
    }
   ],
   "source": [
    "import random\n",
    "class Die:       \n",
    "\n",
    "    def roll(self):\n",
    "        return 1 + random.randrange(6)\n",
    "\n",
    "die = Die()\n",
    "print(die.roll())"
   ]
  },
  {
   "cell_type": "markdown",
   "metadata": {},
   "source": [
    "show() 메소드는 member variable 인 self.number의 값이 존재해야 한다. (아니면 에러 발생) 따라서 show()가 실행되기 전 roll() 이 먼저 실행이 되어 self.number 가 초기화 되어야 한다."
   ]
  },
  {
   "cell_type": "code",
   "execution_count": 5,
   "metadata": {},
   "outputs": [
    {
     "name": "stdout",
     "output_type": "stream",
     "text": [
      "1\n"
     ]
    }
   ],
   "source": [
    "import random\n",
    "class Die:       \n",
    "    \n",
    "    def roll(self):\n",
    "        self.number = 1 + random.randrange(6)\n",
    "    \n",
    "    def show(self):\n",
    "        return self.number\n",
    "        \n",
    "die = Die()\n",
    "die.roll()\n",
    "print(die.show())"
   ]
  },
  {
   "cell_type": "markdown",
   "metadata": {},
   "source": [
    "```__init__``` 메소드는 constructor 이다. 오브젝트가 생성될 때 자동으로 실행되며 member variable 등을 설정한다."
   ]
  },
  {
   "cell_type": "code",
   "execution_count": 1,
   "metadata": {},
   "outputs": [
    {
     "name": "stdout",
     "output_type": "stream",
     "text": [
      "4\n",
      "2\n"
     ]
    }
   ],
   "source": [
    "import random\n",
    "class Die:    \n",
    "    \n",
    "    def __init__(self):\n",
    "        self.roll()\n",
    "    \n",
    "    def roll(self):\n",
    "        self.number = 1 + random.randrange(6)\n",
    "    \n",
    "    def show(self):\n",
    "        return self.number\n",
    "    \n",
    "die = Die().show()\n",
    "print(die)\n",
    "\n",
    "die1 = Die()\n",
    "print(die1.show())"
   ]
  },
  {
   "cell_type": "markdown",
   "metadata": {},
   "source": [
    "## OOP 연습: Dragon 키우기 1\n",
    "\n",
    "dragon 키우기라는 간단한 게임을 만들어 보자. 다음과 같은 동작을 수행할 것이다.\n",
    "\n",
    "> Dragon은 이름을 가진다.\n",
    "\n",
    "> 밥을 주면 배가 가득 찬다.\n",
    "\n",
    "> 소화관이 차면 산책을 가서 용변을 봐야 한다.\n",
    "\n",
    "> 재우면 3번 코를 골며 자다가 곧 일어난다.\n",
    "\n",
    "> 하늘높이 던지면(toss) 좋아하고, 안아서 흔들어주면(rock) 잠이든다. 곧 잠에서 깨지만.\n",
    "\n",
    "> 시간이 지날 수록 (한번 뭔가 액션을 취할 수록)  배는 고파지고 소화관은 차오른다.\n",
    "\n",
    "> 배가 너무 고프면 게임은 끝. 소화관이 너무 차면 실례를..."
   ]
  },
  {
   "cell_type": "code",
   "execution_count": 5,
   "metadata": {},
   "outputs": [
    {
     "name": "stdout",
     "output_type": "stream",
     "text": [
      "G-Dragon이 태어났습니다.\n",
      "G-Dragon은 깨어 있어요.\n",
      "G-Dragon은 지금 배가 10인 상태입니다.\n",
      "G-Dragon은 지금 장이 0인 상태입니다.\n",
      "===============================\n",
      "G-Dragon에게 밥을 주고 있어요.\n",
      "===============================\n",
      "G-Dragon은 지금 배가 10인 상태입니다.\n",
      "G-Dragon은 지금 장이 1인 상태입니다.\n",
      "===============================\n",
      "G-Dragon과 산책을 했어요.\n",
      "===============================\n",
      "G-Dragon은 지금 배가 9인 상태입니다.\n",
      "G-Dragon은 지금 장이 0인 상태입니다.\n"
     ]
    }
   ],
   "source": [
    "class Dragon:\n",
    "\n",
    "    def __init__ (self, name=\"dora\"):\n",
    "        self.name = name\n",
    "        self.asleep = False\n",
    "        self.stuff_in_belly = 10\n",
    "        self.stuff_in_intestine = 0\n",
    "\n",
    "        print(\"%s이 태어났습니다.\" % self.name)\n",
    "\n",
    "        if self.asleep:\n",
    "            print(\"%s은 지금 자고 있어요.\" % self.name)\n",
    "        else:\n",
    "            print(\"%s은 깨어 있어요.\" % self.name)\n",
    "\n",
    "        self.check_variables()\n",
    "\n",
    "    def feed(self):\n",
    "        print(\"===============================\")\n",
    "        print(\"%s에게 밥을 주고 있어요.\" % self.name)\n",
    "        print(\"===============================\")\n",
    "        self.passage_of_time()\n",
    "        self.stuff_in_belly = 10\n",
    "        self.check_variables()\n",
    "\n",
    "    def walk(self):\n",
    "        print(\"===============================\")\n",
    "        print(\"%s과 산책을 했어요.\" % self.name)\n",
    "        print(\"===============================\")\n",
    "        self.passage_of_time()\n",
    "        self.stuff_in_intestine = 0\n",
    "        self.check_variables()\n",
    "\n",
    "    def passage_of_time(self):\n",
    "        self.stuff_in_belly -= 1\n",
    "#         self.stuff_in_belly = self.stuff_in_belly - 1          # 뱃속은 하나씩 비우고\n",
    "        self.stuff_in_intestine = self.stuff_in_intestine + 1  # 장은 하나씩 채우고\n",
    "\n",
    "    def check_variables(self):\n",
    "        print(\"%s은 지금 배가 %d인 상태입니다.\" % (self.name, self.stuff_in_belly))\n",
    "        print(\"%s은 지금 장이 %d인 상태입니다.\" % (self.name, self.stuff_in_intestine))\n",
    "\n",
    "\n",
    "dragon = Dragon(\"G-Dragon\")\n",
    "dragon.feed()\n",
    "dragon.walk()"
   ]
  },
  {
   "cell_type": "markdown",
   "metadata": {
    "collapsed": true
   },
   "source": [
    "## OOP 연습: Dragon 키우기 2\n",
    "\n",
    "멤버 메소드를 더 만들어 보자."
   ]
  },
  {
   "cell_type": "code",
   "execution_count": 7,
   "metadata": {},
   "outputs": [],
   "source": [
    "class Dragon:\n",
    "\n",
    "    def __init__ (self, name=\"dora\"):\n",
    "        \"\"\"\n",
    "        Constructor: Dragon 생성과 관련한 변수를 초기화 하고 생성 메시지를 출력한다\n",
    "        Variables: name, asleep, stuff_in_belly, stuff_in_intestine\n",
    "        \"\"\"\n",
    "        self.name = name\n",
    "        self.asleep = False\n",
    "        self.stuff_in_belly = 10\n",
    "        self.stuff_in_intestine = 0\n",
    "\n",
    "        print(\"\\n===============================\")\n",
    "        print(\"%s이 태어났습니다.\" % self.name)\n",
    "        print(\"===============================\")\n",
    "        self.check_variables()\n",
    "\n",
    "    def feed(self):\n",
    "        \"\"\"\n",
    "        Feed method: stuff_in_belly 값을 최고치(10)으로 설정\n",
    "        passage_of_time()을 한번 실행 (시간을 가게 만드는 역할)\n",
    "        \"\"\"\n",
    "        print(\"\\n===============================\")\n",
    "        print(\"%s에게 밥을 주고 있어요.\" % self.name)\n",
    "        print(\"===============================\")\n",
    "        self.passage_of_time()\n",
    "        self.stuff_in_belly = 10\n",
    "        self.check_variables()\n",
    "\n",
    "    def walk(self):\n",
    "        \"\"\"\n",
    "        Walk method: stuff_in_intestine 값을 최저치(0)으로 설정\n",
    "        passage_of_time()을 한번 실행 (시간을 가게 만드는 역할)\n",
    "        \"\"\"\n",
    "        print(\"\\n===============================\")\n",
    "        print(\"%s과 산책을 했어요.\" % self.name)\n",
    "        print(\"===============================\")\n",
    "        self.passage_of_time()\n",
    "        self.stuff_in_intestine = 0\n",
    "        self.check_variables()\n",
    "\n",
    "    def toss(self):\n",
    "        \"\"\"\n",
    "        Toss method: 내부 변수를 변경하지는 않는다.\n",
    "        passage_of_time()을 한번 실행 (시간을 가게 만드는 역할)\n",
    "        \"\"\"\n",
    "        print(\"\\n===============================\")\n",
    "        print(\"%s을 하늘 높이 던졌어요.\" % self.name)\n",
    "        print(\"===============================\")\n",
    "        print(\"즐거워 하네요.\")\n",
    "        self.passage_of_time()\n",
    "        self.check_variables()\n",
    "\n",
    "    def rock(self):\n",
    "        \"\"\"\n",
    "        Rock method: asleep 변수를 True로 지정한 후 메시지를 출력하고 다시 False로 지정\n",
    "        passage_of_time()을 한번 실행 (시간을 가게 만드는 역할)\n",
    "        \"\"\"\n",
    "        print(\"\\n===============================\")\n",
    "        print(\"%s을 안아서 흔들어 주었어요.\" % self.name)\n",
    "        print(\"===============================\")\n",
    "        print(\"잠이 들었네요.\")\n",
    "        self.asleep = True\n",
    "        self.passage_of_time()\n",
    "        if self.asleep:\n",
    "            self.asleep = False\n",
    "            print(\"...그런데 흔들기를 멈췄더니 금새 깨버렸어요.\")\n",
    "        self.check_variables()\n",
    "\n",
    "    def put_to_bed(self):\n",
    "        \"\"\"\n",
    "        Put to bed method: asleep 을 True로 설정하고\n",
    "        passage_of_time()을 세번 실행한다.\n",
    "        그 이후에는 asleep을 False로 설정한다.\n",
    "        \"\"\"\n",
    "        print(\"\\n===============================\")\n",
    "        print(\"%s을 재웠어요.\" % self.name)\n",
    "        print(\"===============================\")\n",
    "        self.asleep = True\n",
    "        for _ in range(3):\n",
    "            if self.asleep:\n",
    "                print(\"%s이 코를 골아 방안에 연기가 가득찼어요!\" % self.name)\n",
    "                self.passage_of_time()\n",
    "        if self.asleep:\n",
    "            self.asleep = False\n",
    "            print(\"%s이 일어나려고 하네요.\" % self.name)\n",
    "        self.check_variables()\n",
    "\n",
    "    def passage_of_time(self):\n",
    "        \"\"\"\n",
    "        Passge of Time method: 한 turn 이 돌아가게 하는 메소드.\n",
    "        stuff_in_belly와 stuff_in_intestine의 값을 turn이 계속됨에 따라 증가/감소 시킨다.\n",
    "        또한 현재 배가 고픈 상태인지, 장이 가득차 있는 상태인지를 확인하여 관련 메시지를 출력한다.\n",
    "        \"\"\"\n",
    "\n",
    "        # 배가 고픈지 여부를 체크한 후 처리\n",
    "        if self.stuff_in_belly > 0: # 뱃속에 뭔가라도 차 있으면 내용물을 장으로 이동\n",
    "            self.stuff_in_belly = self.stuff_in_belly - 1  # 뱃속은 하나씩 비우고\n",
    "            self.stuff_in_intestine = self.stuff_in_intestine + 1  # 장은 하나씩 채우고\n",
    "        else:  # 배고픈 상태일 때 (stuff_in_belly <= 0)\n",
    "            if self.asleep:  # 배고픈 상태로 자고 있을 때에는\n",
    "                self.asleep = False  # 일단 깨고\n",
    "                print(\"갑자기 잠에서 깼네요!\")\n",
    "            print(\"%s이 몹시 배가 고파요! 당신을 잡아먹었어요.\" % self.name)\n",
    "            print(\"\\n===============================\")\n",
    "            print(\"Dragon 키우기가 종료되었습니다.\")\n",
    "            print(\"===============================\")\n",
    "            exit()\n",
    "\n",
    "        # 장이 얼마나 찼는지 여부를 체크한 후 처리\n",
    "        if self.stuff_in_intestine >= 10:  # 장이 10보다 더 차 있으면\n",
    "            self.stuff_in_intestine = 0  # 장을 다 비운 후\n",
    "            print(\"저런! %s이 그만 아무데나 실례를 했네요...\" % self.name)\n",
    "\n",
    "        # 배가 고픈지 미리 알려주자\n",
    "        if self.is_hungry():\n",
    "            if self.asleep:\n",
    "                self.asleep = False\n",
    "                print(\"갑자기 잠에서 깼네요!\")\n",
    "            print(\"%s 뱃속에서 꼬르륵 소리가...\" % self.name)\n",
    "\n",
    "        # 화장실이 급한지 미리 알려주자\n",
    "        if self.is_poopy():\n",
    "            if self.asleep:\n",
    "                self.asleep = False\n",
    "                print(\"갑자기 잠에서 깼네요!\")\n",
    "            print(\"%s가 화장실에 가고 싶어 어쩔 줄 몰라해요.\" % self.name)\n",
    "\n",
    "    def is_hungry(self):\n",
    "        \"\"\"\n",
    "        배가 고프면 (2보다 작거나 같으면 true를 반환)\n",
    "        \"\"\"\n",
    "        if self.stuff_in_belly <= 2:\n",
    "            return True\n",
    "        else:\n",
    "            return False\n",
    "\n",
    "    def is_poopy(self):\n",
    "        \"\"\"\n",
    "        장이 차면 (8보다 크거나 같으면 true를 반환)\n",
    "        \"\"\"\n",
    "        if self.stuff_in_intestine >= 8:\n",
    "            return True\n",
    "        else:\n",
    "            return False\n",
    "\n",
    "    def check_variables(self):\n",
    "        \"\"\"\n",
    "        주요 내부 변인 (stuff_in_belly, stuff_in_intestine) 의 값을 프린팅\n",
    "        \"\"\"\n",
    "        print(\"\\n>> %s은 지금 배가 %d인 상태입니다.\" % (self.name, self.stuff_in_belly))\n",
    "        print(\">> %s은 지금 장이 %d인 상태입니다.\" % (self.name, self.stuff_in_intestine))"
   ]
  },
  {
   "cell_type": "code",
   "execution_count": 8,
   "metadata": {},
   "outputs": [
    {
     "name": "stdout",
     "output_type": "stream",
     "text": [
      "\n",
      "===============================\n",
      "dora이 태어났습니다.\n",
      "===============================\n",
      "\n",
      ">> dora은 지금 배가 10인 상태입니다.\n",
      ">> dora은 지금 장이 0인 상태입니다.\n",
      "\n",
      "===============================\n",
      "dora에게 밥을 주고 있어요.\n",
      "===============================\n",
      "\n",
      ">> dora은 지금 배가 10인 상태입니다.\n",
      ">> dora은 지금 장이 1인 상태입니다.\n",
      "\n",
      "===============================\n",
      "dora과 산책을 했어요.\n",
      "===============================\n",
      "\n",
      ">> dora은 지금 배가 9인 상태입니다.\n",
      ">> dora은 지금 장이 0인 상태입니다.\n",
      "\n",
      "===============================\n",
      "dora을 하늘 높이 던졌어요.\n",
      "===============================\n",
      "즐거워 하네요.\n",
      "\n",
      ">> dora은 지금 배가 8인 상태입니다.\n",
      ">> dora은 지금 장이 1인 상태입니다.\n",
      "\n",
      "===============================\n",
      "dora을 하늘 높이 던졌어요.\n",
      "===============================\n",
      "즐거워 하네요.\n",
      "\n",
      ">> dora은 지금 배가 7인 상태입니다.\n",
      ">> dora은 지금 장이 2인 상태입니다.\n",
      "\n",
      "===============================\n",
      "dora을 안아서 흔들어 주었어요.\n",
      "===============================\n",
      "잠이 들었네요.\n",
      "...그런데 흔들기를 멈췄더니 금새 깨버렸어요.\n",
      "\n",
      ">> dora은 지금 배가 6인 상태입니다.\n",
      ">> dora은 지금 장이 3인 상태입니다.\n",
      "\n",
      "===============================\n",
      "dora을 재웠어요.\n",
      "===============================\n",
      "dora이 코를 골아 방안에 연기가 가득찼어요!\n",
      "dora이 코를 골아 방안에 연기가 가득찼어요!\n",
      "dora이 코를 골아 방안에 연기가 가득찼어요!\n",
      "dora이 일어나려고 하네요.\n",
      "\n",
      ">> dora은 지금 배가 3인 상태입니다.\n",
      ">> dora은 지금 장이 6인 상태입니다.\n",
      "\n",
      "===============================\n",
      "dora을 재웠어요.\n",
      "===============================\n",
      "dora이 코를 골아 방안에 연기가 가득찼어요!\n",
      "갑자기 잠에서 깼네요!\n",
      "dora 뱃속에서 꼬르륵 소리가...\n",
      "\n",
      ">> dora은 지금 배가 2인 상태입니다.\n",
      ">> dora은 지금 장이 7인 상태입니다.\n",
      "\n",
      "===============================\n",
      "dora에게 밥을 주고 있어요.\n",
      "===============================\n",
      "dora 뱃속에서 꼬르륵 소리가...\n",
      "dora가 화장실에 가고 싶어 어쩔 줄 몰라해요.\n",
      "\n",
      ">> dora은 지금 배가 10인 상태입니다.\n",
      ">> dora은 지금 장이 8인 상태입니다.\n",
      "\n",
      "===============================\n",
      "dora에게 밥을 주고 있어요.\n",
      "===============================\n",
      "dora가 화장실에 가고 싶어 어쩔 줄 몰라해요.\n",
      "\n",
      ">> dora은 지금 배가 10인 상태입니다.\n",
      ">> dora은 지금 장이 9인 상태입니다.\n",
      "\n",
      "===============================\n",
      "dora을 재웠어요.\n",
      "===============================\n",
      "dora이 코를 골아 방안에 연기가 가득찼어요!\n",
      "저런! dora이 그만 아무데나 실례를 했네요...\n",
      "dora이 코를 골아 방안에 연기가 가득찼어요!\n",
      "dora이 코를 골아 방안에 연기가 가득찼어요!\n",
      "dora이 일어나려고 하네요.\n",
      "\n",
      ">> dora은 지금 배가 7인 상태입니다.\n",
      ">> dora은 지금 장이 2인 상태입니다.\n",
      "\n",
      "===============================\n",
      "dora을 재웠어요.\n",
      "===============================\n",
      "dora이 코를 골아 방안에 연기가 가득찼어요!\n",
      "dora이 코를 골아 방안에 연기가 가득찼어요!\n",
      "dora이 코를 골아 방안에 연기가 가득찼어요!\n",
      "dora이 일어나려고 하네요.\n",
      "\n",
      ">> dora은 지금 배가 4인 상태입니다.\n",
      ">> dora은 지금 장이 5인 상태입니다.\n",
      "\n",
      "===============================\n",
      "dora을 재웠어요.\n",
      "===============================\n",
      "dora이 코를 골아 방안에 연기가 가득찼어요!\n",
      "dora이 코를 골아 방안에 연기가 가득찼어요!\n",
      "갑자기 잠에서 깼네요!\n",
      "dora 뱃속에서 꼬르륵 소리가...\n",
      "\n",
      ">> dora은 지금 배가 2인 상태입니다.\n",
      ">> dora은 지금 장이 7인 상태입니다.\n",
      "\n",
      "===============================\n",
      "dora을 재웠어요.\n",
      "===============================\n",
      "dora이 코를 골아 방안에 연기가 가득찼어요!\n",
      "갑자기 잠에서 깼네요!\n",
      "dora 뱃속에서 꼬르륵 소리가...\n",
      "dora가 화장실에 가고 싶어 어쩔 줄 몰라해요.\n",
      "\n",
      ">> dora은 지금 배가 1인 상태입니다.\n",
      ">> dora은 지금 장이 8인 상태입니다.\n",
      "\n",
      "===============================\n",
      "dora을 재웠어요.\n",
      "===============================\n",
      "dora이 코를 골아 방안에 연기가 가득찼어요!\n",
      "갑자기 잠에서 깼네요!\n",
      "dora 뱃속에서 꼬르륵 소리가...\n",
      "dora가 화장실에 가고 싶어 어쩔 줄 몰라해요.\n",
      "\n",
      ">> dora은 지금 배가 0인 상태입니다.\n",
      ">> dora은 지금 장이 9인 상태입니다.\n",
      "\n",
      "===============================\n",
      "dora을 재웠어요.\n",
      "===============================\n",
      "dora이 코를 골아 방안에 연기가 가득찼어요!\n",
      "갑자기 잠에서 깼네요!\n",
      "dora이 몹시 배가 고파요! 당신을 잡아먹었어요.\n",
      "\n",
      "===============================\n",
      "Dragon 키우기가 종료되었습니다.\n",
      "===============================\n",
      "dora 뱃속에서 꼬르륵 소리가...\n",
      "dora가 화장실에 가고 싶어 어쩔 줄 몰라해요.\n",
      "\n",
      ">> dora은 지금 배가 0인 상태입니다.\n",
      ">> dora은 지금 장이 9인 상태입니다.\n"
     ]
    }
   ],
   "source": [
    "dragon = Dragon()\n",
    "dragon.feed()\n",
    "dragon.walk()\n",
    "dragon.toss()\n",
    "dragon.toss()\n",
    "dragon.rock()\n",
    "dragon.put_to_bed()\n",
    "dragon.put_to_bed()\n",
    "dragon.feed()\n",
    "dragon.feed()\n",
    "dragon.put_to_bed()\n",
    "dragon.put_to_bed()\n",
    "dragon.put_to_bed()\n",
    "dragon.put_to_bed()\n",
    "dragon.put_to_bed()\n",
    "dragon.put_to_bed()"
   ]
  },
  {
   "cell_type": "markdown",
   "metadata": {},
   "source": [
    "## OOP 연습: Dragon 키우기 \n",
    "\n",
    "게임을 인터랙티브하게 바꾸어 보자."
   ]
  },
  {
   "cell_type": "code",
   "execution_count": null,
   "metadata": {
    "collapsed": true
   },
   "outputs": [],
   "source": [
    "class Dragon:\n",
    "\n",
    "    def __init__ (self, name=\"dora\"):\n",
    "        \"\"\"\n",
    "        Constructor: Dragon 생성과 관련한 변수를 초기화 하고 생성 메시지를 출력한다\n",
    "        Variables: name, asleep, stuff_in_belly, stuff_in_intestine\n",
    "        \"\"\"\n",
    "        self.name = name\n",
    "        self.asleep = False\n",
    "        self.stuff_in_belly = 10\n",
    "        self.stuff_in_intestine = 0\n",
    "\n",
    "        print(\"\\n===============================\")\n",
    "        print(\"%s이 태어났습니다.\" % self.name)\n",
    "        print(\"===============================\")\n",
    "        # self.check_variables()\n",
    "\n",
    "    def feed(self):\n",
    "        \"\"\"\n",
    "        Feed method: stuff_in_belly 값을 최고치(10)으로 설정\n",
    "        __passage_of_time()을 한번 실행 (시간을 가게 만드는 역할)\n",
    "        \"\"\"\n",
    "        print(\"\\n===============================\")\n",
    "        print(\"%s에게 밥을 주고 있어요.\" % self.name)\n",
    "        print(\"===============================\")\n",
    "        self.__passage_of_time()\n",
    "        self.stuff_in_belly = 10\n",
    "        # self.check_variables()\n",
    "\n",
    "    def walk(self):\n",
    "        \"\"\"\n",
    "        Walk method: stuff_in_intestine 값을 최저치(0)으로 설정\n",
    "        __passage_of_time()을 한번 실행 (시간을 가게 만드는 역할)\n",
    "        \"\"\"\n",
    "        print(\"\\n===============================\")\n",
    "        print(\"%s과 산책을 했어요.\" % self.name)\n",
    "        print(\"===============================\")\n",
    "        self.__passage_of_time()\n",
    "        self.stuff_in_intestine = 0\n",
    "        # self.check_variables()\n",
    "\n",
    "    def toss(self):\n",
    "        \"\"\"\n",
    "        Toss method: 내부 변수를 변경하지는 않는다.\n",
    "        __passage_of_time()을 한번 실행 (시간을 가게 만드는 역할)\n",
    "        \"\"\"\n",
    "        print(\"\\n===============================\")\n",
    "        print(\"%s을 하늘 높이 던졌어요.\" % self.name)\n",
    "        print(\"===============================\")\n",
    "        print(\"즐거워 하네요.\")\n",
    "        self.__passage_of_time()\n",
    "        # self.check_variables()\n",
    "\n",
    "    def rock(self):\n",
    "        \"\"\"\n",
    "        Rock method: asleep 변수를 True로 지정한 후 메시지를 출력하고 다시 False로 지정\n",
    "        __passage_of_time()을 한번 실행 (시간을 가게 만드는 역할)\n",
    "        \"\"\"\n",
    "        print(\"\\n===============================\")\n",
    "        print(\"%s을 안아서 흔들어 주었어요.\" % self.name)\n",
    "        print(\"===============================\")\n",
    "        print(\"잠이 들었네요.\")\n",
    "        self.asleep = True\n",
    "        self.__passage_of_time()\n",
    "        if self.asleep:\n",
    "            self.asleep = False\n",
    "            print(\"...그런데 흔들기를 멈췄더니 금새 깨버렸어요.\")\n",
    "        # self.check_variables()\n",
    "\n",
    "    def put_to_bed(self):\n",
    "        \"\"\"\n",
    "        Put to bed method: asleep 을 True로 설정하고\n",
    "        __passage_of_time()을 세번 실행한다.\n",
    "        그 이후에는 asleep을 False로 설정한다.\n",
    "        \"\"\"\n",
    "        print(\"\\n===============================\")\n",
    "        print(\"%s을 재웠어요.\" % self.name)\n",
    "        print(\"===============================\")\n",
    "        self.asleep = True\n",
    "        for _ in range(3):\n",
    "            if self.asleep:\n",
    "                print(\"%s이 코를 골아 방안에 연기가 가득찼어요!\" % self.name)\n",
    "                self.__passage_of_time()\n",
    "        if self.asleep:\n",
    "            self.asleep = False\n",
    "            print(\"%s이 일어나려고 하네요.\" % self.name)\n",
    "        # self.check_variables()\n",
    "\n",
    "    def __passage_of_time(self):\n",
    "        \"\"\"\n",
    "        Passge of Time method: 한 turn 이 돌아가게 하는 메소드.\n",
    "        stuff_in_belly와 stuff_in_intestine의 값을 turn이 계속됨에 따라 증가/감소 시킨다.\n",
    "        또한 현재 배가 고픈 상태인지, 장이 가득차 있는 상태인지를 확인하여 관련 메시지를 출력한다.\n",
    "        \"\"\"\n",
    "\n",
    "        # 배가 고픈지 여부를 체크한 후 처리\n",
    "        if self.stuff_in_belly > 0: # 뱃속에 뭔가라도 차 있으면 내용물을 장으로 이동\n",
    "            self.stuff_in_belly = self.stuff_in_belly - 1  # 뱃속은 하나씩 비우고\n",
    "            self.stuff_in_intestine = self.stuff_in_intestine + 1  # 장은 하나씩 채우고\n",
    "        else:  # 배고픈 상태일 때 (stuff_in_belly <= 0)\n",
    "            if self.asleep:  # 배고픈 상태로 자고 있을 때에는\n",
    "                self.asleep = False  # 일단 깨고\n",
    "                print(\"갑자기 잠에서 깼네요!\")\n",
    "            print(\"%s이 몹시 배가 고파요! 당신을 잡아먹었어요.\" % self.name)\n",
    "            print(\"\\n===============================\")\n",
    "            print(\"Dragon 키우기가 종료되었습니다.\")\n",
    "            print(\"===============================\")\n",
    "            exit()\n",
    "\n",
    "        # 장이 얼마나 찼는지 여부를 체크한 후 처리\n",
    "        if self.stuff_in_intestine >= 10:  # 장이 10보다 더 차 있으면\n",
    "            self.stuff_in_intestine = 0  # 장을 다 비운 후\n",
    "            print(\"저런! %s이 그만 아무데나 실례를 했네요...\" % self.name)\n",
    "\n",
    "        # 배가 고픈지 미리 알려주자\n",
    "        if self.__is_hungry():\n",
    "            if self.asleep:\n",
    "                self.asleep = False\n",
    "                print(\"갑자기 잠에서 깼네요!\")\n",
    "            print(\"%s 뱃속에서 꼬르륵 소리가...\" % self.name)\n",
    "\n",
    "        # 화장실이 급한지 미리 알려주자\n",
    "        if self.__is_poopy():\n",
    "            if self.asleep:\n",
    "                self.asleep = False\n",
    "                print(\"갑자기 잠에서 깼네요!\")\n",
    "            print(\"%s가 화장실에 가고 싶어 어쩔 줄 몰라해요.\" % self.name)\n",
    "\n",
    "    def __is_hungry(self):\n",
    "        \"\"\"\n",
    "        배가 고프면 (2보다 작거나 같으면 true를 반환)\n",
    "        \"\"\"\n",
    "        if self.stuff_in_belly <= 2:\n",
    "            return True\n",
    "        else:\n",
    "            return False\n",
    "\n",
    "    def __is_poopy(self):\n",
    "        \"\"\"\n",
    "        장이 차면 (8보다 크거나 같으면 true를 반환)\n",
    "        \"\"\"\n",
    "        if self.stuff_in_intestine >= 8:\n",
    "            return True\n",
    "        else:\n",
    "            return False\n",
    "\n",
    "    def check_variables(self):\n",
    "        \"\"\"\n",
    "        주요 내부 변인 (stuff_in_belly, stuff_in_intestine) 의 값을 프린팅\n",
    "        \"\"\"\n",
    "        print(\"\\n>> %s은 지금 배가 %d인 상태입니다.\" % (self.name, self.stuff_in_belly))\n",
    "        print(\">> %s은 지금 장이 %d인 상태입니다.\" % (self.name, self.stuff_in_intestine))"
   ]
  },
  {
   "cell_type": "code",
   "execution_count": null,
   "metadata": {},
   "outputs": [],
   "source": [
    "name = input(\">> Dragon의 이름을 입력해 주세요. \")\n",
    "if name == \"\":\n",
    "    dragon = Dragon()\n",
    "else:\n",
    "    dragon = Dragon(name)\n",
    "\n",
    "status = True\n",
    "while status:\n",
    "    print(\"\\n>> commands:  feed, toss, walk, rock, put to bed, exit\")\n",
    "    command = input(\">> 명령어를 입력하세요: \")\n",
    "\n",
    "    if command == \"exit\":\n",
    "        print(\">> 게임을 종료합니다.\")\n",
    "        status = False\n",
    "    elif command == \"feed\":\n",
    "        dragon.feed()\n",
    "    elif command == \"toss\":\n",
    "        dragon.toss()\n",
    "    elif command == \"walk\":\n",
    "        dragon.walk()\n",
    "    elif command == \"rock\":\n",
    "        dragon.rock()\n",
    "    elif command == \"put to bed\":\n",
    "        dragon.put_to_bed()\n",
    "    else:\n",
    "        print(\">> 제시된 명령어만 사용해 주세요.\")"
   ]
  }
 ],
 "metadata": {
  "kernelspec": {
   "display_name": "Python 3",
   "language": "python",
   "name": "python3"
  },
  "language_info": {
   "codemirror_mode": {
    "name": "ipython",
    "version": 3
   },
   "file_extension": ".py",
   "mimetype": "text/x-python",
   "name": "python",
   "nbconvert_exporter": "python",
   "pygments_lexer": "ipython3",
   "version": "3.7.3"
  }
 },
 "nbformat": 4,
 "nbformat_minor": 1
}
