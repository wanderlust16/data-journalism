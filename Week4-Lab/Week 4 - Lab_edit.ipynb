{
 "cells": [
  {
   "cell_type": "markdown",
   "metadata": {},
   "source": [
    "# Week 4 - Data Processing\n",
    "\n",
    "이번 시간에는 python의 기본 명령어들을 이용하여 데이터 프로세싱을 하기 위한 기초를 다룬다. 이 과정에서 데이터 파일의 import, 데이터 타입 수정, 분석을 위한 함수 생성, 새로운 컬럼의 생성 등을 다룬다.\n",
    "\n",
    "먼저 **`table_descriptions.txt`**을 읽어보자."
   ]
  },
  {
   "cell_type": "markdown",
   "metadata": {},
   "source": [
    "## Import CSV"
   ]
  },
  {
   "cell_type": "markdown",
   "metadata": {},
   "source": [
    "unicodecsv라는 모듈은 csv 파일을 unicode로 불러올 수 있게 한다. ```pip install unicodecsv```를 실행하여 해당 모듈을 설치하도록 하자. https://github.com/jdunck/python-unicodecsv"
   ]
  },
  {
   "cell_type": "code",
   "execution_count": 4,
   "metadata": {},
   "outputs": [
    {
     "name": "stdout",
     "output_type": "stream",
     "text": [
      "OrderedDict([('account_key', '448'), ('status', 'canceled'), ('join_date', '2014-11-10'), ('cancel_date', '2015-01-14'), ('days_to_cancel', '65'), ('is_udacity', 'True'), ('is_canceled', 'True')])\n"
     ]
    }
   ],
   "source": [
    "import unicodecsv as csv\n",
    "\n",
    "enrollments = []  # dictionary를 담을 list\n",
    "f = open('enrollments.csv', 'rb')\n",
    "reader = csv.DictReader(f)  # csv를 읽어서 dictionary 형태로 저장한다\n",
    "for row in reader:\n",
    "#     print(row)\n",
    "    enrollments.append(row)\n",
    "f.close()\n",
    "\n",
    "print(enrollments[0])"
   ]
  },
  {
   "cell_type": "code",
   "execution_count": 5,
   "metadata": {},
   "outputs": [
    {
     "name": "stdout",
     "output_type": "stream",
     "text": [
      "OrderedDict([('account_key', '448'), ('status', 'canceled'), ('join_date', '2014-11-10'), ('cancel_date', '2015-01-14'), ('days_to_cancel', '65'), ('is_udacity', 'True'), ('is_canceled', 'True')])\n"
     ]
    }
   ],
   "source": [
    "with open('enrollments.csv', 'rb') as f:\n",
    "    reader = csv.DictReader(f)\n",
    "    enrollments = list(reader) # 일일히 append 해주지 않아도, dict가 list에 담긴 상태가 됨. 이것을 enrollment에 assign\n",
    "    \n",
    "print(enrollments[0])"
   ]
  },
  {
   "cell_type": "markdown",
   "metadata": {},
   "source": [
    "### 실습 1-1: 다음의 csv 데이터를 불러오자.\n",
    "\n",
    "daily_engagement.csv 데이터와 project_submissions.csv 데이터를 불러오자."
   ]
  },
  {
   "cell_type": "code",
   "execution_count": 6,
   "metadata": {},
   "outputs": [
    {
     "name": "stdout",
     "output_type": "stream",
     "text": [
      "OrderedDict([('acct', '0'), ('utc_date', '2015-01-09'), ('num_courses_visited', '1.0'), ('total_minutes_visited', '11.6793745'), ('lessons_completed', '0.0'), ('projects_completed', '0.0')])\n",
      "OrderedDict([('creation_date', '2015-01-14'), ('completion_date', '2015-01-16'), ('assigned_rating', 'UNGRADED'), ('account_key', '256'), ('lesson_key', '3176718735'), ('processing_state', 'EVALUATED')])\n"
     ]
    }
   ],
   "source": [
    "#================================#\n",
    "# 실습 1-1                        #\n",
    "#================================#\n",
    "\n",
    "import unicodecsv as csv\n",
    "\n",
    "with open('daily_engagement.csv', 'rb') as f:\n",
    "    reader1 = csv.DictReader(f)\n",
    "    daily_engagement = list(reader1)\n",
    "\n",
    "with open('project_submissions.csv', 'rb') as f:\n",
    "    project_submissions = list(csv.DictReader(f)) # reader라는 변수를 만들지 않고, 더 심플하게!\n",
    "    \n",
    "print(daily_engagement[0])\n",
    "print(project_submissions[0])\n"
   ]
  },
  {
   "cell_type": "markdown",
   "metadata": {},
   "source": [
    "### 실습 1-2: 위의 코드를 read_csv()라는 함수로 만들어 보자."
   ]
  },
  {
   "cell_type": "code",
   "execution_count": 7,
   "metadata": {},
   "outputs": [
    {
     "name": "stdout",
     "output_type": "stream",
     "text": [
      "OrderedDict([('account_key', '448'), ('status', 'canceled'), ('join_date', '2014-11-10'), ('cancel_date', '2015-01-14'), ('days_to_cancel', '65'), ('is_udacity', 'True'), ('is_canceled', 'True')])\n",
      "OrderedDict([('acct', '0'), ('utc_date', '2015-01-09'), ('num_courses_visited', '1.0'), ('total_minutes_visited', '11.6793745'), ('lessons_completed', '0.0'), ('projects_completed', '0.0')])\n",
      "OrderedDict([('creation_date', '2015-01-14'), ('completion_date', '2015-01-16'), ('assigned_rating', 'UNGRADED'), ('account_key', '256'), ('lesson_key', '3176718735'), ('processing_state', 'EVALUATED')])\n"
     ]
    }
   ],
   "source": [
    "#================================#\n",
    "# 실습 1-2                        #\n",
    "#================================#\n",
    "\n",
    "def read_csv(filename):\n",
    "    with open(filename, 'rb') as f:\n",
    "        return list(csv.DictReader(f)) # 주의 \n",
    "\n",
    "enrollments = read_csv('enrollments.csv')\n",
    "daily_engagement = read_csv('daily_engagement.csv')\n",
    "project_submissions = read_csv('project_submissions.csv')\n",
    "\n",
    "print(enrollments[0])\n",
    "print(daily_engagement[0])\n",
    "print(project_submissions[0])"
   ]
  },
  {
   "cell_type": "markdown",
   "metadata": {},
   "source": [
    "## Fixing Data Types\n",
    "\n",
    "CSV로 불러온 데이터의 value는 모두 string 타입이다. 우리가 데이터를 이용해 뭔가를 계산을 하기 위해서는 데이터의 value를 수정할 필요가 있다. \n",
    "\n",
    "예를 들어 enrollment의 데이터 row를 출력하면 다음과 같다.\n",
    "\n",
    "```\n",
    "{ \n",
    "  'is_udacity': 'True', \n",
    "  'cancel_date': '2015-01-14', \n",
    "  'days_to_cancel': '65', \n",
    "  'account_key': '448', \n",
    "  'join_date': '2014-11-10', \n",
    "  'is_canceled': 'True', \n",
    "  'status': 'canceled'\n",
    "}\n",
    "```\n",
    "\n",
    "이들 데이터 중, cancel_date, join_date은 datetime 데이터 타입으로 저장되어야 날짜와 관련한 연산을 할 수 있다. 또한 days_to_cancel, account_key는 int 타입일 가능성이 높다. is_udacity, is_canceled은 boolean 타입일 것이다. 따라서 이들 데이터를 적절한 데이터 타입으로 바꾸어주어야 한다."
   ]
  },
  {
   "cell_type": "code",
   "execution_count": 8,
   "metadata": {},
   "outputs": [],
   "source": [
    "# ====================== #\n",
    "# 변환을 위한 기본 함수를 작성  #\n",
    "# ====================== #\n",
    "\n",
    "from datetime import datetime as dt\n",
    "\n",
    "# 문자열로 된 날짜를 datetime 형태로 변환한다.\n",
    "# 변환에 사용된 함수는 strptime()으로 데이터에 있는 날짜 타입에 맞춰 datetime으로 변환한다. \n",
    "# (strftime()과 반대의 역할을 하는 함수)\n",
    "def parse_date(date):\n",
    "    if date == '':  # data가 없는 경우 None을 저장한다.\n",
    "        return None\n",
    "    else:\n",
    "        return dt.strptime(date, '%Y-%m-%d') # strfptime과 정반대. str을 받아서, datetime object로 바꿔줌\n",
    "\n",
    "# 문자열로 된 정수를 int 타입으로 변환한다.\n",
    "def parse_int(i):\n",
    "    if i == '':\n",
    "        return None\n",
    "    else:\n",
    "        return int(i)\n",
    "\n",
    "# 문자열로 된 실수를 float 타입으로 변환한다.\n",
    "def parse_float(i):\n",
    "    if i == '':\n",
    "        return None\n",
    "    else:\n",
    "        return float(i)\n",
    "\n",
    "# 문자열로 된 bool 값을 bool 타입으로 반환한다.\n",
    "# \"True\" -> True, \"False\" -> False\n",
    "def parse_bool(b):\n",
    "    if b == 'True':\n",
    "        return True\n",
    "    else:\n",
    "        return False"
   ]
  },
  {
   "cell_type": "code",
   "execution_count": 9,
   "metadata": {},
   "outputs": [
    {
     "name": "stdout",
     "output_type": "stream",
     "text": [
      "OrderedDict([('account_key', 448), ('status', 'canceled'), ('join_date', datetime.datetime(2014, 11, 10, 0, 0)), ('cancel_date', datetime.datetime(2015, 1, 14, 0, 0)), ('days_to_cancel', 65), ('is_udacity', True), ('is_canceled', True)])\n"
     ]
    }
   ],
   "source": [
    "# enrollments 데이터 테이블 내의 데이터 타입을 변환\n",
    "for enrollment in enrollments:\n",
    "    enrollment['cancel_date'] = parse_date(enrollment['cancel_date'])\n",
    "    enrollment['join_date'] = parse_date(enrollment['join_date'])\n",
    "    enrollment['days_to_cancel'] = parse_int(enrollment['days_to_cancel'])\n",
    "    enrollment['account_key'] = parse_int(enrollment['account_key'])\n",
    "    enrollment['is_udacity'] = parse_bool(enrollment['is_udacity'])\n",
    "    enrollment['is_canceled'] = parse_bool(enrollment['is_canceled'])\n",
    "\n",
    "print(enrollments[0])"
   ]
  },
  {
   "cell_type": "markdown",
   "metadata": {},
   "source": [
    "### 실습 2-1: daily_engagement 데이터의 타입을 고쳐보자.\n",
    "\n",
    "```\n",
    "{\n",
    "  'total_minutes_visited': '11.6793745', \n",
    "  'acct': '0', \n",
    "  'lessons_completed': '0.0', \n",
    "  'projects_completed': '0.0', \n",
    "  'num_courses_visited': '1.0', \n",
    "  'utc_date': '2015-01-09'\n",
    "}\n",
    "```"
   ]
  },
  {
   "cell_type": "code",
   "execution_count": 10,
   "metadata": {},
   "outputs": [
    {
     "name": "stdout",
     "output_type": "stream",
     "text": [
      "OrderedDict([('acct', 0), ('utc_date', datetime.datetime(2015, 1, 9, 0, 0)), ('num_courses_visited', 1), ('total_minutes_visited', 11.6793745), ('lessons_completed', 0), ('projects_completed', 0)])\n"
     ]
    }
   ],
   "source": [
    "#================================#\n",
    "# 실습 2-1                        #\n",
    "#================================#\n",
    "\n",
    "for engagement in daily_engagement:\n",
    "    engagement['total_minutes_visited'] = parse_float(engagement['total_minutes_visited'])\n",
    "    engagement['acct'] = parse_int(engagement['acct'])\n",
    "    engagement['lessons_completed'] = parse_int(float(engagement['lessons_completed'])) # 원래 float이 아니라 str이었기 때문에, float으로 한번 처리해줘야 함\n",
    "    engagement['projects_completed'] = parse_int(float(engagement['projects_completed']))\n",
    "    engagement['num_courses_visited'] = parse_int(float(engagement['num_courses_visited']))\n",
    "    engagement['utc_date'] = parse_date(engagement['utc_date'])\n",
    "    \n",
    "    # 두 번 이상 돌리면, 바뀐 상태에서 또 바꾸는 꼴이 되므로 converting은 한 번만!\n",
    "\n",
    "    \n",
    "print(daily_engagement[0])\n"
   ]
  },
  {
   "cell_type": "markdown",
   "metadata": {},
   "source": [
    "### 실습 2-2: project_submissions 데이터의 타입을 고쳐보자.\n",
    "\n",
    "```\n",
    "{\n",
    "  'lesson_key': '3176718735', \n",
    "  'creation_date': '2015-01-14', \n",
    "  'account_key': '256', \n",
    "  'completion_date': '2015-01-16', \n",
    "  'processing_state': 'EVALUATED', \n",
    "  'assigned_rating': 'UNGRADED'\n",
    "}\n",
    "```"
   ]
  },
  {
   "cell_type": "code",
   "execution_count": 11,
   "metadata": {},
   "outputs": [
    {
     "name": "stdout",
     "output_type": "stream",
     "text": [
      "OrderedDict([('creation_date', datetime.datetime(2015, 1, 14, 0, 0)), ('completion_date', datetime.datetime(2015, 1, 16, 0, 0)), ('assigned_rating', 'UNGRADED'), ('account_key', 256), ('lesson_key', 3176718735), ('processing_state', 'EVALUATED')])\n"
     ]
    }
   ],
   "source": [
    "#================================#\n",
    "# 실습 2-2                        #\n",
    "#================================#\n",
    "\n",
    "for submission in project_submissions:\n",
    "    submission['lesson_key'] = parse_int(submission['lesson_key'])\n",
    "    submission['creation_date'] = parse_date(submission['creation_date'])\n",
    "    submission['account_key'] = parse_int(submission['account_key'])\n",
    "    submission['completion_date'] = parse_date(submission['completion_date'])\n",
    "    \n",
    "print(project_submissions[0])"
   ]
  },
  {
   "cell_type": "markdown",
   "metadata": {},
   "source": [
    "* How long to submit projects\n",
    "* How do students who pass their projects differ from who don't\n",
    "\n",
    "* How much time students spend taking classes\n",
    "* How time spent relates to lessons/projects completed\n",
    "* How engagement changes over time\n",
    "* How many times students submit projects"
   ]
  },
  {
   "cell_type": "markdown",
   "metadata": {},
   "source": [
    "## Investigating Data\n",
    "\n",
    "먼저 enrollments, daily_engagement, project_submissions 세개의 데이터에서 unique student number를 찾아보자. (account_key와 set()을 이용)"
   ]
  },
  {
   "cell_type": "code",
   "execution_count": 12,
   "metadata": {},
   "outputs": [
    {
     "name": "stdout",
     "output_type": "stream",
     "text": [
      "1640\n",
      "136240\n",
      "3642\n"
     ]
    }
   ],
   "source": [
    "print(len(enrollments))\n",
    "print(len(daily_engagement))\n",
    "print(len(project_submissions))"
   ]
  },
  {
   "cell_type": "markdown",
   "metadata": {},
   "source": [
    "### 실습 3-1: unique_enrolled_students, unique_engagement_students, unique_project_submitters 의 크기를 구해보자."
   ]
  },
  {
   "cell_type": "code",
   "execution_count": 13,
   "metadata": {},
   "outputs": [
    {
     "name": "stdout",
     "output_type": "stream",
     "text": [
      "1640 1302\n",
      "136240 1237\n",
      "3642 743\n"
     ]
    }
   ],
   "source": [
    "#================================#\n",
    "# 실습 3-1                        #\n",
    "#================================#\n",
    "\n",
    "unique_enrolled_students = set()\n",
    "for enrollment in enrollments:\n",
    "    unique_enrolled_students.add(enrollment['account_key'])\n",
    "    \n",
    "unique_engagement_students = set()\n",
    "for engagement in daily_engagement:\n",
    "    unique_engagement_students.add(engagement['acct'])\n",
    "    \n",
    "unique_project_submitters = set()\n",
    "for submission in project_submissions:\n",
    "    unique_project_submitters.add(submission['account_key'])\n",
    "\n",
    "print(len(enrollments), len(unique_enrolled_students))\n",
    "print(len(daily_engagement), len(unique_engagement_students))\n",
    "print(len(project_submissions), len(unique_project_submitters))"
   ]
  },
  {
   "cell_type": "markdown",
   "metadata": {},
   "source": [
    "### 실습 3-2: 똑같은 일을 반복한다면 함수를 만드는 것이 현명하다. unique_students() 함수를 만들어 보자."
   ]
  },
  {
   "cell_type": "code",
   "execution_count": 14,
   "metadata": {},
   "outputs": [
    {
     "name": "stdout",
     "output_type": "stream",
     "text": [
      "(1640, 1302)\n",
      "(136240, 1237)\n",
      "(3642, 743)\n"
     ]
    }
   ],
   "source": [
    "#================================#\n",
    "# 실습 3-2                        #\n",
    "#================================#\n",
    "\n",
    "def unique_students(data, key):\n",
    "    unique_set = set()\n",
    "    for row in data:\n",
    "        unique_set.add(row[key])\n",
    "    return(len(data), len(unique_set))\n",
    "\n",
    "\n",
    "print(unique_students(enrollments, 'account_key'))\n",
    "print(unique_students(daily_engagement, 'acct'))\n",
    "print(unique_students(project_submissions, 'account_key'))"
   ]
  },
  {
   "cell_type": "markdown",
   "metadata": {},
   "source": [
    "## Problems in the Data\n",
    "\n",
    "데이터의 unique number를 살펴보니 몇가지 문제점이 보인다.\n",
    "1. daily_engagement의 account key가 다른 두개의 테이블과 다르다. -> acct를 account_key로 바꾸자.\n",
    "2. 학생들의 유니크한 숫자가 engagement보다 enrollment에 더 많다. -> engagement는 방문하지 않은 날에도 데이터가 쌓여야 한다. 따라서 erollment와 engagement는 숫자가 같아야 한다. 문제를 찾아보자."
   ]
  },
  {
   "cell_type": "markdown",
   "metadata": {},
   "source": [
    "**잘못된 키 수정**"
   ]
  },
  {
   "cell_type": "code",
   "execution_count": 15,
   "metadata": {},
   "outputs": [
    {
     "name": "stdout",
     "output_type": "stream",
     "text": [
      "OrderedDict([('utc_date', datetime.datetime(2015, 1, 9, 0, 0)), ('num_courses_visited', 1), ('total_minutes_visited', 11.6793745), ('lessons_completed', 0), ('projects_completed', 0), ('account_key', 0)])\n"
     ]
    }
   ],
   "source": [
    "for engagement in daily_engagement:\n",
    "    engagement['account_key'] = engagement['acct'] # 키를 하나 더 많들고 acct값을 account_key에 assign\n",
    "    del[engagement['acct']] # acct 키를 삭제\n",
    "\n",
    "print(daily_engagement[0])"
   ]
  },
  {
   "cell_type": "markdown",
   "metadata": {},
   "source": [
    "### 실습 4: unique_students() 함수를 수정한 unique_students_list() 함수를 만들어 보자."
   ]
  },
  {
   "cell_type": "markdown",
   "metadata": {},
   "source": [
    "키를 수정하고 나서는 위에서 정의한 unique_students()함수를 수정해보자. 이 함수는 위의 함수와 같이 길이를 반환하지 않고 set() 데이터를 반환한다."
   ]
  },
  {
   "cell_type": "code",
   "execution_count": 16,
   "metadata": {},
   "outputs": [
    {
     "name": "stdout",
     "output_type": "stream",
     "text": [
      "1302\n"
     ]
    }
   ],
   "source": [
    "#================================#\n",
    "# 실습 4                          #\n",
    "#================================#\n",
    "\n",
    "def unique_students_list(data):\n",
    "    unique_set = set()\n",
    "    for row in data:\n",
    "        unique_set.add(row[\"account_key\"])\n",
    "    return unique_set\n",
    "\n",
    "unique_enrollments_keys = unique_students_list(enrollments)\n",
    "print(len(unique_enrollments_keys))"
   ]
  },
  {
   "cell_type": "markdown",
   "metadata": {},
   "source": [
    "**Missing Engagement Data**\n",
    "\n",
    "* 이상한 데이터가 있다.\n",
    "    * enrollment 레코드 중 engagement에 관련 데이터가 없는 것들이 있다.\n",
    "    * unique account key 를 비교하여 enrollment 에만 있는 key가 있는지 확인하고 데이터를 뽑아보자."
   ]
  },
  {
   "cell_type": "code",
   "execution_count": 17,
   "metadata": {},
   "outputs": [
    {
     "name": "stdout",
     "output_type": "stream",
     "text": [
      "OrderedDict([('account_key', 1219), ('status', 'canceled'), ('join_date', datetime.datetime(2014, 11, 12, 0, 0)), ('cancel_date', datetime.datetime(2014, 11, 12, 0, 0)), ('days_to_cancel', 0), ('is_udacity', False), ('is_canceled', True)])\n"
     ]
    }
   ],
   "source": [
    "unique_engagement_keys = unique_students_list(daily_engagement)\n",
    "\n",
    "for enrollment in enrollments:  # enrollment에 있는 요소를 하나씩 꺼낸후\n",
    "    student = enrollment['account_key']   # account_key의 value를 student 변수에 저장\n",
    "    if student not in unique_engagement_keys:  # unique_engagement_keys 에 account_key가 없으면\n",
    "        print(enrollment)  # 해당 요소를 출력한 후 프로그램 종료\n",
    "        break # break 안 하면 너무 많아서, 한 줄만 출력하기 위해 사용\n",
    "        "
   ]
  },
  {
   "cell_type": "markdown",
   "metadata": {},
   "source": [
    "**Findings**\n",
    "* join_date과 cancel_date이 같은 날이다.\n",
    "* days_to_cancel이 0이다.\n",
    "* (참고) days_to_cancel: The number of days between join_date and cancel_date, or blank if the student has not yet canceled.\n",
    "\n",
    "**해석**\n",
    "* 일부의 학생은 가입하자마자 cancel을 해서 engagement 테이블에 데이터가 쌓이지 않았다."
   ]
  },
  {
   "cell_type": "markdown",
   "metadata": {},
   "source": [
    "**이상한 데이터를 더 찾아보자.**\n",
    "  * engagement에 없는 enrollment 레코드 중, join_date와 cancel_date가 서로 다른 것들이 있을까?\n",
    "  * 이 얘기는, 가입하자마자 cancel해서 engagement 테이블에 데이터가 쌓이지 않은 경우가 아닌데도 데이터가 없는 경우이다."
   ]
  },
  {
   "cell_type": "code",
   "execution_count": 24,
   "metadata": {},
   "outputs": [
    {
     "name": "stdout",
     "output_type": "stream",
     "text": [
      "OrderedDict([('account_key', 1304), ('status', 'canceled'), ('join_date', datetime.datetime(2015, 1, 10, 0, 0)), ('cancel_date', datetime.datetime(2015, 3, 10, 0, 0)), ('days_to_cancel', 59), ('is_udacity', True), ('is_canceled', True)])\n",
      "OrderedDict([('account_key', 1304), ('status', 'canceled'), ('join_date', datetime.datetime(2015, 3, 10, 0, 0)), ('cancel_date', datetime.datetime(2015, 6, 17, 0, 0)), ('days_to_cancel', 99), ('is_udacity', True), ('is_canceled', True)])\n",
      "OrderedDict([('account_key', 1101), ('status', 'current'), ('join_date', datetime.datetime(2015, 2, 25, 0, 0)), ('cancel_date', None), ('days_to_cancel', None), ('is_udacity', True), ('is_canceled', False)])\n",
      "\n",
      "Number of problem students:  3\n"
     ]
    }
   ],
   "source": [
    "num_of_problem_students = 0\n",
    "\n",
    "for enrollment in enrollments:\n",
    "    student = enrollment['account_key']\n",
    "    if student not in unique_engagement_keys and enrollment['join_date'] != enrollment['cancel_date']:\n",
    "        print(enrollment)\n",
    "        num_of_problem_students += 1\n",
    "\n",
    "print(\"\\nNumber of problem students: \", num_of_problem_students)"
   ]
  },
  {
   "cell_type": "markdown",
   "metadata": {},
   "source": [
    "뭐가 문제일까? 데이터 자체를 봐서는 아무런 문제도 발견되지 않는다.\n",
    "\n",
    "문제는 is_udacity에 있었다. is_udacity가 True인 경우는 udacity의 테스트 어카운트였다. 따라서 분석을 할 때 is_udacity가 True인 경우 제외하여야 한다.\n",
    "* (참고) is_udacity: True if the account is a Udacity test account, False otherwise. (개발자 테스트용)"
   ]
  },
  {
   "cell_type": "markdown",
   "metadata": {},
   "source": [
    "**udacity 테스트 어카운트를 제외하자**\n",
    "\n",
    "먼저 udacity 테스트 어카운트 리스트를 만들자."
   ]
  },
  {
   "cell_type": "code",
   "execution_count": 25,
   "metadata": {},
   "outputs": [
    {
     "name": "stdout",
     "output_type": "stream",
     "text": [
      "{448, 312, 1069, 1101, 818, 1304}\n"
     ]
    }
   ],
   "source": [
    "udacity_test_accounts = set() \n",
    "for enrollment in enrollments:\n",
    "    if enrollment['is_udacity']: \n",
    "        udacity_test_accounts.add(enrollment['account_key'])\n",
    "len(udacity_test_accounts)\n",
    "print(udacity_test_accounts)"
   ]
  },
  {
   "cell_type": "markdown",
   "metadata": {},
   "source": [
    "### 실습 5: udacity test account를 제외하기 위한 함수 remove_udacity_accounts() 를 작성해 보자."
   ]
  },
  {
   "cell_type": "markdown",
   "metadata": {},
   "source": [
    "is_udacity가 True인 키를 udacity_test_account에 추가하였다. 모두 6개가 발견되었다. 이들을 제외하기 위한 함수를 작성해보자."
   ]
  },
  {
   "cell_type": "code",
   "execution_count": 26,
   "metadata": {},
   "outputs": [],
   "source": [
    "#================================#\n",
    "# 실습 5                          #\n",
    "#================================#\n",
    "\n",
    "def remove_udacity_accounts(data):\n",
    "    non_udacity_data = []\n",
    "    for data_point in data:\n",
    "        if data_point['account_key'] not in udacity_test_accounts:\n",
    "            non_udacity_data.append(data_point)\n",
    "    return non_udacity_data\n"
   ]
  },
  {
   "cell_type": "code",
   "execution_count": 27,
   "metadata": {},
   "outputs": [
    {
     "name": "stdout",
     "output_type": "stream",
     "text": [
      "1622\n",
      "135656\n",
      "3634\n"
     ]
    }
   ],
   "source": [
    "non_udacity_enrollments = remove_udacity_accounts(enrollments)\n",
    "non_udacity_engagement = remove_udacity_accounts(daily_engagement)\n",
    "non_udacity_submissions = remove_udacity_accounts(project_submissions)\n",
    "\n",
    "print(len(non_udacity_enrollments))\n",
    "print(len(non_udacity_engagement))\n",
    "print(len(non_udacity_submissions))"
   ]
  },
  {
   "cell_type": "markdown",
   "metadata": {},
   "source": [
    "## Data Filtering\n",
    "\n",
    "**1. 유료사용자 리스트**\n",
    "\n",
    "udacity에서는 일주일 간의 free trial을 제공하기 때문에 실제로 프로젝트에 참여하고 과정을 마치는 학생들은 유료인 사용자들이다. 맛보기로 과정을 경험해보고자 하는 학생들은 모두 1주일 이내에 과정을 cancel 한다. 그렇다면 유료 사용자의 리스트를 추출해 보자. 유료 사용자의 조건은 다음과 같은 경우일 것이다.\n",
    "\n",
    "* haven't canceld yet (is_canceled -> False)\n",
    "* stayed enrolled more than 7 days (days_to_cancel > 7)\n",
    "\n",
    "데이터를 추출한 후 paid_students라는 딕셔너리를 만들고 다음과 같이 저장하자.\n",
    "* Keys: account keys \n",
    "* Value: enrollment date"
   ]
  },
  {
   "cell_type": "markdown",
   "metadata": {},
   "source": [
    "### 실습 6: 유료 사용자 paid_students 를 만들고 전체 숫자를 출력해보자."
   ]
  },
  {
   "cell_type": "code",
   "execution_count": 28,
   "metadata": {},
   "outputs": [
    {
     "name": "stdout",
     "output_type": "stream",
     "text": [
      "995\n"
     ]
    }
   ],
   "source": [
    "#================================#\n",
    "# 실습 6                          #\n",
    "#================================#\n",
    "\n",
    "paid_students = {}\n",
    "\n",
    "# for enrollment in enrollments:\n",
    "#     if enrollment['is_canceled'] == False:\n",
    "#         if type(enrollment['days_to_cancel']) == None:\n",
    "#             continue\n",
    "#         elif type(enrollment['days_to_cancel']) == int:\n",
    "#             paid_students += 1\n",
    "\n",
    "for enrollment in non_udacity_enrollments:\n",
    "    if not enrollment['is_canceled'] or enrollment['days_to_cancel'] > 7: # Q. and가 되어야 하는 것 아닌지? A. 7일 이후에 유료 결제하고 취소했을 수도 있으므로\n",
    "        account_key = enrollment['account_key']\n",
    "        enrollment_date = enrollment['join_date']\n",
    "        \n",
    "        if account_key not in paid_students or enrollment_date > paid_students[account_key]: # cancel 후 다시 enroll하는 경우\n",
    "            # Q. 두 번째 조건 해석?\n",
    "            # A. 1) 취소하지 않거나 일주일 이상 등록한 학생의 새로운 account를 set에 등록\n",
    "            # A. 2) 7일이 지나서 한 차례 paid_students에 등록된 상태에서 취소하고 다시 등록한 경우\n",
    "            paid_students[account_key] = enrollment_date # 여기서 account_key는 새로운 value를 할당할 key값이므로 따옴표는 쓰지 않음\n",
    "\n",
    "print(len(paid_students))"
   ]
  },
  {
   "cell_type": "markdown",
   "metadata": {},
   "source": [
    "**2. 첫주 동안 유료 사용자의 engagement데이터 리스트**\n",
    "\n",
    "다음의 함수는 학생들의 enrollment join date와 특정한 engagement 레코드의 날짜를 이용해서 join 후 일주일 이내의 것인지를 판별하여주는 코드이다. 다음을 이용하여 유료 사용자의 첫주간의 engagement 데이터 리스트를 추출해보자."
   ]
  },
  {
   "cell_type": "code",
   "execution_count": 29,
   "metadata": {},
   "outputs": [],
   "source": [
    "def within_one_week(join_date, engagement_date):\n",
    "    time_delta = engagement_date - join_date\n",
    "    return time_delta.days < 7 # True or False를 return"
   ]
  },
  {
   "cell_type": "markdown",
   "metadata": {},
   "source": [
    "먼저 fee trial 데이터를 제외하는 함수를 작성하자.\n",
    "\n",
    "위에서 `paid_student` 를 구해두었기 때문에 이를 활용하면 된다."
   ]
  },
  {
   "cell_type": "code",
   "execution_count": 30,
   "metadata": {},
   "outputs": [],
   "source": [
    "def remove_free_trial_cancels(data):\n",
    "    new_data = []\n",
    "    for data_point in data:\n",
    "        if data_point['account_key'] in paid_students:\n",
    "            new_data.append(data_point)\n",
    "    return new_data"
   ]
  },
  {
   "cell_type": "markdown",
   "metadata": {},
   "source": [
    "다음은 위의 함수를 이용하여 유료사용자의 데이터인 paid_enrollments, paid_engagement, paid_submissions을 구해보자"
   ]
  },
  {
   "cell_type": "code",
   "execution_count": 31,
   "metadata": {},
   "outputs": [
    {
     "name": "stdout",
     "output_type": "stream",
     "text": [
      "1293\n",
      "134549\n",
      "3618\n"
     ]
    }
   ],
   "source": [
    "paid_enrollments = remove_free_trial_cancels(non_udacity_enrollments)\n",
    "paid_engagement = remove_free_trial_cancels(non_udacity_engagement)\n",
    "paid_submissions = remove_free_trial_cancels(non_udacity_submissions)\n",
    "\n",
    "print(len(paid_enrollments))\n",
    "print(len(paid_engagement))\n",
    "print(len(paid_submissions))"
   ]
  },
  {
   "cell_type": "markdown",
   "metadata": {},
   "source": [
    "마지막으로 `within_one_week()`함수를 사용하여 일주일 동안의 데이터를 추려내 보자."
   ]
  },
  {
   "cell_type": "markdown",
   "metadata": {},
   "source": [
    "### 실습 7: paid_engagement_in_first_week 를 구하는 코드를 작성해보자.\n",
    "\n",
    "* paid_engagement_in_first_week는 리스트로 생성한다.\n",
    "* paid_engagement에서 'accont_key'를 가져와서 이를 이용하여 paid_students의 join_date을 찾아냔다.\n",
    "* paid_engagement의 'utc_date'을 이용하여 engagement_date을 찾아낸다.\n",
    "* 마지막으로 within_one_week() 함수를 사용하여 engagement가 일주일 이내에 작성된 것들만 추려 paid_engagement_in_first_week 에 저장한다."
   ]
  },
  {
   "cell_type": "code",
   "execution_count": null,
   "metadata": {},
   "outputs": [],
   "source": [
    "#================================#\n",
    "# 실습 7                          #\n",
    "#================================#\n",
    "\n",
    "paid_engagement_in_first_week = []\n",
    "\n",
    "for engagement in paid_engagement:\n",
    "    account_key = engagement['account_key']\n",
    "    join_date = paid_students[account_key] # 여기서 account_key는 engagement를 한번 거쳐 온 변수.\n",
    "    # value로는 enrollment_date를 가져옴(join_date = enrollment_date?)\n",
    "    engagement_date = engagement['utc_date']\n",
    "    \n",
    "    if within_one_week(join_date, engagement_date):\n",
    "        paid_engagement_in_first_week.append(engagement)\n",
    "\n",
    "print(len(paid_engagement_in_first_week))"
   ]
  },
  {
   "cell_type": "markdown",
   "metadata": {},
   "source": [
    "## Exploring Student Engagement"
   ]
  },
  {
   "cell_type": "markdown",
   "metadata": {},
   "source": [
    "defaultdict()는 dictionary에 기본값을 정의하고 키값이 없더라도 에러를 출력하지않고 기본값을 출력한다. 따라서 빈도수 등을 계산할 때 키값이 없어도 키를 만들 수 있다."
   ]
  },
  {
   "cell_type": "code",
   "execution_count": 47,
   "metadata": {},
   "outputs": [
    {
     "name": "stdout",
     "output_type": "stream",
     "text": [
      "{'a': 7, 'b': 3, 'c': 4}\n"
     ]
    }
   ],
   "source": [
    "document = [\"a\", \"b\", \"c\", \"a\", \"a\", \"c\", \"a\", \"c\", \"a\", \"a\", \"a\", \"b\", \"c\", \"b\"]\n",
    "word_counts = {}\n",
    "for word in document:\n",
    "    if word in word_counts:\n",
    "        word_counts[word] += 1\n",
    "    else:\n",
    "        word_counts[word] = 1\n",
    "        \n",
    "print(word_counts)"
   ]
  },
  {
   "cell_type": "code",
   "execution_count": 35,
   "metadata": {},
   "outputs": [
    {
     "name": "stdout",
     "output_type": "stream",
     "text": [
      "defaultdict(<class 'int'>, {'a': 7, 'b': 3, 'c': 4})\n"
     ]
    }
   ],
   "source": [
    "from collections import defaultdict\n",
    "\n",
    "document = [\"a\", \"b\", \"c\", \"a\", \"a\", \"c\", \"a\", \"c\", \"a\", \"a\", \"a\", \"b\", \"c\", \"b\"]\n",
    "word_counts = defaultdict(int) # value를 int로 지정\n",
    "for word in document:\n",
    "    word_counts[word] +=1\n",
    "print(word_counts)"
   ]
  },
  {
   "cell_type": "code",
   "execution_count": 36,
   "metadata": {},
   "outputs": [
    {
     "name": "stdout",
     "output_type": "stream",
     "text": [
      "defaultdict(<class 'list'>, {'key1': [[1, 2], [2, 3]], 'key2': [1]})\n"
     ]
    }
   ],
   "source": [
    "dd_list = defaultdict(list)\n",
    "dd_list[\"key1\"].append([1,2])\n",
    "dd_list[\"key1\"].append([2,3])\n",
    "dd_list[\"key2\"].append(1)\n",
    "print(dd_list)"
   ]
  },
  {
   "cell_type": "markdown",
   "metadata": {},
   "source": [
    "account_key를 key로 하고 engagement를 value로 하는 dictionary list를 만들어 보자. account_key를 기준으로 얼마나 많은 engagement가 기록되었는지를 확인할 수 있다. key가 없으면 empty dictionary를 만든다."
   ]
  },
  {
   "cell_type": "code",
   "execution_count": 44,
   "metadata": {},
   "outputs": [
    {
     "name": "stdout",
     "output_type": "stream",
     "text": [
      "[OrderedDict([('utc_date', datetime.datetime(2015, 1, 9, 0, 0)),\n",
      "              ('num_courses_visited', 1),\n",
      "              ('total_minutes_visited', 11.6793745),\n",
      "              ('lessons_completed', 0),\n",
      "              ('projects_completed', 0),\n",
      "              ('account_key', 0)]),\n",
      " OrderedDict([('utc_date', datetime.datetime(2015, 1, 10, 0, 0)),\n",
      "              ('num_courses_visited', 2),\n",
      "              ('total_minutes_visited', 37.2848873333),\n",
      "              ('lessons_completed', 0),\n",
      "              ('projects_completed', 0),\n",
      "              ('account_key', 0)]),\n",
      " OrderedDict([('utc_date', datetime.datetime(2015, 1, 11, 0, 0)),\n",
      "              ('num_courses_visited', 2),\n",
      "              ('total_minutes_visited', 53.6337463333),\n",
      "              ('lessons_completed', 0),\n",
      "              ('projects_completed', 0),\n",
      "              ('account_key', 0)]),\n",
      " OrderedDict([('utc_date', datetime.datetime(2015, 1, 12, 0, 0)),\n",
      "              ('num_courses_visited', 1),\n",
      "              ('total_minutes_visited', 33.4892696667),\n",
      "              ('lessons_completed', 0),\n",
      "              ('projects_completed', 0),\n",
      "              ('account_key', 0)]),\n",
      " OrderedDict([('utc_date', datetime.datetime(2015, 1, 13, 0, 0)),\n",
      "              ('num_courses_visited', 1),\n",
      "              ('total_minutes_visited', 64.7796776667),\n",
      "              ('lessons_completed', 0),\n",
      "              ('projects_completed', 0),\n",
      "              ('account_key', 0)]),\n",
      " OrderedDict([('utc_date', datetime.datetime(2015, 1, 14, 0, 0)),\n",
      "              ('num_courses_visited', 1),\n",
      "              ('total_minutes_visited', 151.617576833),\n",
      "              ('lessons_completed', 1),\n",
      "              ('projects_completed', 0),\n",
      "              ('account_key', 0)]),\n",
      " OrderedDict([('utc_date', datetime.datetime(2015, 1, 15, 0, 0)),\n",
      "              ('num_courses_visited', 1),\n",
      "              ('total_minutes_visited', 142.395963833),\n",
      "              ('lessons_completed', 0),\n",
      "              ('projects_completed', 0),\n",
      "              ('account_key', 0)])]\n"
     ]
    }
   ],
   "source": [
    "from collections import defaultdict\n",
    "import pprint # print를 예쁘게 해줌\n",
    "\n",
    "engagement_by_account = defaultdict(list)\n",
    "for engagement in paid_engagement_in_first_week:\n",
    "    account_key = engagement['account_key']\n",
    "    engagement_by_account[account_key].append(engagement)\n",
    "    \n",
    "pprint.pprint(engagement_by_account[0]) # 각 account별로 data가 몇 개 쌓였는지를 출력"
   ]
  },
  {
   "cell_type": "code",
   "execution_count": 42,
   "metadata": {},
   "outputs": [
    {
     "name": "stdout",
     "output_type": "stream",
     "text": [
      "{0: 494.88049616599994,\n",
      " 1: 18.576384666670002,\n",
      " 2: 0.0,\n",
      " 3: 2530.6469816678004,\n",
      " 4: 33.3214046667,\n",
      " 5: 329.7578566663,\n",
      " 6: 780.4545511666701,\n",
      " 7: 104.20388850009999,\n",
      " 8: 989.113641833,\n",
      " 9: 448.471384167,\n",
      " 10: 130.12347833367,\n",
      " 11: 0.0,\n",
      " 12: 179.4719088333,\n",
      " 13: 1013.3833969996999,\n",
      " 14: 65.6221875,\n",
      " 15: 1042.4943771683002,\n",
      " 16: 119.12030049999998,\n",
      " 17: 235.49969150033,\n",
      " 18: 155.1361575,\n",
      " 19: 0.0,\n",
      " 20: 447.93897783336996,\n",
      " 21: 931.1036911666699,\n",
      " 22: 657.2052335000001,\n",
      " 23: 1591.3228143334,\n",
      " 24: 943.188117167,\n",
      " 25: 2997.70812683204,\n",
      " 26: 430.801675833,\n",
      " 27: 1579.12122666663,\n",
      " 28: 766.256315667,\n",
      " 29: 556.1906033333,\n",
      " 30: 69.6578351667,\n",
      " 31: 1917.2210374995,\n",
      " 32: 123.2915048333,\n",
      " 33: 253.9870258334,\n",
      " 34: 478.4825176664,\n",
      " 35: 765.6402170004,\n",
      " 36: 809.2138958339,\n",
      " 37: 1378.195091668,\n",
      " 38: 0.0,\n",
      " 39: 1001.5888595,\n",
      " 40: 478.21952616690004,\n",
      " 41: 511.925391,\n",
      " 42: 1898.9588304992003,\n",
      " 43: 88.822038,\n",
      " 44: 2783.6493991655298,\n",
      " 45: 3933.373638167089,\n",
      " 46: 26.1189351667,\n",
      " 47: 854.8288881656,\n",
      " 48: 1055.6871896667,\n",
      " 49: 0.0,\n",
      " 50: 491.9087078335,\n",
      " 51: 2185.0847380002706,\n",
      " 52: 3.22752383333,\n",
      " 53: 751.2716026673,\n",
      " 54: 427.764673834,\n",
      " 55: 589.6171318323301,\n",
      " 56: 106.72208133333001,\n",
      " 57: 4842.298387167651,\n",
      " 58: 1024.109326834,\n",
      " 59: 47.1679638333,\n",
      " 60: 2098.8426373316,\n",
      " 61: 496.99219366667,\n",
      " 62: 293.383122167,\n",
      " 63: 465.58233333400005,\n",
      " 64: 346.5030268336,\n",
      " 65: 422.27366000010005,\n",
      " 66: 6.95969283333,\n",
      " 67: 856.8375048337,\n",
      " 68: 0.0,\n",
      " 69: 3946.50200616513,\n",
      " 70: 310.04241416702996,\n",
      " 71: 62.669168333330006,\n",
      " 72: 704.5521115003299,\n",
      " 73: 0.0,\n",
      " 74: 5879.230190166303,\n",
      " 75: 20.8106506667,\n",
      " 76: 286.53478533297,\n",
      " 77: 231.80801666640002,\n",
      " 78: 7229.78709266389,\n",
      " 79: 416.49598383333,\n",
      " 80: 106.2245978334,\n",
      " 81: 227.6363853331,\n",
      " 82: 537.5285965007,\n",
      " 83: 293.4918854997,\n",
      " 84: 752.4780518326,\n",
      " 85: 500.4921706667001,\n",
      " 86: 0.0,\n",
      " 87: 1035.306503999,\n",
      " 88: 2917.4438696675406,\n",
      " 89: 63.79716583327,\n",
      " 90: 3656.38093583222,\n",
      " 91: 3124.592313998191,\n",
      " 92: 611.3200641666999,\n",
      " 93: 751.2236896667,\n",
      " 94: 0.0,\n",
      " 96: 45.3963998333,\n",
      " 97: 2293.9219658344996,\n",
      " 98: 525.6444536663,\n",
      " 99: 1867.74218416554,\n",
      " 100: 145.70615016660003,\n",
      " 101: 148.7306783333,\n",
      " 102: 277.0299235,\n",
      " 103: 1075.0625133337,\n",
      " 104: 839.123771167,\n",
      " 105: 312.1800340007,\n",
      " 106: 2328.9144675007697,\n",
      " 107: 171.2928940001,\n",
      " 108: 10568.100867332541,\n",
      " 109: 1167.52455983297,\n",
      " 110: 1214.55291799937,\n",
      " 111: 169.159592167,\n",
      " 112: 388.23059683327006,\n",
      " 113: 83.7769855,\n",
      " 114: 212.42274883324,\n",
      " 115: 167.606683,\n",
      " 116: 886.0703749999001,\n",
      " 117: 129.2449371666,\n",
      " 118: 891.8733579995999,\n",
      " 119: 3991.9810373311407,\n",
      " 120: 266.1378745,\n",
      " 121: 285.36239183329997,\n",
      " 122: 530.1415103337,\n",
      " 123: 1425.7993764999296,\n",
      " 124: 51.0695815,\n",
      " 125: 1410.5316330013002,\n",
      " 126: 33.4956098333,\n",
      " 127: 334.5606256663,\n",
      " 128: 743.1407118340001,\n",
      " 129: 101.387314333,\n",
      " 130: 5807.212303334741,\n",
      " 131: 0.0,\n",
      " 132: 1196.803629999,\n",
      " 133: 80.2133103333,\n",
      " 134: 1017.1034851664001,\n",
      " 135: 613.2567715002999,\n",
      " 136: 1449.3736278338001,\n",
      " 137: 696.2475044997,\n",
      " 138: 1155.6269243333602,\n",
      " 139: 86.4587005,\n",
      " 140: 7263.991842167299,\n",
      " 141: 544.992658666,\n",
      " 142: 6709.42387016856,\n",
      " 143: 405.0228675003,\n",
      " 144: 384.69492683359994,\n",
      " 145: 893.4411686660001,\n",
      " 146: 11.554518,\n",
      " 147: 1243.5486436662898,\n",
      " 148: 2916.9502008342706,\n",
      " 149: 56.835209,\n",
      " 150: 414.14088366667,\n",
      " 151: 908.4660900005999,\n",
      " 152: 745.1146233329999,\n",
      " 153: 5519.3081969980985,\n",
      " 154: 736.9791355,\n",
      " 155: 0.0,\n",
      " 156: 635.5124964993,\n",
      " 157: 3914.010639835101,\n",
      " 158: 0.0,\n",
      " 159: 307.57714250009997,\n",
      " 160: 630.1675615003,\n",
      " 161: 531.8882431671,\n",
      " 162: 532.6464248333,\n",
      " 163: 3564.7332644989997,\n",
      " 164: 765.55279683203,\n",
      " 165: 962.5736773336,\n",
      " 166: 0.0,\n",
      " 167: 0.0,\n",
      " 168: 4962.5543161655005,\n",
      " 169: 95.24563866667,\n",
      " 170: 586.7042849994001,\n",
      " 171: 1887.391213833,\n",
      " 172: 589.8798286670001,\n",
      " 173: 12.9807116667,\n",
      " 174: 414.12743866659997,\n",
      " 175: 2375.7954986677,\n",
      " 176: 1051.5771371676,\n",
      " 177: 570.776941833,\n",
      " 178: 783.3383063341,\n",
      " 179: 913.6758890002999,\n",
      " 180: 2634.85551000113,\n",
      " 181: 3862.929400999971,\n",
      " 182: 310.2486779997,\n",
      " 183: 418.01940599970004,\n",
      " 184: 247.9964674996,\n",
      " 185: 4224.377395331539,\n",
      " 186: 601.3632028330001,\n",
      " 187: 629.3766914993301,\n",
      " 188: 6.20617616667,\n",
      " 189: 1251.6466043334,\n",
      " 190: 1810.5199383324698,\n",
      " 191: 6027.846535335141,\n",
      " 192: 402.42499849989997,\n",
      " 193: 3869.08683200167,\n",
      " 194: 315.44705699977,\n",
      " 195: 1166.4244791677,\n",
      " 196: 383.1542506668,\n",
      " 197: 931.3076661670001,\n",
      " 198: 809.546996001,\n",
      " 199: 1452.709982333,\n",
      " 200: 448.5325424996,\n",
      " 201: 0.0,\n",
      " 202: 219.2389440004,\n",
      " 203: 705.4061521667,\n",
      " 204: 686.7681608344001,\n",
      " 205: 315.34049566659996,\n",
      " 206: 633.1473566663,\n",
      " 207: 114.39214366666,\n",
      " 208: 356.77551816640005,\n",
      " 209: 4.55604183333,\n",
      " 210: 421.2835453327,\n",
      " 211: 593.1472776666001,\n",
      " 212: 168.3080953333,\n",
      " 213: 836.3458141666999,\n",
      " 214: 30.3670653333,\n",
      " 215: 662.64059800003,\n",
      " 216: 58.36346116669999,\n",
      " 217: 2111.75571399998,\n",
      " 218: 2393.5421573319004,\n",
      " 219: 272.6840003337,\n",
      " 220: 2662.8567701651705,\n",
      " 221: 178.70479883369998,\n",
      " 222: 241.8322233337,\n",
      " 223: 151.60938049966,\n",
      " 224: 30.647238166630004,\n",
      " 225: 247.9695998334,\n",
      " 226: 439.05929566669994,\n",
      " 227: 1096.07299933297,\n",
      " 228: 360.4108591662,\n",
      " 229: 131.7264965,\n",
      " 230: 197.41214399993,\n",
      " 231: 9.75699783333,\n",
      " 232: 1168.2526861667002,\n",
      " 233: 197.0435864997,\n",
      " 234: 931.3838908327,\n",
      " 235: 0.0,\n",
      " 236: 467.5716475007,\n",
      " 237: 704.5008775003,\n",
      " 238: 330.1826238337,\n",
      " 239: 40.220247,\n",
      " 240: 0.0,\n",
      " 241: 288.9210591667,\n",
      " 242: 554.59261383367,\n",
      " 243: 46.605140666699995,\n",
      " 244: 123.5804105,\n",
      " 245: 669.9961104997,\n",
      " 246: 277.3369746671,\n",
      " 248: 183.134135333,\n",
      " 249: 877.8003651663,\n",
      " 250: 284.6907063333,\n",
      " 251: 3716.85055883333,\n",
      " 252: 343.35795733340007,\n",
      " 253: 2884.7102329999,\n",
      " 254: 600.5757328336,\n",
      " 255: 221.72389316627002,\n",
      " 256: 5740.986651833372,\n",
      " 257: 39.485681500000005,\n",
      " 258: 595.2719906673,\n",
      " 259: 1366.4100205,\n",
      " 260: 638.934161833,\n",
      " 261: 0.0,\n",
      " 262: 42.4569508333,\n",
      " 263: 4752.494575498951,\n",
      " 264: 4352.512844498472,\n",
      " 265: 371.26458716729996,\n",
      " 266: 1420.1479191659998,\n",
      " 267: 211.5840809997,\n",
      " 268: 494.80961349989997,\n",
      " 269: 322.475557667,\n",
      " 270: 1020.3306876671,\n",
      " 271: 830.83625116633,\n",
      " 272: 1203.2224428333002,\n",
      " 273: 70.48434450007001,\n",
      " 274: 1435.0160603327001,\n",
      " 275: 44.477798999970005,\n",
      " 276: 429.03252133340004,\n",
      " 277: 884.915487,\n",
      " 278: 0.0,\n",
      " 279: 2040.99096683197,\n",
      " 280: 255.53718516670003,\n",
      " 281: 0.0,\n",
      " 282: 570.5658495,\n",
      " 283: 418.79893533333,\n",
      " 284: 665.723745833,\n",
      " 285: 961.13632299937,\n",
      " 286: 195.9300631667,\n",
      " 287: 283.36202233326,\n",
      " 288: 4.58531166667,\n",
      " 289: 955.78319766497,\n",
      " 290: 442.37721166627,\n",
      " 291: 0.0,\n",
      " 292: 192.665344,\n",
      " 293: 497.8218254996,\n",
      " 294: 405.600248833,\n",
      " 295: 421.6092228329,\n",
      " 296: 199.06043566667,\n",
      " 297: 338.67828999970004,\n",
      " 298: 213.4699951663,\n",
      " 299: 0.0,\n",
      " 300: 88.12990766662999,\n",
      " 301: 669.9500983341,\n",
      " 302: 165.37368716699999,\n",
      " 303: 2700.4878774989998,\n",
      " 304: 194.7560403337,\n",
      " 305: 538.88974533303,\n",
      " 306: 1918.8834441663,\n",
      " 307: 4.19664316667,\n",
      " 308: 554.8758693333999,\n",
      " 309: 150.7999871667,\n",
      " 310: 843.170594833,\n",
      " 311: 59.239222,\n",
      " 313: 888.6124170002998,\n",
      " 314: 1341.720517667,\n",
      " 315: 657.0126268326,\n",
      " 316: 1735.943607166,\n",
      " 317: 2778.3161446706704,\n",
      " 318: 196.3044158337,\n",
      " 319: 343.6706583329,\n",
      " 320: 859.426280833,\n",
      " 321: 1776.7119671674905,\n",
      " 322: 1858.47644299971,\n",
      " 323: 397.24734133329997,\n",
      " 324: 1669.9007213329999,\n",
      " 325: 370.8747679997,\n",
      " 326: 1426.2515225012999,\n",
      " 327: 355.96292199997,\n",
      " 328: 667.7495933323299,\n",
      " 329: 5563.09520999864,\n",
      " 330: 187.9226685,\n",
      " 331: 501.941580166,\n",
      " 332: 124.52342500033,\n",
      " 333: 129.087694,\n",
      " 334: 1546.9691116660001,\n",
      " 335: 855.4038108340001,\n",
      " 336: 278.6769970004,\n",
      " 337: 0.0,\n",
      " 338: 1460.23975783377,\n",
      " 339: 5149.44630416723,\n",
      " 340: 392.473794834,\n",
      " 341: 35.531418,\n",
      " 342: 0.0,\n",
      " 343: 83.295313,\n",
      " 344: 614.9778563333,\n",
      " 345: 246.61175300029998,\n",
      " 346: 248.12435916639998,\n",
      " 347: 2909.4296574979294,\n",
      " 348: 483.17950583302996,\n",
      " 349: 211.3875440003,\n",
      " 350: 107.74437683336001,\n",
      " 351: 320.97561616674,\n",
      " 352: 729.8468485,\n",
      " 353: 122.07255516670001,\n",
      " 354: 609.2861186673,\n",
      " 355: 944.5557876659999,\n",
      " 356: 64.7772518334,\n",
      " 357: 105.06483083340001,\n",
      " 358: 71.4977216667,\n",
      " 359: 2530.5614099997,\n",
      " 360: 677.2790736659999,\n",
      " 361: 1053.7764165013,\n",
      " 362: 942.86387666743,\n",
      " 363: 0.0,\n",
      " 364: 0.0,\n",
      " 365: 37.6347753333,\n",
      " 366: 6284.62383516614,\n",
      " 367: 220.21062866679998,\n",
      " 368: 817.9997333323399,\n",
      " 369: 42.3843405,\n",
      " 370: 0.0,\n",
      " 371: 4.24015233333,\n",
      " 372: 197.066153,\n",
      " 373: 532.5829673333,\n",
      " 374: 30.5476253333,\n",
      " 375: 506.55911883299996,\n",
      " 376: 65.9101326667,\n",
      " 377: 803.3391453328,\n",
      " 378: 1295.8928798327597,\n",
      " 379: 391.3939735,\n",
      " 380: 51.9296121667,\n",
      " 381: 0.0,\n",
      " 382: 73.6446115,\n",
      " 383: 212.1774728337,\n",
      " 384: 925.7537420007,\n",
      " 385: 446.4724451667,\n",
      " 386: 1746.3109303336303,\n",
      " 387: 0.0,\n",
      " 388: 1412.88604366663,\n",
      " 389: 137.83762533337,\n",
      " 390: 137.9929768333,\n",
      " 391: 0.0,\n",
      " 392: 427.5369333332,\n",
      " 393: 3.3318835,\n",
      " 394: 808.5665558337,\n",
      " 395: 2.17768916667,\n",
      " 396: 0.0,\n",
      " 397: 4585.091149166379,\n",
      " 398: 12.05914466667,\n",
      " 399: 177.5920131668,\n",
      " 400: 239.61664966700002,\n",
      " 401: 0.0,\n",
      " 402: 167.38186600003002,\n",
      " 403: 604.355107166,\n",
      " 404: 611.4195701674,\n",
      " 405: 805.3556923337,\n",
      " 406: 57.2638435,\n",
      " 407: 500.9127926667,\n",
      " 408: 2032.9375015004,\n",
      " 409: 364.480768,\n",
      " 410: 951.118714666,\n",
      " 411: 1248.11061049997,\n",
      " 412: 6882.979558501368,\n",
      " 413: 578.9502861663,\n",
      " 414: 68.0673978333,\n",
      " 415: 4060.959930334999,\n",
      " 416: 851.75938166697,\n",
      " 417: 22.14904683337,\n",
      " 418: 86.7824926667,\n",
      " 419: 2404.1247378322896,\n",
      " 420: 96.80278150000001,\n",
      " 421: 357.275143834,\n",
      " 422: 311.1889536663,\n",
      " 423: 580.0698744992999,\n",
      " 424: 0.0,\n",
      " 425: 975.587918167,\n",
      " 426: 0.0,\n",
      " 427: 413.5420181666,\n",
      " 428: 726.26075933267,\n",
      " 429: 2386.12630133193,\n",
      " 430: 1024.0636758326,\n",
      " 431: 77.9742268333,\n",
      " 432: 437.22883383330003,\n",
      " 433: 81.51043433337,\n",
      " 434: 696.5725646662999,\n",
      " 435: 433.22729549969995,\n",
      " 436: 858.37418699973,\n",
      " 437: 39.4918656667,\n",
      " 438: 363.94914149996,\n",
      " 439: 5112.73769183253,\n",
      " 440: 45.9874008334,\n",
      " 441: 1065.2951291673999,\n",
      " 442: 3407.3393836637197,\n",
      " 443: 1001.813550333,\n",
      " 444: 255.39003949993,\n",
      " 445: 46.3023048333,\n",
      " 446: 90.90472849993,\n",
      " 447: 119.916663667,\n",
      " 449: 20.247478,\n",
      " 450: 1096.72738949933,\n",
      " 451: 79.9306696666,\n",
      " 452: 36.434234,\n",
      " 453: 514.86060716603,\n",
      " 454: 141.19407999967,\n",
      " 455: 438.50690233336,\n",
      " 456: 27.37808133337,\n",
      " 457: 547.552952834,\n",
      " 458: 1697.1535334983703,\n",
      " 459: 943.8555468324001,\n",
      " 460: 7482.935562666412,\n",
      " 461: 89.6344988334,\n",
      " 462: 749.194206334,\n",
      " 463: 633.4301786670001,\n",
      " 464: 503.05470083299997,\n",
      " 465: 53.1803671667,\n",
      " 466: 131.94636750003,\n",
      " 467: 207.27739616670002,\n",
      " 468: 224.91582050030001,\n",
      " 469: 884.7240451653,\n",
      " 471: 68.2496686666,\n",
      " 472: 174.4431463334,\n",
      " 473: 1839.7921244994304,\n",
      " 474: 285.75573750030003,\n",
      " 475: 164.161086,\n",
      " 476: 46.6148,\n",
      " 477: 779.5860966676,\n",
      " 478: 4.45095966667,\n",
      " 479: 316.43186650009994,\n",
      " 480: 2618.7204273334296,\n",
      " 481: 599.325108667,\n",
      " 482: 29.5289625001,\n",
      " 483: 716.3825241659999,\n",
      " 484: 18.786721,\n",
      " 485: 411.84511316623,\n",
      " 486: 188.8958254999,\n",
      " 487: 551.1900968329701,\n",
      " 488: 202.6132725,\n",
      " 489: 829.9734088337,\n",
      " 490: 32.447970500029996,\n",
      " 491: 640.0351108333,\n",
      " 492: 0.0,\n",
      " 493: 586.7405209996,\n",
      " 494: 743.5235661669999,\n",
      " 495: 434.1575319996999,\n",
      " 496: 1217.1688571673,\n",
      " 497: 448.741092333,\n",
      " 498: 385.2513571667001,\n",
      " 499: 367.3854126667,\n",
      " 500: 987.44277216774,\n",
      " 501: 32.8227305,\n",
      " 502: 543.0770111667,\n",
      " 503: 2.8138905,\n",
      " 504: 388.7726185,\n",
      " 505: 459.3740381662999,\n",
      " 506: 75.8750386667,\n",
      " 507: 2021.57861849967,\n",
      " 508: 736.5973803337,\n",
      " 509: 307.0653258337,\n",
      " 510: 143.78600349967,\n",
      " 511: 493.53649199967003,\n",
      " 512: 4.26499566667,\n",
      " 513: 626.2345113327,\n",
      " 514: 62.84829066659999,\n",
      " 515: 265.47810483300003,\n",
      " 516: 458.88193600033003,\n",
      " 517: 1381.1028195004,\n",
      " 518: 980.5763799994,\n",
      " 519: 231.0283105,\n",
      " 520: 109.5149769999,\n",
      " 521: 1919.3789231675298,\n",
      " 522: 303.55134400000003,\n",
      " 523: 1822.4971173327,\n",
      " 524: 400.9270521663,\n",
      " 525: 0.0,\n",
      " 526: 670.3438828333,\n",
      " 527: 256.4187193326,\n",
      " 528: 514.0743979996,\n",
      " 529: 1976.3220675000703,\n",
      " 530: 1896.7540938320003,\n",
      " 531: 594.0435458336,\n",
      " 532: 422.6295078334,\n",
      " 533: 455.19857933369997,\n",
      " 534: 609.6590520007001,\n",
      " 535: 629.7823334996999,\n",
      " 536: 0.0,\n",
      " 537: 30.6256575,\n",
      " 538: 7.1116735,\n",
      " 539: 172.5712248333,\n",
      " 540: 440.96130916723,\n",
      " 541: 20.879544833329998,\n",
      " 542: 1036.951593167,\n",
      " 543: 183.7893518334,\n",
      " 544: 1421.7436063333,\n",
      " 545: 307.7543378337,\n",
      " 546: 41.7786686667,\n",
      " 547: 314.950763333,\n",
      " 548: 769.207330667,\n",
      " 549: 32.0522478333,\n",
      " 550: 5234.28921816846,\n",
      " 551: 0.0,\n",
      " 552: 932.3012898327,\n",
      " 553: 507.1024986672999,\n",
      " 554: 272.16654083369997,\n",
      " 555: 294.34356566670004,\n",
      " 556: 187.25140866697,\n",
      " 557: 3483.3606208332003,\n",
      " 558: 5822.26115550112,\n",
      " 559: 105.24544450007,\n",
      " 560: 61.7853381666,\n",
      " 561: 52.4319528333,\n",
      " 562: 326.448714,\n",
      " 563: 21.972605,\n",
      " 564: 3284.0465126671,\n",
      " 565: 518.1875990003,\n",
      " 566: 133.319127167,\n",
      " 567: 321.3727448333,\n",
      " 568: 28.9028346666,\n",
      " 569: 1477.0239483322998,\n",
      " 570: 173.9382718334,\n",
      " 571: 2526.4558833343,\n",
      " 572: 907.111293668,\n",
      " 573: 924.2469394994,\n",
      " 574: 0.0,\n",
      " 575: 400.8135763341,\n",
      " 576: 911.11994133237,\n",
      " 577: 4220.827977999,\n",
      " 578: 28.5667518333,\n",
      " 579: 298.253430333,\n",
      " 580: 712.1588875006701,\n",
      " 581: 122.48917700033,\n",
      " 582: 2.4822425,\n",
      " 583: 762.169280667,\n",
      " 584: 43.1275238334,\n",
      " 585: 535.00554450033,\n",
      " 586: 77.7392298333,\n",
      " 587: 2801.4368536658,\n",
      " 588: 84.6351145,\n",
      " 589: 1394.32488116724,\n",
      " 590: 3835.0816603316007,\n",
      " 591: 2365.3846399996205,\n",
      " 592: 488.40353200030006,\n",
      " 593: 0.0,\n",
      " 594: 0.0,\n",
      " 595: 335.5259626667,\n",
      " 596: 311.07236283327,\n",
      " 597: 1047.649452501,\n",
      " 598: 399.2498304993,\n",
      " 599: 1073.1193706662702,\n",
      " 600: 24.87366349997,\n",
      " 601: 1023.5764698335701,\n",
      " 602: 615.9597956661,\n",
      " 603: 207.9139188337,\n",
      " 604: 1890.9937024994,\n",
      " 605: 218.3752333334,\n",
      " 606: 456.3332818333,\n",
      " 607: 547.7397464997,\n",
      " 608: 248.29428850003,\n",
      " 609: 73.7238143333,\n",
      " 610: 653.1940411656001,\n",
      " 611: 382.93037050067,\n",
      " 612: 52.9136506667,\n",
      " 613: 545.9623025,\n",
      " 614: 101.1193401667,\n",
      " 615: 108.47527400000001,\n",
      " 616: 321.2057135,\n",
      " 617: 432.987765666,\n",
      " 618: 513.8126981664001,\n",
      " 619: 1482.9020456663002,\n",
      " 620: 557.5625511664,\n",
      " 621: 204.02415449966998,\n",
      " 622: 396.82058733329995,\n",
      " 623: 233.03542166677,\n",
      " 624: 1026.8480728333,\n",
      " 625: 0.0,\n",
      " 626: 189.4966958334,\n",
      " 627: 1047.4820013337,\n",
      " 628: 203.3427993337,\n",
      " 629: 374.365616,\n",
      " 630: 394.5387589999,\n",
      " 631: 245.23744383336998,\n",
      " 632: 84.558989,\n",
      " 633: 1689.189059835,\n",
      " 634: 223.73943383300002,\n",
      " 635: 80.5941101667,\n",
      " 636: 169.3917738333,\n",
      " 637: 5026.5365526675,\n",
      " 639: 416.14186616669997,\n",
      " 640: 3319.29351949976,\n",
      " 641: 673.6022078333999,\n",
      " 642: 421.960349833,\n",
      " 643: 5478.08423433259,\n",
      " 644: 488.3752611667,\n",
      " 645: 847.3979861667,\n",
      " 646: 264.5287276666,\n",
      " 647: 73.5741316667,\n",
      " 648: 129.1323983333,\n",
      " 649: 700.4743598327,\n",
      " 650: 462.89884616700004,\n",
      " 651: 1346.7158483327,\n",
      " 652: 479.86306116670005,\n",
      " 653: 736.4371648339999,\n",
      " 655: 177.8367486667,\n",
      " 656: 0.0,\n",
      " 657: 88.26031799993001,\n",
      " 660: 193.848226,\n",
      " 661: 92.5547231666,\n",
      " 665: 0.0,\n",
      " 666: 138.052647,\n",
      " 667: 144.1243173333,\n",
      " 669: 0.0,\n",
      " 670: 454.273163499,\n",
      " 671: 115.15559099992998,\n",
      " 672: 32.816891,\n",
      " 673: 348.39415716703,\n",
      " 674: 171.593366833,\n",
      " 676: 16.5745846667,\n",
      " 678: 100.0702155,\n",
      " 682: 25.243540000000003,\n",
      " 686: 9.61211033333,\n",
      " 687: 18.889756499999997,\n",
      " 689: 0.0,\n",
      " 690: 176.93213449997,\n",
      " 692: 16.604203,\n",
      " 693: 1101.9766531676999,\n",
      " 694: 198.6962631669,\n",
      " 696: 666.3290910003,\n",
      " 697: 88.1119545,\n",
      " 698: 56.45108966666999,\n",
      " 702: 116.4866128334,\n",
      " 704: 0.0,\n",
      " 705: 2.01742616667,\n",
      " 706: 1329.9598305,\n",
      " 709: 88.0103965,\n",
      " 710: 127.80479266670001,\n",
      " 712: 253.23675750029997,\n",
      " 713: 139.060529,\n",
      " 715: 307.3006509996,\n",
      " 718: 0.0,\n",
      " 719: 9.4907925,\n",
      " 720: 401.81893949967,\n",
      " 722: 384.7983663329,\n",
      " 726: 21.1284496667,\n",
      " 729: 0.0,\n",
      " 730: 41.7199715,\n",
      " 732: 219.926066667,\n",
      " 735: 0.0,\n",
      " 736: 313.50181033333,\n",
      " 742: 489.7736965,\n",
      " 743: 0.0,\n",
      " 744: 374.5761038331,\n",
      " 746: 706.5435295006,\n",
      " 747: 0.0,\n",
      " 748: 324.6302378336,\n",
      " 751: 52.1289673334,\n",
      " 752: 30.5951761667,\n",
      " 753: 116.628876833,\n",
      " 754: 413.3262124997,\n",
      " 755: 34.0330873333,\n",
      " 756: 0.0,\n",
      " 757: 354.6223496663,\n",
      " 759: 70.27870583333,\n",
      " 761: 100.06368333333,\n",
      " 762: 85.29257,\n",
      " 764: 59.340783666700005,\n",
      " 769: 135.6825435,\n",
      " 771: 431.05547749996003,\n",
      " 773: 0.0,\n",
      " 776: 0.0,\n",
      " 777: 199.31994916669998,\n",
      " 778: 48.1974151667,\n",
      " 779: 4.2604045,\n",
      " 780: 0.0,\n",
      " 781: 0.0,\n",
      " 782: 277.8489021664,\n",
      " 784: 176.3818004999,\n",
      " 785: 1446.3187888332998,\n",
      " 786: 23.695871500029998,\n",
      " 787: 0.0,\n",
      " 791: 417.953548167,\n",
      " 792: 1369.641421833,\n",
      " 793: 695.5581970005001,\n",
      " 794: 146.9410850001,\n",
      " 796: 0.0,\n",
      " 797: 0.0,\n",
      " 798: 397.8826263333,\n",
      " 800: 122.87407133333,\n",
      " 801: 0.0,\n",
      " 804: 22.7346656667,\n",
      " 805: 84.1050015,\n",
      " 806: 49.937148999970006,\n",
      " 808: 106.2993215,\n",
      " 811: 1138.3177014993998,\n",
      " 812: 1764.5367983344001,\n",
      " 816: 0.0,\n",
      " 822: 96.30831299993,\n",
      " 823: 1533.1252771655,\n",
      " 824: 748.3948773339602,\n",
      " 825: 27.3957285,\n",
      " 828: 345.17664533360005,\n",
      " 829: 129.762569,\n",
      " 831: 51.016355999999995,\n",
      " 832: 0.0,\n",
      " 833: 2.38093233333,\n",
      " 834: 21.5715365,\n",
      " 835: 0.0,\n",
      " 836: 125.07414166662998,\n",
      " 839: 13.587055,\n",
      " 840: 0.0,\n",
      " 843: 924.060058833,\n",
      " 844: 817.60166266567,\n",
      " 846: 32.6861011667,\n",
      " 851: 58.5606146667,\n",
      " 852: 214.54059633330002,\n",
      " 853: 5.92106983333,\n",
      " 854: 64.29995600000001,\n",
      " 855: 92.6896001666,\n",
      " 856: 0.0,\n",
      " 857: 266.64507050033,\n",
      " 858: 260.94864483347,\n",
      " 859: 2.54122166667,\n",
      " 864: 53.1295885,\n",
      " 866: 0.0,\n",
      " 867: 0.0,\n",
      " 868: 13.442560666670001,\n",
      " 872: 129.3303274997,\n",
      " 873: 30.2541315,\n",
      " 874: 49.7470893333,\n",
      " 877: 26.5230981667,\n",
      " 880: 15.5930261667,\n",
      " 882: 0.0,\n",
      " 883: 235.39055499926997,\n",
      " 885: 1403.366643835,\n",
      " 887: 62.78241916663,\n",
      " 888: 3.3880415,\n",
      " 893: 0.0,\n",
      " 896: 815.93251566656,\n",
      " 897: 22.0889656667,\n",
      " 900: 45.3703453333,\n",
      " 901: 26.5587726667,\n",
      " 905: 108.9832133333,\n",
      " 906: 382.39074833367,\n",
      " 909: 63.3749175,\n",
      " 912: 0.0,\n",
      " 913: 193.33857899996997,\n",
      " 916: 65.7383995,\n",
      " 918: 21.086721,\n",
      " 919: 663.5424139989,\n",
      " 920: 156.1449683333,\n",
      " 923: 358.7796728326,\n",
      " 924: 209.96127933370002,\n",
      " 927: 564.7571866670701,\n",
      " 928: 80.6559995,\n",
      " 931: 0.0,\n",
      " 932: 0.0,\n",
      " 934: 5.03956,\n",
      " 937: 160.1049253333,\n",
      " 938: 69.45209899999999,\n",
      " 939: 0.0,\n",
      " 940: 296.15271283339996,\n",
      " 941: 2.99934966667,\n",
      " 946: 131.70276883329998,\n",
      " 948: 94.3237553333,\n",
      " 950: 107.3523146666,\n",
      " 952: 120.657056167,\n",
      " 954: 134.31726183339998,\n",
      " 955: 240.5959745003,\n",
      " 956: 6.80688283333,\n",
      " 958: 0.0,\n",
      " 965: 666.393701501,\n",
      " 966: 757.6365553329,\n",
      " 967: 449.6269801663,\n",
      " 969: 24.9669023333,\n",
      " 972: 1826.34153849953,\n",
      " 973: 42.35008283337,\n",
      " 975: 3.7103945,\n",
      " 976: 65.0527071667,\n",
      " 977: 3.35443916667,\n",
      " 979: 517.8334496674,\n",
      " 983: 272.9986788333,\n",
      " 984: 337.37474883320004,\n",
      " 985: 46.494977,\n",
      " 986: 182.85550433323,\n",
      " 988: 61.420162,\n",
      " 989: 619.25447899957,\n",
      " 990: 106.08401216677001,\n",
      " 992: 39.0104288333,\n",
      " 1000: 180.025886167,\n",
      " 1001: 16.2005246667,\n",
      " 1002: 8.1809285,\n",
      " 1007: 0.0,\n",
      " 1009: 0.0,\n",
      " 1011: 118.71332966671,\n",
      " 1013: 4961.789169668999,\n",
      " 1014: 619.9953998326,\n",
      " 1015: 38.87817050003,\n",
      " 1019: 75.87298200000001,\n",
      " 1022: 59.5985243334,\n",
      " 1028: 18.8601366667,\n",
      " 1029: 3.50885666667,\n",
      " 1030: 218.55650866673005,\n",
      " 1031: 11.741084,\n",
      " 1032: 13.899305166700001,\n",
      " 1033: 959.9534376661,\n",
      " 1036: 0.0,\n",
      " 1038: 0.0,\n",
      " 1040: 87.1656904999,\n",
      " 1042: 150.73283666670002,\n",
      " 1048: 0.0,\n",
      " 1049: 37.853095,\n",
      " 1050: 84.5200338333,\n",
      " 1052: 117.195806333,\n",
      " 1053: 81.4415533333,\n",
      " 1054: 0.0,\n",
      " 1055: 71.5736406667,\n",
      " 1056: 366.5285674997,\n",
      " 1058: 1106.80309350047,\n",
      " 1060: 1768.5227493319999,\n",
      " 1062: 366.3194163334,\n",
      " 1066: 0.0,\n",
      " 1067: 29.7377383333,\n",
      " 1070: 1309.1846301673,\n",
      " 1071: 43.6377566667,\n",
      " 1072: 0.0,\n",
      " 1073: 35.81870033337,\n",
      " 1074: 0.0,\n",
      " 1075: 90.6038805,\n",
      " 1077: 152.213267167,\n",
      " 1080: 5.51051366667,\n",
      " 1081: 0.0,\n",
      " 1082: 51.1061375,\n",
      " 1087: 179.4080511666,\n",
      " 1088: 0.0,\n",
      " 1089: 53.190095,\n",
      " 1090: 0.0,\n",
      " 1094: 464.4721495011001,\n",
      " 1095: 374.13196783336997,\n",
      " 1096: 279.2649133331,\n",
      " 1098: 739.8981633335999,\n",
      " 1099: 108.8893720001,\n",
      " 1102: 1547.1059959994,\n",
      " 1103: 230.46292516633,\n",
      " 1107: 73.6289658334,\n",
      " 1110: 52.90383883333,\n",
      " 1111: 1612.4661078334002,\n",
      " 1113: 37.2096841667,\n",
      " 1115: 0.0,\n",
      " 1117: 0.0,\n",
      " 1118: 122.59361783329999,\n",
      " 1121: 2087.26782599953,\n",
      " 1123: 12.6563396667,\n",
      " 1124: 61.521267,\n",
      " 1128: 53.4711175,\n",
      " 1130: 137.6759001667,\n",
      " 1131: 693.148515833,\n",
      " 1136: 0.0,\n",
      " 1139: 2973.12244866787,\n",
      " 1140: 129.85920366667,\n",
      " 1142: 128.59075249996,\n",
      " 1143: 299.9208106657,\n",
      " 1144: 0.0,\n",
      " 1146: 105.57724800007,\n",
      " 1147: 28.805244,\n",
      " 1149: 876.6454899994,\n",
      " 1150: 150.810125167,\n",
      " 1151: 113.43918199967,\n",
      " 1153: 565.6616593333,\n",
      " 1154: 0.0,\n",
      " 1157: 0.0,\n",
      " 1160: 2.70408483333,\n",
      " 1161: 87.8123571667,\n",
      " 1163: 56.4237046666,\n",
      " 1167: 870.43417899963,\n",
      " 1170: 0.0,\n",
      " 1173: 55.7923973333,\n",
      " 1174: 4195.867196331471,\n",
      " 1175: 2.7094835,\n",
      " 1176: 754.5790381659999,\n",
      " 1177: 43.0449731666,\n",
      " 1178: 0.0,\n",
      " 1181: 42.3039228333,\n",
      " 1182: 63.1747861666,\n",
      " 1183: 2779.6266625004,\n",
      " 1185: 51.7192425,\n",
      " 1188: 200.75333083330003,\n",
      " 1189: 292.8858635,\n",
      " 1194: 168.1376205,\n",
      " 1198: 41.6709328334,\n",
      " 1199: 4.71476416667,\n",
      " 1200: 696.57720983267,\n",
      " 1201: 395.022838667,\n",
      " 1202: 48.67926333336,\n",
      " 1204: 291.7782771666,\n",
      " 1205: 0.0,\n",
      " 1206: 76.7225691667,\n",
      " 1207: 26.4703245,\n",
      " 1208: 114.066953,\n",
      " 1209: 247.9447956666,\n",
      " 1210: 430.7856678337,\n",
      " 1211: 3.56441583333,\n",
      " 1212: 0.0,\n",
      " 1214: 12.822523,\n",
      " 1215: 1360.7287001670002,\n",
      " 1216: 266.32487266671006,\n",
      " 1217: 1651.7125650003002,\n",
      " 1220: 118.30495933329999,\n",
      " 1224: 61.0835323333,\n",
      " 1226: 1129.93880666567,\n",
      " 1227: 0.0,\n",
      " 1228: 0.0,\n",
      " 1231: 621.5755701662999,\n",
      " 1235: 172.77872349963,\n",
      " 1236: 0.0,\n",
      " 1242: 49.1640855,\n",
      " 1243: 62.9114363333,\n",
      " 1244: 251.47277383323,\n",
      " 1247: 79.19556549999999,\n",
      " 1248: 3.50918183333,\n",
      " 1249: 9.62371516667,\n",
      " 1250: 10.0058803333,\n",
      " 1251: 11.2880193333,\n",
      " 1253: 0.0,\n",
      " 1254: 187.32349033330001,\n",
      " 1257: 30.8061303333,\n",
      " 1259: 581.80771799979,\n",
      " 1260: 0.0,\n",
      " 1262: 0.0,\n",
      " 1263: 383.99752900006996,\n",
      " 1264: 2.01734133333,\n",
      " 1265: 0.0,\n",
      " 1266: 0.0,\n",
      " 1267: 0.0,\n",
      " 1268: 11.3308886667,\n",
      " 1269: 4.79064933333,\n",
      " 1274: 438.5049581666,\n",
      " 1276: 62.8929255,\n",
      " 1277: 180.63298949997002,\n",
      " 1278: 0.0,\n",
      " 1282: 134.5242838333,\n",
      " 1285: 32.4256981667,\n",
      " 1287: 49.61772200006,\n",
      " 1289: 5.45628333333,\n",
      " 1290: 78.787234,\n",
      " 1292: 233.20550333356,\n",
      " 1298: 143.91027249997,\n",
      " 1299: 1046.6426086648003,\n",
      " 1302: 0.0,\n",
      " 1303: 1283.1469574992102,\n",
      " 1305: 9.771473833329999}\n"
     ]
    }
   ],
   "source": [
    "total_minutes_by_account = {} # 각 계정별로 일주일 동안 얼마나 일을 했는지(방문했는지) 계산 가능\n",
    "\n",
    "for account_key, engagement_for_students in engagement_by_account.items(): # dictvalue의 각 item을 이용하여 iteration을 하기 위해 items() 사용\n",
    "    total_minutes = 0\n",
    "    for engagement in engagement_for_students:\n",
    "        total_minutes += engagement['total_minutes_visited']\n",
    "    total_minutes_by_account[account_key] = total_minutes\n",
    "    \n",
    "pprint.pprint(total_minutes_by_account)"
   ]
  },
  {
   "cell_type": "markdown",
   "metadata": {},
   "source": [
    "**numpy의 사용**\n",
    "\n",
    "다음 시간에 자세히 다루겠지만, numpy는 mean, sd 등의 계산을 쉽게 해준다. numpy를 이용하여 평균을 구해보자."
   ]
  },
  {
   "cell_type": "code",
   "execution_count": 51,
   "metadata": {},
   "outputs": [
    {
     "name": "stdout",
     "output_type": "stream",
     "text": [
      "5.5\n",
      "55\n",
      "2.8722813232690143\n",
      "10 1\n"
     ]
    }
   ],
   "source": [
    "import numpy as np\n",
    "\n",
    "test_list = [1,2,3,4,5,6,7,8,9,10]\n",
    "print(np.mean(test_list))\n",
    "print(np.sum(test_list))\n",
    "print(np.std(test_list))\n",
    "print(np.max(test_list), np.min(test_list))"
   ]
  },
  {
   "cell_type": "code",
   "execution_count": 46,
   "metadata": {},
   "outputs": [
    {
     "name": "stdout",
     "output_type": "stream",
     "text": [
      "Mean: 647.5901738262695\n",
      "Standard deviation: 1129.2712104188108\n",
      "Minimum: 0.0\n",
      "Maximum: 10568.100867332541\n"
     ]
    }
   ],
   "source": [
    "import numpy as np\n",
    "\n",
    "# 모든 어카운트의 전체 사용시간 (value로 저장된 내용)을 value를 이용하여 리스트로 만든다.\n",
    "total_minutes = total_minutes_by_account.values()\n",
    "# print(total_minutes)\n",
    "\n",
    "# print(np.mean(total_minutes)) # 에러가 남. total_minutes은 list가 아니라 dict value임. 따라서 list로 변환해 주어야 함.\n",
    "\n",
    "print('Mean:', np.mean(list(total_minutes)))\n",
    "print('Standard deviation:', np.std(list(total_minutes)))\n",
    "print('Minimum:', np.min(list(total_minutes)))\n",
    "print('Maximum:', np.max(list(total_minutes)))"
   ]
  },
  {
   "cell_type": "markdown",
   "metadata": {},
   "source": [
    "계산 결과 다음을 확인할 수 있었다. \n",
    "* 학생들이 강의에 engage한 시간은 평균 647.59분이었다.\n",
    "* 편차는 1229.27분으로 매우 큰 편이다. \n",
    "* 가장 적게 이용한 학생이 0분, 가장 많이 이용한 학생은 10568분이다.\n",
    "\n",
    "그런데, 이 결과는 다시 의문을 만들게 된다. 10568분은 1주일이 넘는 시간이다. 이 데이터는 학생들의 첫번째 주 engagement를 계산한 것인데, 어느 학생도 일주일 내내 24시간 강의서비스를 이용하지도 않았을 것이고, 심지어 1주일이 넘는 시간이 발견되었다. 문제는 무엇일까?"
   ]
  },
  {
   "cell_type": "markdown",
   "metadata": {
    "collapsed": true
   },
   "source": [
    "## Debugging the Codes\n",
    "\n",
    "문제가 발생한 곳을 찾기 위해서 max_minutes이 10568.10인 학생의 key를 찾아보자."
   ]
  },
  {
   "cell_type": "code",
   "execution_count": 53,
   "metadata": {},
   "outputs": [
    {
     "name": "stdout",
     "output_type": "stream",
     "text": [
      "10568.100867332541 108\n"
     ]
    }
   ],
   "source": [
    "student_key_with_max_minutes = None\n",
    "max_minutes = 0\n",
    "\n",
    "for student_key, total_minutes in total_minutes_by_account.items():\n",
    "    # total_minutes_by_account라는 딕셔너리의 각 key-value 값을 student_key, total_minutes라고 이름 붙임\n",
    "    if total_minutes > max_minutes:\n",
    "        max_minutes = total_minutes # total minutes값을 max_minutes에 저장\n",
    "        student_key_with_max_minutes = student_key\n",
    "\n",
    "print(max_minutes, student_key_with_max_minutes)"
   ]
  },
  {
   "cell_type": "markdown",
   "metadata": {},
   "source": [
    "위에서 확인한 키를 이용하여 engagement 데이터를 출력해보자."
   ]
  },
  {
   "cell_type": "code",
   "execution_count": 54,
   "metadata": {},
   "outputs": [
    {
     "name": "stdout",
     "output_type": "stream",
     "text": [
      "OrderedDict([('utc_date', datetime.datetime(2015, 1, 7, 0, 0)), ('num_courses_visited', 1), ('total_minutes_visited', 50.9938951667), ('lessons_completed', 0), ('projects_completed', 0), ('account_key', 108)])\n",
      "OrderedDict([('utc_date', datetime.datetime(2015, 1, 8, 0, 0)), ('num_courses_visited', 2), ('total_minutes_visited', 688.3034385), ('lessons_completed', 5), ('projects_completed', 0), ('account_key', 108)])\n",
      "OrderedDict([('utc_date', datetime.datetime(2015, 1, 9, 0, 0)), ('num_courses_visited', 2), ('total_minutes_visited', 427.691757667), ('lessons_completed', 1), ('projects_completed', 0), ('account_key', 108)])\n",
      "OrderedDict([('utc_date', datetime.datetime(2015, 1, 10, 0, 0)), ('num_courses_visited', 3), ('total_minutes_visited', 165.6270925), ('lessons_completed', 0), ('projects_completed', 0), ('account_key', 108)])\n",
      "OrderedDict([('utc_date', datetime.datetime(2015, 1, 11, 0, 0)), ('num_courses_visited', 0), ('total_minutes_visited', 0.0), ('lessons_completed', 0), ('projects_completed', 0), ('account_key', 108)])\n",
      "OrderedDict([('utc_date', datetime.datetime(2015, 1, 12, 0, 0)), ('num_courses_visited', 2), ('total_minutes_visited', 199.746703834), ('lessons_completed', 0), ('projects_completed', 0), ('account_key', 108)])\n",
      "OrderedDict([('utc_date', datetime.datetime(2015, 1, 13, 0, 0)), ('num_courses_visited', 1), ('total_minutes_visited', 522.626804333), ('lessons_completed', 0), ('projects_completed', 0), ('account_key', 108)])\n",
      "OrderedDict([('utc_date', datetime.datetime(2015, 1, 14, 0, 0)), ('num_courses_visited', 1), ('total_minutes_visited', 19.3757686667), ('lessons_completed', 0), ('projects_completed', 0), ('account_key', 108)])\n",
      "OrderedDict([('utc_date', datetime.datetime(2015, 1, 15, 0, 0)), ('num_courses_visited', 1), ('total_minutes_visited', 159.846594), ('lessons_completed', 1), ('projects_completed', 0), ('account_key', 108)])\n",
      "OrderedDict([('utc_date', datetime.datetime(2015, 1, 16, 0, 0)), ('num_courses_visited', 2), ('total_minutes_visited', 188.953028166), ('lessons_completed', 0), ('projects_completed', 0), ('account_key', 108)])\n",
      "OrderedDict([('utc_date', datetime.datetime(2015, 1, 17, 0, 0)), ('num_courses_visited', 3), ('total_minutes_visited', 150.338208833), ('lessons_completed', 1), ('projects_completed', 0), ('account_key', 108)])\n",
      "OrderedDict([('utc_date', datetime.datetime(2015, 1, 18, 0, 0)), ('num_courses_visited', 2), ('total_minutes_visited', 46.2042118333), ('lessons_completed', 0), ('projects_completed', 0), ('account_key', 108)])\n",
      "OrderedDict([('utc_date', datetime.datetime(2015, 1, 19, 0, 0)), ('num_courses_visited', 0), ('total_minutes_visited', 0.0), ('lessons_completed', 0), ('projects_completed', 0), ('account_key', 108)])\n",
      "OrderedDict([('utc_date', datetime.datetime(2015, 1, 20, 0, 0)), ('num_courses_visited', 0), ('total_minutes_visited', 0.0), ('lessons_completed', 0), ('projects_completed', 0), ('account_key', 108)])\n",
      "OrderedDict([('utc_date', datetime.datetime(2015, 1, 21, 0, 0)), ('num_courses_visited', 0), ('total_minutes_visited', 0.0), ('lessons_completed', 0), ('projects_completed', 0), ('account_key', 108)])\n",
      "OrderedDict([('utc_date', datetime.datetime(2015, 1, 22, 0, 0)), ('num_courses_visited', 2), ('total_minutes_visited', 31.7297723333), ('lessons_completed', 0), ('projects_completed', 0), ('account_key', 108)])\n",
      "OrderedDict([('utc_date', datetime.datetime(2015, 1, 23, 0, 0)), ('num_courses_visited', 1), ('total_minutes_visited', 206.586538333), ('lessons_completed', 0), ('projects_completed', 0), ('account_key', 108)])\n",
      "OrderedDict([('utc_date', datetime.datetime(2015, 1, 24, 0, 0)), ('num_courses_visited', 0), ('total_minutes_visited', 0.0), ('lessons_completed', 0), ('projects_completed', 0), ('account_key', 108)])\n",
      "OrderedDict([('utc_date', datetime.datetime(2015, 1, 25, 0, 0)), ('num_courses_visited', 0), ('total_minutes_visited', 0.0), ('lessons_completed', 0), ('projects_completed', 0), ('account_key', 108)])\n",
      "OrderedDict([('utc_date', datetime.datetime(2015, 1, 26, 0, 0)), ('num_courses_visited', 1), ('total_minutes_visited', 129.350111833), ('lessons_completed', 0), ('projects_completed', 0), ('account_key', 108)])\n",
      "OrderedDict([('utc_date', datetime.datetime(2015, 1, 27, 0, 0)), ('num_courses_visited', 1), ('total_minutes_visited', 73.5691376667), ('lessons_completed', 0), ('projects_completed', 0), ('account_key', 108)])\n",
      "OrderedDict([('utc_date', datetime.datetime(2015, 1, 28, 0, 0)), ('num_courses_visited', 0), ('total_minutes_visited', 0.0), ('lessons_completed', 0), ('projects_completed', 0), ('account_key', 108)])\n",
      "OrderedDict([('utc_date', datetime.datetime(2015, 1, 29, 0, 0)), ('num_courses_visited', 1), ('total_minutes_visited', 271.0895865), ('lessons_completed', 0), ('projects_completed', 0), ('account_key', 108)])\n",
      "OrderedDict([('utc_date', datetime.datetime(2015, 1, 30, 0, 0)), ('num_courses_visited', 1), ('total_minutes_visited', 432.252650333), ('lessons_completed', 1), ('projects_completed', 0), ('account_key', 108)])\n",
      "OrderedDict([('utc_date', datetime.datetime(2015, 1, 31, 0, 0)), ('num_courses_visited', 1), ('total_minutes_visited', 196.13898), ('lessons_completed', 0), ('projects_completed', 0), ('account_key', 108)])\n",
      "OrderedDict([('utc_date', datetime.datetime(2015, 2, 1, 0, 0)), ('num_courses_visited', 1), ('total_minutes_visited', 68.9915653333), ('lessons_completed', 0), ('projects_completed', 0), ('account_key', 108)])\n",
      "OrderedDict([('utc_date', datetime.datetime(2015, 2, 2, 0, 0)), ('num_courses_visited', 2), ('total_minutes_visited', 86.3277713333), ('lessons_completed', 0), ('projects_completed', 0), ('account_key', 108)])\n",
      "OrderedDict([('utc_date', datetime.datetime(2015, 2, 3, 0, 0)), ('num_courses_visited', 0), ('total_minutes_visited', 0.0), ('lessons_completed', 0), ('projects_completed', 0), ('account_key', 108)])\n",
      "OrderedDict([('utc_date', datetime.datetime(2015, 2, 4, 0, 0)), ('num_courses_visited', 0), ('total_minutes_visited', 0.0), ('lessons_completed', 0), ('projects_completed', 0), ('account_key', 108)])\n",
      "OrderedDict([('utc_date', datetime.datetime(2015, 2, 5, 0, 0)), ('num_courses_visited', 1), ('total_minutes_visited', 153.230525), ('lessons_completed', 0), ('projects_completed', 0), ('account_key', 108)])\n",
      "OrderedDict([('utc_date', datetime.datetime(2015, 2, 6, 0, 0)), ('num_courses_visited', 0), ('total_minutes_visited', 0.0), ('lessons_completed', 0), ('projects_completed', 0), ('account_key', 108)])\n",
      "OrderedDict([('utc_date', datetime.datetime(2015, 2, 7, 0, 0)), ('num_courses_visited', 0), ('total_minutes_visited', 0.0), ('lessons_completed', 0), ('projects_completed', 0), ('account_key', 108)])\n",
      "OrderedDict([('utc_date', datetime.datetime(2015, 2, 8, 0, 0)), ('num_courses_visited', 0), ('total_minutes_visited', 0.0), ('lessons_completed', 0), ('projects_completed', 0), ('account_key', 108)])\n",
      "OrderedDict([('utc_date', datetime.datetime(2015, 2, 9, 0, 0)), ('num_courses_visited', 1), ('total_minutes_visited', 16.687455), ('lessons_completed', 0), ('projects_completed', 0), ('account_key', 108)])\n",
      "OrderedDict([('utc_date', datetime.datetime(2015, 2, 10, 0, 0)), ('num_courses_visited', 1), ('total_minutes_visited', 133.047518833), ('lessons_completed', 0), ('projects_completed', 0), ('account_key', 108)])\n",
      "OrderedDict([('utc_date', datetime.datetime(2015, 2, 11, 0, 0)), ('num_courses_visited', 2), ('total_minutes_visited', 60.2176756667), ('lessons_completed', 0), ('projects_completed', 0), ('account_key', 108)])\n",
      "OrderedDict([('utc_date', datetime.datetime(2015, 2, 12, 0, 0)), ('num_courses_visited', 3), ('total_minutes_visited', 160.438302667), ('lessons_completed', 0), ('projects_completed', 0), ('account_key', 108)])\n",
      "OrderedDict([('utc_date', datetime.datetime(2015, 2, 13, 0, 0)), ('num_courses_visited', 2), ('total_minutes_visited', 506.220547), ('lessons_completed', 4), ('projects_completed', 0), ('account_key', 108)])\n",
      "OrderedDict([('utc_date', datetime.datetime(2015, 2, 14, 0, 0)), ('num_courses_visited', 1), ('total_minutes_visited', 105.095858167), ('lessons_completed', 0), ('projects_completed', 0), ('account_key', 108)])\n",
      "OrderedDict([('utc_date', datetime.datetime(2015, 2, 15, 0, 0)), ('num_courses_visited', 0), ('total_minutes_visited', 0.0), ('lessons_completed', 0), ('projects_completed', 0), ('account_key', 108)])\n",
      "OrderedDict([('utc_date', datetime.datetime(2015, 2, 16, 0, 0)), ('num_courses_visited', 0), ('total_minutes_visited', 0.0), ('lessons_completed', 0), ('projects_completed', 0), ('account_key', 108)])\n",
      "OrderedDict([('utc_date', datetime.datetime(2015, 2, 17, 0, 0)), ('num_courses_visited', 1), ('total_minutes_visited', 2.851689), ('lessons_completed', 0), ('projects_completed', 0), ('account_key', 108)])\n",
      "OrderedDict([('utc_date', datetime.datetime(2015, 2, 18, 0, 0)), ('num_courses_visited', 1), ('total_minutes_visited', 10.9540768333), ('lessons_completed', 1), ('projects_completed', 0), ('account_key', 108)])\n",
      "OrderedDict([('utc_date', datetime.datetime(2015, 2, 19, 0, 0)), ('num_courses_visited', 1), ('total_minutes_visited', 474.2906025), ('lessons_completed', 3), ('projects_completed', 0), ('account_key', 108)])\n",
      "OrderedDict([('utc_date', datetime.datetime(2015, 2, 20, 0, 0)), ('num_courses_visited', 2), ('total_minutes_visited', 820.879483167), ('lessons_completed', 5), ('projects_completed', 0), ('account_key', 108)])\n",
      "OrderedDict([('utc_date', datetime.datetime(2015, 2, 21, 0, 0)), ('num_courses_visited', 2), ('total_minutes_visited', 189.447189334), ('lessons_completed', 2), ('projects_completed', 0), ('account_key', 108)])\n",
      "OrderedDict([('utc_date', datetime.datetime(2015, 2, 22, 0, 0)), ('num_courses_visited', 2), ('total_minutes_visited', 97.7356985), ('lessons_completed', 1), ('projects_completed', 0), ('account_key', 108)])\n",
      "OrderedDict([('utc_date', datetime.datetime(2015, 2, 23, 0, 0)), ('num_courses_visited', 1), ('total_minutes_visited', 16.399642), ('lessons_completed', 0), ('projects_completed', 0), ('account_key', 108)])\n",
      "OrderedDict([('utc_date', datetime.datetime(2015, 2, 24, 0, 0)), ('num_courses_visited', 0), ('total_minutes_visited', 0.0), ('lessons_completed', 0), ('projects_completed', 0), ('account_key', 108)])\n",
      "OrderedDict([('utc_date', datetime.datetime(2015, 2, 25, 0, 0)), ('num_courses_visited', 0), ('total_minutes_visited', 0.0), ('lessons_completed', 0), ('projects_completed', 0), ('account_key', 108)])\n",
      "OrderedDict([('utc_date', datetime.datetime(2015, 2, 26, 0, 0)), ('num_courses_visited', 0), ('total_minutes_visited', 0.0), ('lessons_completed', 0), ('projects_completed', 0), ('account_key', 108)])\n",
      "OrderedDict([('utc_date', datetime.datetime(2015, 2, 27, 0, 0)), ('num_courses_visited', 0), ('total_minutes_visited', 0.0), ('lessons_completed', 0), ('projects_completed', 0), ('account_key', 108)])\n",
      "OrderedDict([('utc_date', datetime.datetime(2015, 2, 28, 0, 0)), ('num_courses_visited', 0), ('total_minutes_visited', 0.0), ('lessons_completed', 0), ('projects_completed', 0), ('account_key', 108)])\n",
      "OrderedDict([('utc_date', datetime.datetime(2015, 3, 1, 0, 0)), ('num_courses_visited', 0), ('total_minutes_visited', 0.0), ('lessons_completed', 0), ('projects_completed', 0), ('account_key', 108)])\n",
      "OrderedDict([('utc_date', datetime.datetime(2015, 3, 2, 0, 0)), ('num_courses_visited', 0), ('total_minutes_visited', 0.0), ('lessons_completed', 0), ('projects_completed', 0), ('account_key', 108)])\n",
      "OrderedDict([('utc_date', datetime.datetime(2015, 3, 3, 0, 0)), ('num_courses_visited', 0), ('total_minutes_visited', 0.0), ('lessons_completed', 0), ('projects_completed', 0), ('account_key', 108)])\n",
      "OrderedDict([('utc_date', datetime.datetime(2015, 3, 4, 0, 0)), ('num_courses_visited', 1), ('total_minutes_visited', 2.0494365), ('lessons_completed', 0), ('projects_completed', 0), ('account_key', 108)])\n",
      "OrderedDict([('utc_date', datetime.datetime(2015, 3, 5, 0, 0)), ('num_courses_visited', 0), ('total_minutes_visited', 0.0), ('lessons_completed', 0), ('projects_completed', 0), ('account_key', 108)])\n",
      "OrderedDict([('utc_date', datetime.datetime(2015, 3, 6, 0, 0)), ('num_courses_visited', 2), ('total_minutes_visited', 431.799976167), ('lessons_completed', 2), ('projects_completed', 0), ('account_key', 108)])\n",
      "OrderedDict([('utc_date', datetime.datetime(2015, 3, 7, 0, 0)), ('num_courses_visited', 1), ('total_minutes_visited', 119.514411833), ('lessons_completed', 1), ('projects_completed', 0), ('account_key', 108)])\n",
      "OrderedDict([('utc_date', datetime.datetime(2015, 3, 8, 0, 0)), ('num_courses_visited', 1), ('total_minutes_visited', 164.2608825), ('lessons_completed', 1), ('projects_completed', 0), ('account_key', 108)])\n",
      "OrderedDict([('utc_date', datetime.datetime(2015, 3, 9, 0, 0)), ('num_courses_visited', 2), ('total_minutes_visited', 179.749760666), ('lessons_completed', 0), ('projects_completed', 0), ('account_key', 108)])\n",
      "OrderedDict([('utc_date', datetime.datetime(2015, 3, 10, 0, 0)), ('num_courses_visited', 0), ('total_minutes_visited', 0.0), ('lessons_completed', 0), ('projects_completed', 0), ('account_key', 108)])\n",
      "OrderedDict([('utc_date', datetime.datetime(2015, 3, 11, 0, 0)), ('num_courses_visited', 0), ('total_minutes_visited', 0.0), ('lessons_completed', 0), ('projects_completed', 0), ('account_key', 108)])\n",
      "OrderedDict([('utc_date', datetime.datetime(2015, 3, 12, 0, 0)), ('num_courses_visited', 1), ('total_minutes_visited', 10.787165), ('lessons_completed', 0), ('projects_completed', 0), ('account_key', 108)])\n",
      "OrderedDict([('utc_date', datetime.datetime(2015, 3, 13, 0, 0)), ('num_courses_visited', 1), ('total_minutes_visited', 53.0065191667), ('lessons_completed', 0), ('projects_completed', 0), ('account_key', 108)])\n",
      "OrderedDict([('utc_date', datetime.datetime(2015, 3, 14, 0, 0)), ('num_courses_visited', 1), ('total_minutes_visited', 203.048973667), ('lessons_completed', 1), ('projects_completed', 0), ('account_key', 108)])\n",
      "OrderedDict([('utc_date', datetime.datetime(2015, 3, 15, 0, 0)), ('num_courses_visited', 1), ('total_minutes_visited', 51.2993831667), ('lessons_completed', 0), ('projects_completed', 0), ('account_key', 108)])\n",
      "OrderedDict([('utc_date', datetime.datetime(2015, 3, 16, 0, 0)), ('num_courses_visited', 0), ('total_minutes_visited', 0.0), ('lessons_completed', 0), ('projects_completed', 0), ('account_key', 108)])\n",
      "OrderedDict([('utc_date', datetime.datetime(2015, 3, 17, 0, 0)), ('num_courses_visited', 1), ('total_minutes_visited', 148.2304025), ('lessons_completed', 0), ('projects_completed', 0), ('account_key', 108)])\n",
      "OrderedDict([('utc_date', datetime.datetime(2015, 3, 18, 0, 0)), ('num_courses_visited', 1), ('total_minutes_visited', 27.5826056667), ('lessons_completed', 0), ('projects_completed', 0), ('account_key', 108)])\n",
      "OrderedDict([('utc_date', datetime.datetime(2015, 3, 19, 0, 0)), ('num_courses_visited', 0), ('total_minutes_visited', 0.0), ('lessons_completed', 0), ('projects_completed', 0), ('account_key', 108)])\n",
      "OrderedDict([('utc_date', datetime.datetime(2015, 3, 20, 0, 0)), ('num_courses_visited', 0), ('total_minutes_visited', 0.0), ('lessons_completed', 0), ('projects_completed', 0), ('account_key', 108)])\n",
      "OrderedDict([('utc_date', datetime.datetime(2015, 3, 21, 0, 0)), ('num_courses_visited', 1), ('total_minutes_visited', 14.4492643333), ('lessons_completed', 0), ('projects_completed', 0), ('account_key', 108)])\n",
      "OrderedDict([('utc_date', datetime.datetime(2015, 3, 22, 0, 0)), ('num_courses_visited', 1), ('total_minutes_visited', 159.175812667), ('lessons_completed', 1), ('projects_completed', 0), ('account_key', 108)])\n",
      "OrderedDict([('utc_date', datetime.datetime(2015, 3, 23, 0, 0)), ('num_courses_visited', 1), ('total_minutes_visited', 23.0641448333), ('lessons_completed', 0), ('projects_completed', 0), ('account_key', 108)])\n",
      "OrderedDict([('utc_date', datetime.datetime(2015, 3, 24, 0, 0)), ('num_courses_visited', 2), ('total_minutes_visited', 327.687187333), ('lessons_completed', 3), ('projects_completed', 1), ('account_key', 108)])\n",
      "OrderedDict([('utc_date', datetime.datetime(2015, 3, 25, 0, 0)), ('num_courses_visited', 1), ('total_minutes_visited', 210.324669), ('lessons_completed', 5), ('projects_completed', 0), ('account_key', 108)])\n",
      "OrderedDict([('utc_date', datetime.datetime(2015, 3, 26, 0, 0)), ('num_courses_visited', 2), ('total_minutes_visited', 114.421496), ('lessons_completed', 0), ('projects_completed', 0), ('account_key', 108)])\n",
      "OrderedDict([('utc_date', datetime.datetime(2015, 3, 27, 0, 0)), ('num_courses_visited', 1), ('total_minutes_visited', 85.2018686667), ('lessons_completed', 0), ('projects_completed', 0), ('account_key', 108)])\n",
      "OrderedDict([('utc_date', datetime.datetime(2015, 3, 28, 0, 0)), ('num_courses_visited', 1), ('total_minutes_visited', 9.53501516667), ('lessons_completed', 0), ('projects_completed', 0), ('account_key', 108)])\n",
      "OrderedDict([('utc_date', datetime.datetime(2015, 3, 29, 0, 0)), ('num_courses_visited', 0), ('total_minutes_visited', 0.0), ('lessons_completed', 0), ('projects_completed', 0), ('account_key', 108)])\n",
      "OrderedDict([('utc_date', datetime.datetime(2015, 3, 30, 0, 0)), ('num_courses_visited', 0), ('total_minutes_visited', 0.0), ('lessons_completed', 0), ('projects_completed', 0), ('account_key', 108)])\n",
      "OrderedDict([('utc_date', datetime.datetime(2015, 3, 31, 0, 0)), ('num_courses_visited', 0), ('total_minutes_visited', 0.0), ('lessons_completed', 0), ('projects_completed', 0), ('account_key', 108)])\n",
      "OrderedDict([('utc_date', datetime.datetime(2015, 4, 1, 0, 0)), ('num_courses_visited', 3), ('total_minutes_visited', 147.569145833), ('lessons_completed', 0), ('projects_completed', 0), ('account_key', 108)])\n",
      "OrderedDict([('utc_date', datetime.datetime(2015, 4, 2, 0, 0)), ('num_courses_visited', 3), ('total_minutes_visited', 77.2467501667), ('lessons_completed', 0), ('projects_completed', 0), ('account_key', 108)])\n",
      "OrderedDict([('utc_date', datetime.datetime(2015, 4, 3, 0, 0)), ('num_courses_visited', 3), ('total_minutes_visited', 84.8263243333), ('lessons_completed', 0), ('projects_completed', 0), ('account_key', 108)])\n",
      "OrderedDict([('utc_date', datetime.datetime(2015, 4, 4, 0, 0)), ('num_courses_visited', 0), ('total_minutes_visited', 0.0), ('lessons_completed', 0), ('projects_completed', 0), ('account_key', 108)])\n",
      "OrderedDict([('utc_date', datetime.datetime(2015, 4, 5, 0, 0)), ('num_courses_visited', 0), ('total_minutes_visited', 0.0), ('lessons_completed', 0), ('projects_completed', 0), ('account_key', 108)])\n",
      "OrderedDict([('utc_date', datetime.datetime(2015, 4, 6, 0, 0)), ('num_courses_visited', 2), ('total_minutes_visited', 32.9969003333), ('lessons_completed', 0), ('projects_completed', 0), ('account_key', 108)])\n",
      "OrderedDict([('utc_date', datetime.datetime(2015, 4, 7, 0, 0)), ('num_courses_visited', 1), ('total_minutes_visited', 173.764699333), ('lessons_completed', 0), ('projects_completed', 0), ('account_key', 108)])\n",
      "OrderedDict([('utc_date', datetime.datetime(2015, 4, 8, 0, 0)), ('num_courses_visited', 0), ('total_minutes_visited', 0.0), ('lessons_completed', 0), ('projects_completed', 0), ('account_key', 108)])\n",
      "OrderedDict([('utc_date', datetime.datetime(2015, 4, 9, 0, 0)), ('num_courses_visited', 1), ('total_minutes_visited', 85.6887951667), ('lessons_completed', 0), ('projects_completed', 0), ('account_key', 108)])\n",
      "OrderedDict([('utc_date', datetime.datetime(2015, 4, 10, 0, 0)), ('num_courses_visited', 2), ('total_minutes_visited', 72.4837255), ('lessons_completed', 0), ('projects_completed', 0), ('account_key', 108)])\n",
      "OrderedDict([('utc_date', datetime.datetime(2015, 4, 11, 0, 0)), ('num_courses_visited', 0), ('total_minutes_visited', 0.0), ('lessons_completed', 0), ('projects_completed', 0), ('account_key', 108)])\n",
      "OrderedDict([('utc_date', datetime.datetime(2015, 4, 12, 0, 0)), ('num_courses_visited', 0), ('total_minutes_visited', 0.0), ('lessons_completed', 0), ('projects_completed', 0), ('account_key', 108)])\n",
      "OrderedDict([('utc_date', datetime.datetime(2015, 4, 13, 0, 0)), ('num_courses_visited', 0), ('total_minutes_visited', 0.0), ('lessons_completed', 0), ('projects_completed', 0), ('account_key', 108)])\n",
      "OrderedDict([('utc_date', datetime.datetime(2015, 4, 14, 0, 0)), ('num_courses_visited', 1), ('total_minutes_visited', 36.9211676667), ('lessons_completed', 0), ('projects_completed', 0), ('account_key', 108)])\n",
      "OrderedDict([('utc_date', datetime.datetime(2015, 4, 15, 0, 0)), ('num_courses_visited', 2), ('total_minutes_visited', 179.353473333), ('lessons_completed', 1), ('projects_completed', 0), ('account_key', 108)])\n",
      "OrderedDict([('utc_date', datetime.datetime(2015, 4, 16, 0, 0)), ('num_courses_visited', 2), ('total_minutes_visited', 274.209734167), ('lessons_completed', 0), ('projects_completed', 0), ('account_key', 108)])\n",
      "OrderedDict([('utc_date', datetime.datetime(2015, 4, 17, 0, 0)), ('num_courses_visited', 1), ('total_minutes_visited', 40.340405), ('lessons_completed', 0), ('projects_completed', 0), ('account_key', 108)])\n",
      "OrderedDict([('utc_date', datetime.datetime(2015, 4, 18, 0, 0)), ('num_courses_visited', 0), ('total_minutes_visited', 0.0), ('lessons_completed', 0), ('projects_completed', 0), ('account_key', 108)])\n",
      "OrderedDict([('utc_date', datetime.datetime(2015, 4, 19, 0, 0)), ('num_courses_visited', 0), ('total_minutes_visited', 0.0), ('lessons_completed', 0), ('projects_completed', 0), ('account_key', 108)])\n",
      "OrderedDict([('utc_date', datetime.datetime(2015, 4, 20, 0, 0)), ('num_courses_visited', 2), ('total_minutes_visited', 25.9137858334), ('lessons_completed', 0), ('projects_completed', 0), ('account_key', 108)])\n",
      "OrderedDict([('utc_date', datetime.datetime(2015, 4, 21, 0, 0)), ('num_courses_visited', 1), ('total_minutes_visited', 3.40682316667), ('lessons_completed', 0), ('projects_completed', 0), ('account_key', 108)])\n",
      "OrderedDict([('utc_date', datetime.datetime(2015, 4, 22, 0, 0)), ('num_courses_visited', 2), ('total_minutes_visited', 99.1186611667), ('lessons_completed', 0), ('projects_completed', 0), ('account_key', 108)])\n",
      "OrderedDict([('utc_date', datetime.datetime(2015, 4, 23, 0, 0)), ('num_courses_visited', 1), ('total_minutes_visited', 35.8316206667), ('lessons_completed', 0), ('projects_completed', 2), ('account_key', 108)])\n",
      "OrderedDict([('utc_date', datetime.datetime(2015, 4, 24, 0, 0)), ('num_courses_visited', 0), ('total_minutes_visited', 0.0), ('lessons_completed', 0), ('projects_completed', 0), ('account_key', 108)])\n",
      "OrderedDict([('utc_date', datetime.datetime(2015, 4, 25, 0, 0)), ('num_courses_visited', 0), ('total_minutes_visited', 0.0), ('lessons_completed', 0), ('projects_completed', 0), ('account_key', 108)])\n",
      "OrderedDict([('utc_date', datetime.datetime(2015, 4, 26, 0, 0)), ('num_courses_visited', 0), ('total_minutes_visited', 0.0), ('lessons_completed', 0), ('projects_completed', 0), ('account_key', 108)])\n"
     ]
    }
   ],
   "source": [
    "for engagement in paid_engagement_in_first_week:\n",
    "    if engagement['account_key'] == student_key_with_max_minutes:\n",
    "        print(engagement)"
   ]
  },
  {
   "cell_type": "markdown",
   "metadata": {},
   "source": [
    "너무 많은 engagement data가 출력이 되었다. 우리가 일주일치의 유료사용자 데이터만을 필터링했기 때문에 데이터는 7개가 있어야 한다. 심지어 날짜를 보면 1월부터 4월까지의 데이터가 수집되었다. 아마도 within_one_week() 함수에 문제가 있는 것 같다."
   ]
  },
  {
   "cell_type": "code",
   "execution_count": 55,
   "metadata": {},
   "outputs": [
    {
     "name": "stdout",
     "output_type": "stream",
     "text": [
      "OrderedDict([('account_key', 108), ('status', 'canceled'), ('join_date', datetime.datetime(2015, 1, 7, 0, 0)), ('cancel_date', datetime.datetime(2015, 4, 20, 0, 0)), ('days_to_cancel', 103), ('is_udacity', False), ('is_canceled', True)])\n",
      "OrderedDict([('account_key', 108), ('status', 'canceled'), ('join_date', datetime.datetime(2015, 4, 20, 0, 0)), ('cancel_date', datetime.datetime(2015, 5, 14, 0, 0)), ('days_to_cancel', 24), ('is_udacity', False), ('is_canceled', True)])\n"
     ]
    }
   ],
   "source": [
    "for enrollment in paid_enrollments:\n",
    "    if enrollment['account_key'] == student_key_with_max_minutes:\n",
    "        print(enrollment)"
   ]
  },
  {
   "cell_type": "code",
   "execution_count": 56,
   "metadata": {},
   "outputs": [],
   "source": [
    "def within_one_week(join_date, engagement_date):\n",
    "    time_delta = engagement_date - join_date\n",
    "    return time_delta.days < 7"
   ]
  },
  {
   "cell_type": "markdown",
   "metadata": {},
   "source": [
    "위의 코드에서는 time_delta.days가 7 이하인 모든 것을 수집한다. 하지만 가입을 했다 탈퇴하고 다시 가입하는 경우 join_date 이전의 기록이 있을 수 있다. 따라서 engagement 데이터는 join date와 같은 날이거나 7일 이내이어야 한다. 따라서 time_delta 는 다음과 같이 수정해야 한다.\n",
    "\n",
    "0 <= time_delta.days < 7"
   ]
  },
  {
   "cell_type": "code",
   "execution_count": 57,
   "metadata": {},
   "outputs": [],
   "source": [
    "def within_one_week(join_date, engagement_date):\n",
    "    time_delta = engagement_date - join_date\n",
    "    return 0 <= time_delta.days < 7"
   ]
  },
  {
   "cell_type": "code",
   "execution_count": 60,
   "metadata": {},
   "outputs": [
    {
     "name": "stdout",
     "output_type": "stream",
     "text": [
      "6919\n"
     ]
    }
   ],
   "source": [
    "# 추가\n",
    "paid_engagement_in_first_week = []\n",
    "\n",
    "for engagement in paid_engagement:\n",
    "    account_key = engagement['account_key']\n",
    "    join_date = paid_students[account_key]\n",
    "    engagement_date = engagement['utc_date']\n",
    "    \n",
    "    if within_one_week(join_date, engagement_date):\n",
    "        paid_engagement_in_first_week.append(engagement)\n",
    "\n",
    "print(len(paid_engagement_in_first_week))"
   ]
  },
  {
   "cell_type": "markdown",
   "metadata": {},
   "source": [
    "## Lesson completed in first week"
   ]
  },
  {
   "cell_type": "markdown",
   "metadata": {},
   "source": [
    "### 실습 8: 다음의 코드를 수정하여 lessons completed in first week 를 계산해보자."
   ]
  },
  {
   "cell_type": "code",
   "execution_count": null,
   "metadata": {
    "collapsed": true
   },
   "outputs": [],
   "source": [
    "#================================#\n",
    "# 실습 8-code1                    #\n",
    "#================================#\n",
    "\n",
    "from collections import defaultdict\n",
    "\n",
    "engagement_by_account = defaultdict(list)\n",
    "for engagement in paid_engagement_in_first_week:\n",
    "    account_key = engagement['account_key']\n",
    "    engagement_by_account[account_key].append(engagement)"
   ]
  },
  {
   "cell_type": "code",
   "execution_count": null,
   "metadata": {},
   "outputs": [],
   "source": [
    "#================================#\n",
    "# 실습 8-code2                    #\n",
    "#================================#\n",
    "\n",
    "total_minutes_by_account = {}\n",
    "\n",
    "for account_key, engagement_for_students in engagement_by_account.items():\n",
    "    total_minutes = 0\n",
    "    for engagement in engagement_for_students:\n",
    "        total_minutes += engagement['total_minutes_visited']\n",
    "    total_minutes_by_account[account_key] = total_minutes\n",
    "    \n",
    "total_lessons_by_account = {}\n",
    "\n",
    "for account_key, engagement_for_students in engagement_by_account.items():\n",
    "    total_lessons = 0\n",
    "    for engagement in engagement_for_students:\n",
    "        total_lessons += engagement['lessons_visited']\n",
    "    total_lessons_by_account[account_key] = total_lessons\n"
   ]
  },
  {
   "cell_type": "code",
   "execution_count": null,
   "metadata": {},
   "outputs": [],
   "source": [
    "#================================#\n",
    "# 실습 8-code3                    #\n",
    "#================================#\n",
    "\n",
    "import numpy as np\n",
    "\n",
    "total_minutes = total_minutes_by_account.values()\n",
    "print('Mean:', np.mean(list(total_minutes)))\n",
    "print('Standard deviation:', np.std(list(total_minutes)))\n",
    "print('Minimum:', np.min(list(total_minutes)))\n",
    "print('Maximum:', np.max(list(total_minutes)))\n",
    "\n",
    "print(\"=====\\n\")\n",
    "total_lessons = total_lessons_by_account.values()\n",
    "print('Mean:', np.mean(list(total_lessons)))\n",
    "print('Standard deviation:', np.std(list(total_lessons)))\n",
    "print('Minimum:', np.min(list(total_lessons)))\n",
    "print('Maximum:', np.max(list(total_lessons)))"
   ]
  },
  {
   "cell_type": "markdown",
   "metadata": {},
   "source": [
    "### 실습 9: 위의 코드들은 이미 두번이나 비슷하게 사용했다. 아마도 계속 사용하게 된다면 함수를 만들어 두는 것이 편리할 것이다. 위의 과정을 수행하는 함수를 작성해 보자."
   ]
  },
  {
   "cell_type": "code",
   "execution_count": 47,
   "metadata": {},
   "outputs": [],
   "source": [
    "#================================#\n",
    "# 실습 9                          #\n",
    "#================================#\n",
    "\n",
    "# lab code 제공\n",
    "\n",
    "from collections import defaultdict\n",
    "import numpy as np\n",
    "\n",
    "def group_data(data, key_name):\n",
    "    grouped_data = defaultdict(list)\n",
    "    for data_point in data:\n",
    "        key = data_point[key_name]\n",
    "        grouped_data[key].append(data_point)\n",
    "        # Q. list에 [key]값으로 접근?\n",
    "        # A. list가 아니라, dict의 element들을 list 형식으로 보여주겠다는 뜻\n",
    "    return grouped_data\n",
    "\n",
    "def sum_grouped_items(data, key_name):\n",
    "    summed_data = {}\n",
    "    \n",
    "    for key, data_points in data.items(): # 딕셔너리를 돌면서\n",
    "        total = 0\n",
    "        for data in data_points:\n",
    "            total += data[key_name]\n",
    "        summed_data[key] = total\n",
    "    return summed_data\n",
    "\n",
    "def describe_data(data):\n",
    "    print('Mean:', np.mean(list(data)))\n",
    "    print('Standard deviation:', np.std(list(data)))\n",
    "    print('Minimum:', np.min(list(data)))\n",
    "    print('Maximum:', np.max(list(data)))"
   ]
  },
  {
   "cell_type": "code",
   "execution_count": 48,
   "metadata": {},
   "outputs": [
    {
     "name": "stdout",
     "output_type": "stream",
     "text": [
      "Mean: 647.5901738262695\n",
      "Standard deviation: 1129.2712104188108\n",
      "Minimum: 0.0\n",
      "Maximum: 10568.100867332541\n",
      "Mean: 3.0924623115577887\n",
      "Standard deviation: 5.362768866632357\n",
      "Minimum: 0\n",
      "Maximum: 43\n"
     ]
    }
   ],
   "source": [
    "engagement_by_account = group_data(paid_engagement_in_first_week, 'account_key')\n",
    "total_minutes_by_account = sum_grouped_items(engagement_by_account, 'total_minutes_visited')\n",
    "total_minutes = total_minutes_by_account.values()\n",
    "describe_data(total_minutes)\n",
    "\n",
    "total_lessons_by_account = sum_grouped_items(engagement_by_account, 'lessons_completed')\n",
    "total_lessons = total_lessons_by_account.values()\n",
    "describe_data(total_lessons)"
   ]
  },
  {
   "cell_type": "code",
   "execution_count": null,
   "metadata": {},
   "outputs": [],
   "source": []
  }
 ],
 "metadata": {
  "kernelspec": {
   "display_name": "Python 3",
   "language": "python",
   "name": "python3"
  },
  "language_info": {
   "codemirror_mode": {
    "name": "ipython",
    "version": 3
   },
   "file_extension": ".py",
   "mimetype": "text/x-python",
   "name": "python",
   "nbconvert_exporter": "python",
   "pygments_lexer": "ipython3",
   "version": "3.7.3"
  }
 },
 "nbformat": 4,
 "nbformat_minor": 1
}
