{
 "cells": [
  {
   "cell_type": "markdown",
   "metadata": {},
   "source": [
    "# Week 4 - Data Processing\n",
    "\n",
    "이번 시간에는 python의 기본 명령어들을 이용하여 데이터 프로세싱을 하기 위한 기초를 다룬다. 이 과정에서 데이터 파일의 import, 데이터 타입 수정, 분석을 위한 함수 생성, 새로운 컬럼의 생성 등을 다룬다.\n",
    "\n",
    "먼저 **`table_descriptions.txt`**을 읽어보자."
   ]
  },
  {
   "cell_type": "markdown",
   "metadata": {},
   "source": [
    "## Import CSV"
   ]
  },
  {
   "cell_type": "markdown",
   "metadata": {},
   "source": [
    "unicodecsv라는 모듈은 csv 파일을 unicode로 불러올 수 있게 한다. ```pip install unicodecsv```를 실행하여 해당 모듈을 설치하도록 하자. https://github.com/jdunck/python-unicodecsv"
   ]
  },
  {
   "cell_type": "code",
   "execution_count": 3,
   "metadata": {},
   "outputs": [
    {
     "name": "stdout",
     "output_type": "stream",
     "text": [
      "OrderedDict([('account_key', '186'), ('status', 'current'), ('join_date', '2014-11-14'), ('cancel_date', ''), ('days_to_cancel', ''), ('is_udacity', 'False'), ('is_canceled', 'False')])\n"
     ]
    }
   ],
   "source": [
    "import unicodecsv as csv\n",
    "\n",
    "enrollments = []  # dictionary를 담을 list\n",
    "f = open('enrollments.csv', 'rb')\n",
    "reader = csv.DictReader(f)  # csv를 읽어서 dictionary 형태로 저장한다\n",
    "for row in reader:\n",
    "#     print(row)\n",
    "    enrollments.append(row)\n",
    "f.close()\n",
    "\n",
    "print(enrollments[190])"
   ]
  },
  {
   "cell_type": "code",
   "execution_count": 4,
   "metadata": {},
   "outputs": [
    {
     "name": "stdout",
     "output_type": "stream",
     "text": [
      "OrderedDict([('account_key', '448'), ('status', 'canceled'), ('join_date', '2014-11-10'), ('cancel_date', '2015-01-14'), ('days_to_cancel', '65'), ('is_udacity', 'True'), ('is_canceled', 'True')])\n"
     ]
    }
   ],
   "source": [
    "with open('enrollments.csv', 'rb') as f:\n",
    "    reader = csv.DictReader(f)\n",
    "    enrollments = list(reader)\n",
    "    \n",
    "print(enrollments[0])"
   ]
  },
  {
   "cell_type": "markdown",
   "metadata": {},
   "source": [
    "### 실습 1-1: 다음의 csv 데이터를 불러오자.\n",
    "\n",
    "daily_engagement.csv 데이터와 project_submissions.csv 데이터를 불러오자."
   ]
  },
  {
   "cell_type": "code",
   "execution_count": 5,
   "metadata": {},
   "outputs": [
    {
     "name": "stdout",
     "output_type": "stream",
     "text": [
      "OrderedDict([('acct', '0'), ('utc_date', '2015-01-09'), ('num_courses_visited', '1.0'), ('total_minutes_visited', '11.6793745'), ('lessons_completed', '0.0'), ('projects_completed', '0.0')])\n",
      "OrderedDict([('creation_date', '2015-01-14'), ('completion_date', '2015-01-16'), ('assigned_rating', 'UNGRADED'), ('account_key', '256'), ('lesson_key', '3176718735'), ('processing_state', 'EVALUATED')])\n"
     ]
    }
   ],
   "source": [
    "#================================#\n",
    "# 실습 1-1                        #\n",
    "#================================#\n",
    "\n",
    "with open('daily_engagement.csv', 'rb') as f:\n",
    "    daily_engagement = list(csv.DictReader(f))\n",
    "    \n",
    "with open('project_submissions.csv', 'rb') as f:\n",
    "    project_submissions = list(csv.DictReader(f))\n",
    "\n",
    "print(daily_engagement[0])\n",
    "print(project_submissions[0])"
   ]
  },
  {
   "cell_type": "markdown",
   "metadata": {},
   "source": [
    "### 실습 1-2: 위의 코드를 read_csv()라는 함수로 만들어 보자."
   ]
  },
  {
   "cell_type": "code",
   "execution_count": 6,
   "metadata": {},
   "outputs": [
    {
     "name": "stdout",
     "output_type": "stream",
     "text": [
      "OrderedDict([('account_key', '448'), ('status', 'canceled'), ('join_date', '2014-11-10'), ('cancel_date', '2015-01-14'), ('days_to_cancel', '65'), ('is_udacity', 'True'), ('is_canceled', 'True')])\n",
      "OrderedDict([('acct', '0'), ('utc_date', '2015-01-09'), ('num_courses_visited', '1.0'), ('total_minutes_visited', '11.6793745'), ('lessons_completed', '0.0'), ('projects_completed', '0.0')])\n",
      "OrderedDict([('creation_date', '2015-01-14'), ('completion_date', '2015-01-16'), ('assigned_rating', 'UNGRADED'), ('account_key', '256'), ('lesson_key', '3176718735'), ('processing_state', 'EVALUATED')])\n"
     ]
    }
   ],
   "source": [
    "#================================#\n",
    "# 실습 1-2                        #\n",
    "#================================#\n",
    "\n",
    "def read_csv(filename):\n",
    "    with open(filename, 'rb') as f:\n",
    "        return list(csv.DictReader(f))\n",
    "\n",
    "enrollments = read_csv('enrollments.csv')\n",
    "daily_engagement = read_csv('daily_engagement.csv')\n",
    "project_submissions = read_csv('project_submissions.csv')\n",
    "\n",
    "print(enrollments[0])\n",
    "print(daily_engagement[0])\n",
    "print(project_submissions[0])"
   ]
  },
  {
   "cell_type": "markdown",
   "metadata": {},
   "source": [
    "## Fixing Data Types\n",
    "\n",
    "CSV로 불러온 데이터의 value는 모두 string 타입이다. 우리가 데이터를 이용해 뭔가를 계산을 하기 위해서는 데이터의 value를 수정할 필요가 있다. \n",
    "\n",
    "예를 들어 enrollment의 데이터 row를 출력하면 다음과 같다.\n",
    "\n",
    "```\n",
    "{ \n",
    "  'is_udacity': 'True', \n",
    "  'cancel_date': '2015-01-14', \n",
    "  'days_to_cancel': '65', \n",
    "  'account_key': '448', \n",
    "  'join_date': '2014-11-10', \n",
    "  'is_canceled': 'True', \n",
    "  'status': 'canceled'\n",
    "}\n",
    "```\n",
    "\n",
    "이들 데이터 중, cancel_date, join_date은 datetime 데이터 타입으로 저장되어야 날짜와 관련한 연산을 할 수 있다. 또한 days_to_cancel, account_key는 int 타입일 가능성이 높다. is_udacity, is_canceled은 boolean 타입일 것이다. 따라서 이들 데이터를 적절한 데이터 타입으로 바꾸어주어야 한다."
   ]
  },
  {
   "cell_type": "code",
   "execution_count": 7,
   "metadata": {},
   "outputs": [],
   "source": [
    "# ====================== #\n",
    "# 변환을 위한 기본 함수를 작성  #\n",
    "# ====================== #\n",
    "\n",
    "from datetime import datetime as dt\n",
    "\n",
    "# 문자열로 된 날짜를 datetime 형태로 변환한다.\n",
    "# 변환에 사용된 함수는 strptime()으로 데이터에 있는 날짜 타입에 맞춰 datetime으로 변환한다. \n",
    "# (strftime()과 반대의 역할을 하는 함수)\n",
    "def parse_date(date):\n",
    "    if date == '':  # data가 없는 경우 None을 저장한다.\n",
    "        return None\n",
    "    else:\n",
    "        return dt.strptime(date, '%Y-%m-%d')\n",
    "\n",
    "# 문자열로 된 정수를 int 타입으로 변환한다.\n",
    "def parse_int(i):\n",
    "    if i == '':\n",
    "        return None\n",
    "    else:\n",
    "        return int(i)\n",
    "\n",
    "# 문자열로 된 실수를 float 타입으로 변환한다.\n",
    "def parse_float(i):\n",
    "    if i == '':\n",
    "        return None\n",
    "    else:\n",
    "        return float(i)\n",
    "\n",
    "# 문자열로 된 bool 값을 bool 타입으로 반환한다.\n",
    "# \"True\" -> True, \"False\" -> False\n",
    "def parse_bool(b):\n",
    "    if b == 'True':\n",
    "        return True\n",
    "    else:\n",
    "        return False"
   ]
  },
  {
   "cell_type": "code",
   "execution_count": 8,
   "metadata": {},
   "outputs": [
    {
     "data": {
      "text/plain": [
       "1"
      ]
     },
     "execution_count": 8,
     "metadata": {},
     "output_type": "execute_result"
    }
   ],
   "source": [
    "int(float('1.2'))"
   ]
  },
  {
   "cell_type": "code",
   "execution_count": 9,
   "metadata": {},
   "outputs": [
    {
     "name": "stdout",
     "output_type": "stream",
     "text": [
      "OrderedDict([('account_key', 448), ('status', 'canceled'), ('join_date', datetime.datetime(2014, 11, 10, 0, 0)), ('cancel_date', datetime.datetime(2015, 1, 14, 0, 0)), ('days_to_cancel', 65), ('is_udacity', True), ('is_canceled', True)])\n"
     ]
    }
   ],
   "source": [
    "# enrollments 데이터 테이블 내의 데이터 타입을 변환\n",
    "for enrollment in enrollments:\n",
    "    enrollment['cancel_date'] = parse_date(enrollment['cancel_date'])\n",
    "    enrollment['join_date'] = parse_date(enrollment['join_date'])\n",
    "    enrollment['days_to_cancel'] = parse_int(enrollment['days_to_cancel'])\n",
    "    enrollment['account_key'] = parse_int(enrollment['account_key'])\n",
    "    enrollment['is_udacity'] = parse_bool(enrollment['is_udacity'])\n",
    "    enrollment['is_canceled'] = parse_bool(enrollment['is_canceled'])\n",
    "\n",
    "print(enrollments[0])"
   ]
  },
  {
   "cell_type": "markdown",
   "metadata": {},
   "source": [
    "### 실습 2-1: daily_engagement 데이터의 타입을 고쳐보자.\n",
    "\n",
    "```\n",
    "{\n",
    "  'total_minutes_visited': '11.6793745', \n",
    "  'acct': '0', \n",
    "  'lessons_completed': '0.0', \n",
    "  'projects_completed': '0.0', \n",
    "  'num_courses_visited': '1.0', \n",
    "  'utc_date': '2015-01-09'\n",
    "}\n",
    "```"
   ]
  },
  {
   "cell_type": "code",
   "execution_count": 10,
   "metadata": {},
   "outputs": [
    {
     "name": "stdout",
     "output_type": "stream",
     "text": [
      "OrderedDict([('acct', 0), ('utc_date', datetime.datetime(2015, 1, 9, 0, 0)), ('num_courses_visited', 1), ('total_minutes_visited', 11.6793745), ('lessons_completed', 0), ('projects_completed', 0)])\n"
     ]
    }
   ],
   "source": [
    "#================================#\n",
    "# 실습 2-1                        #\n",
    "#================================#\n",
    "\n",
    "for engagement in daily_engagement:\n",
    "    engagement['total_minutes_visited'] = parse_float(engagement['total_minutes_visited'])\n",
    "    engagement['acct'] = parse_int(engagement['acct'])\n",
    "    engagement['lessons_completed'] = parse_int(float(engagement['lessons_completed']))\n",
    "    engagement['projects_completed'] = parse_int(float(engagement['projects_completed']))\n",
    "    engagement['num_courses_visited'] = parse_int(float(engagement['num_courses_visited']))\n",
    "    engagement['utc_date'] = parse_date(engagement['utc_date'])\n",
    "\n",
    "\n",
    "print(daily_engagement[0])"
   ]
  },
  {
   "cell_type": "markdown",
   "metadata": {},
   "source": [
    "### 실습 2-2: project_submissions 데이터의 타입을 고쳐보자.\n",
    "\n",
    "```\n",
    "{\n",
    "  'lesson_key': '3176718735', \n",
    "  'creation_date': '2015-01-14', \n",
    "  'account_key': '256', \n",
    "  'completion_date': '2015-01-16', \n",
    "  'processing_state': 'EVALUATED', \n",
    "  'assigned_rating': 'UNGRADED'\n",
    "}\n",
    "```"
   ]
  },
  {
   "cell_type": "code",
   "execution_count": 11,
   "metadata": {},
   "outputs": [
    {
     "name": "stdout",
     "output_type": "stream",
     "text": [
      "OrderedDict([('creation_date', datetime.datetime(2015, 8, 22, 0, 0)), ('completion_date', datetime.datetime(2015, 8, 22, 0, 0)), ('assigned_rating', 'INCOMPLETE'), ('account_key', 61), ('lesson_key', 3168208620), ('processing_state', 'EVALUATED')])\n"
     ]
    }
   ],
   "source": [
    "#================================#\n",
    "# 실습 2-2                        #\n",
    "#================================#\n",
    "\n",
    "for submission in project_submissions:\n",
    "    submission['lesson_key'] = parse_int(submission['lesson_key'])\n",
    "    submission['creation_date'] = parse_date(submission['creation_date'])\n",
    "    submission['account_key'] = parse_int(submission['account_key'])\n",
    "    submission['completion_date'] = parse_date(submission['completion_date'])\n",
    "    \n",
    "print(project_submissions[169])"
   ]
  },
  {
   "cell_type": "markdown",
   "metadata": {},
   "source": [
    "* How long to submit projects\n",
    "* How do students who pass their projects differ from who don't\n",
    "\n",
    "* How much time students spend taking classes\n",
    "* How time spent relates to lessons/projects completed\n",
    "* How engagement changes over time\n",
    "* How many times students submit projects"
   ]
  },
  {
   "cell_type": "markdown",
   "metadata": {},
   "source": [
    "## Investigating Data\n",
    "\n",
    "먼저 enrollments, daily_engagement, project_submissions 세개의 데이터에서 unique student number를 찾아보자. (account_key와 set()을 이용)"
   ]
  },
  {
   "cell_type": "code",
   "execution_count": 12,
   "metadata": {},
   "outputs": [
    {
     "name": "stdout",
     "output_type": "stream",
     "text": [
      "1640\n",
      "136240\n",
      "3642\n"
     ]
    }
   ],
   "source": [
    "print(len(enrollments))\n",
    "print(len(daily_engagement))\n",
    "print(len(project_submissions))"
   ]
  },
  {
   "cell_type": "markdown",
   "metadata": {},
   "source": [
    "### 실습 3-1: unique_enrolled_students, unique_engagement_students, unique_project_submitters 의 크기를 구해보자."
   ]
  },
  {
   "cell_type": "code",
   "execution_count": 13,
   "metadata": {},
   "outputs": [
    {
     "name": "stdout",
     "output_type": "stream",
     "text": [
      "1640 1302\n",
      "136240 1237\n",
      "3642 743\n"
     ]
    }
   ],
   "source": [
    "#================================#\n",
    "# 실습 3-1                        #\n",
    "#================================#\n",
    "\n",
    "unique_enrolled_students = set()\n",
    "for enrollment in enrollments:\n",
    "    unique_enrolled_students.add(enrollment['account_key'])\n",
    "\n",
    "unique_engagement_students = set()\n",
    "for engagement in daily_engagement:\n",
    "    unique_engagement_students.add(engagement['acct'])\n",
    "    \n",
    "unique_project_submitters = set()\n",
    "for submission in project_submissions:\n",
    "    unique_project_submitters.add(submission['account_key'])\n",
    "\n",
    "print(len(enrollments), len(unique_enrolled_students))\n",
    "print(len(daily_engagement), len(unique_engagement_students))\n",
    "print(len(project_submissions), len(unique_project_submitters))"
   ]
  },
  {
   "cell_type": "markdown",
   "metadata": {},
   "source": [
    "### 실습 3-2: 똑같은 일을 반복한다면 함수를 만드는 것이 현명하다. unique_students() 함수를 만들어 보자."
   ]
  },
  {
   "cell_type": "code",
   "execution_count": 14,
   "metadata": {},
   "outputs": [
    {
     "name": "stdout",
     "output_type": "stream",
     "text": [
      "1302\n",
      "1237\n",
      "743\n"
     ]
    }
   ],
   "source": [
    "#================================#\n",
    "# 실습 3-2                        #\n",
    "#================================#\n",
    "\n",
    "def unique_students(data, key):\n",
    "    unique_set = set()\n",
    "    for row in data:\n",
    "        unique_set.add(row[key])\n",
    "    return len(unique_set)\n",
    "\n",
    "print(unique_students(enrollments, 'account_key'))\n",
    "print(unique_students(daily_engagement, 'acct'))\n",
    "print(unique_students(project_submissions, 'account_key'))"
   ]
  },
  {
   "cell_type": "markdown",
   "metadata": {},
   "source": [
    "## Problems in the Data\n",
    "\n",
    "데이터의 unique number를 살펴보니 몇가지 문제점이 보인다.\n",
    "1. daily_engagement의 account key가 다른 두개의 테이블과 다르다. -> acct를 account_key로 바꾸자.\n",
    "2. 학생들의 유니크한 숫자가 engagement보다 enrollment에 더 많다. -> engagement는 방문하지 않은 날에도 데이터가 쌓여야 한다. 따라서 erollment와 engagement는 숫자가 같아야 한다. 문제를 찾아보자."
   ]
  },
  {
   "cell_type": "markdown",
   "metadata": {},
   "source": [
    "**잘못된 키 수정**"
   ]
  },
  {
   "cell_type": "code",
   "execution_count": 15,
   "metadata": {},
   "outputs": [
    {
     "name": "stdout",
     "output_type": "stream",
     "text": [
      "OrderedDict([('utc_date', datetime.datetime(2015, 1, 9, 0, 0)), ('num_courses_visited', 1), ('total_minutes_visited', 11.6793745), ('lessons_completed', 0), ('projects_completed', 0), ('account_key', 0)])\n"
     ]
    }
   ],
   "source": [
    "for engagement in daily_engagement:\n",
    "    engagement['account_key'] = engagement['acct'] # 키를 하나 더 많들고 acct값을 account_key에 assign\n",
    "    del[engagement['acct']] # acct 키를 삭제\n",
    "\n",
    "print(daily_engagement[0])"
   ]
  },
  {
   "cell_type": "markdown",
   "metadata": {},
   "source": [
    "### 실습 4: unique_students() 함수를 수정한 unique_students_list() 함수를 만들어 보자."
   ]
  },
  {
   "cell_type": "markdown",
   "metadata": {},
   "source": [
    "키를 수정하고 나서는 위에서 정의한 unique_students()함수를 수정해보자. 이 함수는 위의 함수와 같이 길이를 반환하지 않고 set() 데이터를 반환한다."
   ]
  },
  {
   "cell_type": "code",
   "execution_count": null,
   "metadata": {
    "collapsed": true
   },
   "outputs": [],
   "source": [
    "#================================#\n",
    "# 실습 4                          #\n",
    "#================================#\n",
    "\n"
   ]
  },
  {
   "cell_type": "markdown",
   "metadata": {},
   "source": [
    "**Missing Engagement Data**\n",
    "\n",
    "* 이상한 데이터가 있다.\n",
    "    * enrollment 레코드 중 engagement에 관련 데이터가 없는 것들이 있다.\n",
    "    * unique account key 를 비교하여 enrollment 에만 있는 key가 있는지 확인하고 데이터를 뽑아보자."
   ]
  },
  {
   "cell_type": "code",
   "execution_count": null,
   "metadata": {},
   "outputs": [],
   "source": [
    "unique_engagement_keys = unique_students_list(daily_engagement)\n",
    "\n",
    "for enrollment in enrollments:  # enrollment에 있는 요소를 하나씩 꺼낸후\n",
    "    student = enrollment['account_key']   # account_key의 value를 student 변수에 저장\n",
    "    if student not in unique_engagement_keys:  # unique_engagement_keys 에 account_key가 없으면\n",
    "        print(enrollment)  # 해당 요소를 출력한 후 프로그램 종료\n",
    "        break"
   ]
  },
  {
   "cell_type": "markdown",
   "metadata": {},
   "source": [
    "**Findings**\n",
    "* join_date과 cancel_date이 같은 날이다.\n",
    "* days_to_cancel이 0이다.\n",
    "* (참고) days_to_cancel: The number of days between join_date and cancel_date, or blank if the student has not yet canceled.\n",
    "\n",
    "**해석**\n",
    "* 일부의 학생은 가입하자마자 cancel을 해서 engagement 테이블에 데이터가 쌓이지 않았다."
   ]
  },
  {
   "cell_type": "markdown",
   "metadata": {},
   "source": [
    "**이상한 데이터를 더 찾아보자.**\n",
    "  * engagement에 없는 enrollment 레코드 중, join_date와 cancel_date가 서로 다른 것들이 있을까?\n",
    "  * 이 얘기는, 가입하자마자 cancel해서 engagement 테이블에 데이터가 쌓이지 않은 경우가 아닌데도 데이터가 없는 경우이다."
   ]
  },
  {
   "cell_type": "code",
   "execution_count": null,
   "metadata": {},
   "outputs": [],
   "source": [
    "num_of_problem_students = 0\n",
    "\n",
    "for enrollment in enrollments:\n",
    "    student = enrollment['account_key']\n",
    "    if student not in unique_engagement_keys and enrollment['join_date'] != enrollment['cancel_date']:\n",
    "        print(enrollment)\n",
    "        num_of_problem_students += 1\n",
    "\n",
    "print(\"\\nNumber of problem students: \", num_of_problem_students)"
   ]
  },
  {
   "cell_type": "markdown",
   "metadata": {},
   "source": [
    "뭐가 문제일까? 데이터 자체를 봐서는 아무런 문제도 발견되지 않는다.\n",
    "\n",
    "문제는 is_udacity에 있었다. is_udacity가 True인 경우는 udacity의 테스트 어카운트였다. 따라서 분석을 할 때 is_udacity가 True인 경우 제외하여야 한다.\n",
    "* (참고) is_udacity: True if the account is a Udacity test account, False otherwise."
   ]
  },
  {
   "cell_type": "markdown",
   "metadata": {},
   "source": [
    "**udacity 테스트 어카운트를 제외하자**\n",
    "\n",
    "먼저 udacity 테스트 어카운트 리스트를 만들자."
   ]
  },
  {
   "cell_type": "code",
   "execution_count": null,
   "metadata": {},
   "outputs": [],
   "source": [
    "udacity_test_accounts = set()\n",
    "for enrollment in enrollments:\n",
    "    if enrollment['is_udacity']:\n",
    "        udacity_test_accounts.add(enrollment['account_key'])\n",
    "len(udacity_test_accounts)"
   ]
  },
  {
   "cell_type": "markdown",
   "metadata": {},
   "source": [
    "### 실습 5: udacity test account를 제외하기 위한 함수 remove_udacity_accounts() 를 작성해 보자."
   ]
  },
  {
   "cell_type": "markdown",
   "metadata": {},
   "source": [
    "is_udacity가 True인 키를 udacity_test_account에 추가하였다. 모두 6개가 발견되었다. 이들을 제외하기 위한 함수를 작성해보자."
   ]
  },
  {
   "cell_type": "code",
   "execution_count": null,
   "metadata": {},
   "outputs": [],
   "source": [
    "#================================#\n",
    "# 실습 5                          #\n",
    "#================================#\n",
    "\n"
   ]
  },
  {
   "cell_type": "code",
   "execution_count": null,
   "metadata": {},
   "outputs": [],
   "source": [
    "non_udacity_enrollments = remove_udacity_accounts(enrollments)\n",
    "non_udacity_engagement = remove_udacity_accounts(daily_engagement)\n",
    "non_udacity_submissions = remove_udacity_accounts(project_submissions)\n",
    "\n",
    "print(len(non_udacity_enrollments))\n",
    "print(len(non_udacity_engagement))\n",
    "print(len(non_udacity_submissions))"
   ]
  },
  {
   "cell_type": "markdown",
   "metadata": {},
   "source": [
    "## Data Filtering\n",
    "\n",
    "**1. 유료사용자 리스트**\n",
    "\n",
    "udacity에서는 일주일 간의 free trial을 제공하기 때문에 실제로 프로젝트에 참여하고 과정을 마치는 학생들은 유료인 사용자들이다. 맛보기로 과정을 경험해보고자 하는 학생들은 모두 1주일 이내에 과정을 cancel 한다. 그렇다면 유료 사용자의 리스트를 추출해 보자. 유료 사용자의 조건은 다음과 같은 경우일 것이다.\n",
    "\n",
    "* haven't canceld yet (is_canceled -> False)\n",
    "* stayed enrolled more than 7 days (days_to_cancel > 7)\n",
    "\n",
    "데이터를 추출한 후 paid_students라는 딕셔너리를 만들고 다음과 같이 저장하자.\n",
    "* Keys: account keys \n",
    "* Value: enrollment date"
   ]
  },
  {
   "cell_type": "markdown",
   "metadata": {},
   "source": [
    "### 실습 6: 유료 사용자 paid_students 를 만들고 전체 숫자를 출력해보자."
   ]
  },
  {
   "cell_type": "code",
   "execution_count": null,
   "metadata": {},
   "outputs": [],
   "source": [
    "#================================#\n",
    "# 실습 6                          #\n",
    "#================================#\n",
    "\n",
    "paid_students = {}\n",
    "\n",
    "\n",
    "\n",
    "print(len(paid_students))"
   ]
  },
  {
   "cell_type": "markdown",
   "metadata": {},
   "source": [
    "**2. 첫주 동안 유료 사용자의 engagement데이터 리스트**\n",
    "\n",
    "다음의 함수는 학생들의 enrollment join date와 특정한 engagement 레코드의 날짜를 이용해서 join 후 일주일 이내의 것인지를 판별하여주는 코드이다. 다음을 이용하여 유료 사용자의 첫주간의 engagement 데이터 리스트를 추출해보자."
   ]
  },
  {
   "cell_type": "code",
   "execution_count": null,
   "metadata": {
    "collapsed": true
   },
   "outputs": [],
   "source": [
    "def within_one_week(join_date, engagement_date):\n",
    "    time_delta = engagement_date - join_date\n",
    "    return time_delta.days < 7"
   ]
  },
  {
   "cell_type": "markdown",
   "metadata": {},
   "source": [
    "먼저 fee trial 데이터를 제외하는 함수를 작성하자.\n",
    "\n",
    "위에서 `paid_student` 를 구해두었기 때문에 이를 활용하면 된다."
   ]
  },
  {
   "cell_type": "code",
   "execution_count": null,
   "metadata": {
    "collapsed": true
   },
   "outputs": [],
   "source": [
    "def remove_free_trial_cancels(data):\n",
    "    new_data = []\n",
    "    for data_point in data:\n",
    "        if data_point['account_key'] in paid_students:\n",
    "            new_data.append(data_point)\n",
    "    return new_data"
   ]
  },
  {
   "cell_type": "markdown",
   "metadata": {},
   "source": [
    "다음은 위의 함수를 이용하여 유료사용자의 데이터인 paid_enrollments, paid_engagement, paid_submissions을 구해보자"
   ]
  },
  {
   "cell_type": "code",
   "execution_count": null,
   "metadata": {},
   "outputs": [],
   "source": [
    "paid_enrollments = remove_free_trial_cancels(non_udacity_enrollments)\n",
    "paid_engagement = remove_free_trial_cancels(non_udacity_engagement)\n",
    "paid_submissions = remove_free_trial_cancels(non_udacity_submissions)\n",
    "\n",
    "print(len(paid_enrollments))\n",
    "print(len(paid_engagement))\n",
    "print(len(paid_submissions))"
   ]
  },
  {
   "cell_type": "markdown",
   "metadata": {},
   "source": [
    "마지막으로 `within_one_week()`함수를 사용하여 일주일 동안의 데이터를 추려내 보자."
   ]
  },
  {
   "cell_type": "markdown",
   "metadata": {},
   "source": [
    "### 실습 7: paid_engagement_in_first_week 를 구하는 코드를 작성해보자.\n",
    "\n",
    "* paid_engagement_in_first_week는 리스트로 생성한다.\n",
    "* paid_engagement에서 'accont_key'를 가져와서 이를 이용하여 paid_students의 join_date을 찾아냔다.\n",
    "* paid_engagement의 'utc_date'을 이용하여 engagement_date을 찾아낸다.\n",
    "* 마지막으로 within_one_week() 함수를 사용하여 engagement가 일주일 이내에 작성된 것들만 추려 paid_engagement_in_first_week 에 저장한다."
   ]
  },
  {
   "cell_type": "code",
   "execution_count": null,
   "metadata": {},
   "outputs": [],
   "source": [
    "#================================#\n",
    "# 실습 7                          #\n",
    "#================================#\n",
    "\n",
    "paid_engagement_in_first_week = []\n",
    "\n",
    "\n",
    "\n",
    "print(len(paid_engagement_in_first_week))"
   ]
  },
  {
   "cell_type": "markdown",
   "metadata": {},
   "source": [
    "## Exploring Student Engagement"
   ]
  },
  {
   "cell_type": "markdown",
   "metadata": {},
   "source": [
    "defaultdict()는 dictionary에 기본값을 정의하고 키값이 없더라도 에러를 출력하지않고 기본값을 출력한다. 따라서 빈도수 등을 계산할 때 키값이 없어도 키를 만들 수 있다."
   ]
  },
  {
   "cell_type": "code",
   "execution_count": null,
   "metadata": {},
   "outputs": [],
   "source": [
    "from collections import defaultdict\n",
    "\n",
    "document = [\"a\", \"b\", \"c\", \"a\", \"a\", \"c\", \"a\", \"c\", \"a\", \"a\", \"a\", \"b\", \"c\", \"b\"]\n",
    "word_counts = defaultdict(int) # value를 int로 지정\n",
    "for word in document:\n",
    "    word_counts[word] +=1\n",
    "print(word_counts)"
   ]
  },
  {
   "cell_type": "code",
   "execution_count": null,
   "metadata": {},
   "outputs": [],
   "source": [
    "dd_list = defaultdict(list)\n",
    "dd_list[\"key1\"].append([1,2])\n",
    "dd_list[\"key1\"].append([2,3])\n",
    "dd_list[\"key2\"].append(1)\n",
    "print(dd_list)"
   ]
  },
  {
   "cell_type": "markdown",
   "metadata": {},
   "source": [
    "account_key를 key로 하고 engagement를 value로 하는 dictionary list를 만들어 보자. account_key를 기준으로 얼마나 많은 engagement가 기록되었는지를 확인할 수 있다. key가 없으면 empty dictionary를 만든다."
   ]
  },
  {
   "cell_type": "code",
   "execution_count": null,
   "metadata": {},
   "outputs": [],
   "source": [
    "from collections import defaultdict\n",
    "\n",
    "engagement_by_account = defaultdict(list)\n",
    "for engagement in paid_engagement_in_first_week:\n",
    "    account_key = engagement['account_key']\n",
    "    engagement_by_account[account_key].append(engagement)\n",
    "    \n",
    "# print(engagement_by_account[0])"
   ]
  },
  {
   "cell_type": "code",
   "execution_count": null,
   "metadata": {},
   "outputs": [],
   "source": [
    "total_minutes_by_account = {}\n",
    "\n",
    "for account_key, engagement_for_students in engagement_by_account.items(): # dictvalue의 각 item을 이용하여 iteration을 하기 위해 items() 사용\n",
    "    total_minutes = 0\n",
    "    for engagement in engagement_for_students:\n",
    "        total_minutes += engagement['total_minutes_visited']\n",
    "    total_minutes_by_account[account_key] = total_minutes\n",
    "    \n",
    "# print(total_minutes_by_account)"
   ]
  },
  {
   "cell_type": "markdown",
   "metadata": {},
   "source": [
    "**numpy의 사용**\n",
    "\n",
    "다음 시간에 자세히 다루겠지만, numpy는 mean, sd 등의 계산을 쉽게 해준다. numpy를 이용하여 평균을 구해보자."
   ]
  },
  {
   "cell_type": "code",
   "execution_count": null,
   "metadata": {},
   "outputs": [],
   "source": [
    "import numpy as np\n",
    "\n",
    "test_list = [1,2,3,4,5,6,7,8,9,10]\n",
    "print(np.mean(test_list))\n",
    "print(np.sum(test_list))\n",
    "print(np.std(test_list))\n",
    "print(np.max(test_list), np.min(test_list))"
   ]
  },
  {
   "cell_type": "code",
   "execution_count": null,
   "metadata": {},
   "outputs": [],
   "source": [
    "import numpy as np\n",
    "\n",
    "# 모든 어카운트의 전체 사용시간 (value로 저장된 내용)을 value를 이용하여 리스트로 만든다.\n",
    "total_minutes = total_minutes_by_account.values()\n",
    "\n",
    "# print(np.mean(total_minutes)) # 에러가 남. total_minutes은 list가 아니라 dict value임. 따라서 list로 변환해 주어야 함.\n",
    "\n",
    "print('Mean:', np.mean(list(total_minutes)))\n",
    "print('Standard deviation:', np.std(list(total_minutes)))\n",
    "print('Minimum:', np.min(list(total_minutes)))\n",
    "print('Maximum:', np.max(list(total_minutes)))"
   ]
  },
  {
   "cell_type": "markdown",
   "metadata": {},
   "source": [
    "계산 결과 다음을 확인할 수 있었다. \n",
    "* 학생들이 강의에 engage한 시간은 평균 647.59분이었다.\n",
    "* 편차는 1229.27분으로 매우 큰 편이다. \n",
    "* 가장 적게 이용한 학생이 0분, 가장 많이 이용한 학생은 10568분이다.\n",
    "\n",
    "그런데, 이 결과는 다시 의문을 만들게 된다. 10568분은 1주일이 넘는 시간이다. 이 데이터는 학생들의 첫번째 주 engagement를 계산한 것인데, 어느 학생도 일주일 내내 24시간 강의서비스를 이용하지도 않았을 것이고, 심지어 1주일이 넘는 시간이 발견되었다. 문제는 무엇일까?"
   ]
  },
  {
   "cell_type": "markdown",
   "metadata": {
    "collapsed": true
   },
   "source": [
    "## Debugging the Codes\n",
    "\n",
    "문제가 발생한 곳을 찾기 위해서 max_minutes이 10568.10인 학생의 key를 찾아보자."
   ]
  },
  {
   "cell_type": "code",
   "execution_count": null,
   "metadata": {},
   "outputs": [],
   "source": [
    "student_key_with_max_minutes = None\n",
    "max_minutes = 0\n",
    "\n",
    "for student_key, total_minutes in total_minutes_by_account.items():\n",
    "    if total_minutes > max_minutes:\n",
    "        max_minutes = total_minutes\n",
    "        student_key_with_max_minutes = student_key\n",
    "\n",
    "print(max_minutes, student_key_with_max_minutes)"
   ]
  },
  {
   "cell_type": "markdown",
   "metadata": {},
   "source": [
    "위에서 확인한 키를 이용하여 engagement 데이터를 출력해보자."
   ]
  },
  {
   "cell_type": "code",
   "execution_count": null,
   "metadata": {},
   "outputs": [],
   "source": [
    "for engagement in paid_engagement_in_first_week:\n",
    "    if engagement['account_key'] == student_key_with_max_minutes:\n",
    "        print(engagement)"
   ]
  },
  {
   "cell_type": "markdown",
   "metadata": {},
   "source": [
    "너무 많은 engagement data가 출력이 되었다. 우리가 일주일치의 유료사용자 데이터만을 필터링했기 때문에 데이터는 7개가 있어야 한다. 심지어 날짜를 보면 1월부터 4월까지의 데이터가 수집되었다. 아마도 within_one_week() 함수에 문제가 있는 것 같다."
   ]
  },
  {
   "cell_type": "code",
   "execution_count": null,
   "metadata": {},
   "outputs": [],
   "source": [
    "for enrollment in paid_enrollments:\n",
    "    if enrollment['account_key'] == student_key_with_max_minutes:\n",
    "        print(enrollment)"
   ]
  },
  {
   "cell_type": "code",
   "execution_count": null,
   "metadata": {
    "collapsed": true
   },
   "outputs": [],
   "source": [
    "def within_one_week(join_date, engagement_date):\n",
    "    time_delta = engagement_date - join_date\n",
    "    return time_delta.days < 7"
   ]
  },
  {
   "cell_type": "markdown",
   "metadata": {},
   "source": [
    "위의 코드에서는 time_delta.days가 7 이하인 모든 것을 수집한다. 하지만 가입을 했다 탈퇴하고 다시 가입하는 경우 join_date 이전의 기록이 있을 수 있다. 따라서 engagement 데이터는 join date와 같은 날이거나 7일 이내이어야 한다. 따라서 time_delta 는 다음과 같이 수정해야 한다.\n",
    "\n",
    "0 <= time_delta.days < 7"
   ]
  },
  {
   "cell_type": "code",
   "execution_count": null,
   "metadata": {
    "collapsed": true
   },
   "outputs": [],
   "source": [
    "def within_one_week(join_date, engagement_date):\n",
    "    time_delta = engagement_date - join_date\n",
    "    return 0 <= time_delta.days < 7"
   ]
  },
  {
   "cell_type": "markdown",
   "metadata": {},
   "source": [
    "## Lesson completed in first week"
   ]
  },
  {
   "cell_type": "markdown",
   "metadata": {},
   "source": [
    "### 실습 8: 다음의 코드를 수정하여 lessons completed in first week 를 계산해보자."
   ]
  },
  {
   "cell_type": "code",
   "execution_count": null,
   "metadata": {
    "collapsed": true
   },
   "outputs": [],
   "source": [
    "#================================#\n",
    "# 실습 8-code1                    #\n",
    "#================================#\n",
    "\n",
    "from collections import defaultdict\n",
    "\n",
    "engagement_by_account = defaultdict(list)\n",
    "for engagement in paid_engagement_in_first_week:\n",
    "    account_key = engagement['account_key']\n",
    "    engagement_by_account[account_key].append(engagement)"
   ]
  },
  {
   "cell_type": "code",
   "execution_count": null,
   "metadata": {},
   "outputs": [],
   "source": [
    "#================================#\n",
    "# 실습 8-code2                    #\n",
    "#================================#\n",
    "\n",
    "total_minutes_by_account = {}\n",
    "\n",
    "for account_key, engagement_for_students in engagement_by_account.items():\n",
    "    total_minutes = 0\n",
    "    for engagement in engagement_for_students:\n",
    "        total_minutes += engagement['total_minutes_visited']\n",
    "    total_minutes_by_account[account_key] = total_minutes\n",
    "total_lessons_by_account = {}"
   ]
  },
  {
   "cell_type": "code",
   "execution_count": null,
   "metadata": {},
   "outputs": [],
   "source": [
    "#================================#\n",
    "# 실습 8-code3                    #\n",
    "#================================#\n",
    "\n",
    "import numpy as np\n",
    "\n",
    "total_minutes = total_minutes_by_account.values()\n",
    "print('Mean:', np.mean(list(total_minutes)))\n",
    "print('Standard deviation:', np.std(list(total_minutes)))\n",
    "print('Minimum:', np.min(list(total_minutes)))\n",
    "print('Maximum:', np.max(list(total_minutes)))"
   ]
  },
  {
   "cell_type": "markdown",
   "metadata": {},
   "source": [
    "### 실습 9: 위의 코드들은 이미 두번이나 비슷하게 사용했다. 아마도 계속 사용하게 된다면 함수를 만들어 두는 것이 편리할 것이다. 위의 과정을 수행하는 함수를 작성해 보자."
   ]
  },
  {
   "cell_type": "code",
   "execution_count": null,
   "metadata": {},
   "outputs": [],
   "source": [
    "#================================#\n",
    "# 실습 9                          #\n",
    "#================================#\n",
    "\n",
    "from collections import defaultdict\n",
    "import numpy as np\n",
    "\n",
    "def group_data(data, key_name):\n",
    "\n",
    "\n",
    "def sum_grouped_items(data, key_name):\n",
    "\n",
    "\n",
    "def describe_data(data):\n"
   ]
  },
  {
   "cell_type": "code",
   "execution_count": null,
   "metadata": {},
   "outputs": [],
   "source": [
    "engagement_by_account = group_data(paid_engagement_in_first_week, 'account_key')\n",
    "total_minutes_by_account = sum_grouped_items(engagement_by_account, 'total_minutes_visited')\n",
    "total_minutes = total_minutes_by_account.values()\n",
    "describe_data(total_minutes)\n",
    "\n",
    "total_lessons_by_account = sum_grouped_items(engagement_by_account, 'lessons_completed')\n",
    "total_lessons = total_lessons_by_account.values()\n",
    "describe_data(total_lessons)"
   ]
  }
 ],
 "metadata": {
  "kernelspec": {
   "display_name": "Python 3",
   "language": "python",
   "name": "python3"
  },
  "language_info": {
   "codemirror_mode": {
    "name": "ipython",
    "version": 3
   },
   "file_extension": ".py",
   "mimetype": "text/x-python",
   "name": "python",
   "nbconvert_exporter": "python",
   "pygments_lexer": "ipython3",
   "version": "3.7.4"
  }
 },
 "nbformat": 4,
 "nbformat_minor": 1
}
