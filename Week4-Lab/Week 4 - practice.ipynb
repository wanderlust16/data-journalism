{
 "cells": [
  {
   "cell_type": "code",
   "execution_count": 31,
   "metadata": {},
   "outputs": [
    {
     "name": "stdout",
     "output_type": "stream",
     "text": [
      "OrderedDict([('account_key', '186'), ('status', 'current'), ('join_date', '2014-11-14'), ('cancel_date', ''), ('days_to_cancel', ''), ('is_udacity', 'False'), ('is_canceled', 'False')])\n"
     ]
    }
   ],
   "source": [
    "import unicodecsv as csv\n",
    "\n",
    "enrollments = []\n",
    "f = open('enrollments.csv', 'rb')\n",
    "reader = csv.DictReader(f)\n",
    "for row in reader:\n",
    "    enrollments.append(row)\n",
    "f.close()\n",
    "\n",
    "print(enrollments[190])"
   ]
  },
  {
   "cell_type": "code",
   "execution_count": 32,
   "metadata": {},
   "outputs": [
    {
     "name": "stdout",
     "output_type": "stream",
     "text": [
      "OrderedDict([('account_key', '186'), ('status', 'current'), ('join_date', '2014-11-14'), ('cancel_date', ''), ('days_to_cancel', ''), ('is_udacity', 'False'), ('is_canceled', 'False')])\n"
     ]
    }
   ],
   "source": [
    "with open('enrollments.csv', 'rb') as f:\n",
    "    reader = csv.DictReader(f)\n",
    "    enrollments = list(reader)\n",
    "print(enrollments[190])"
   ]
  },
  {
   "cell_type": "markdown",
   "metadata": {},
   "source": [
    "### 실습 1-1: 다음의 csv 데이터를 불러오자.\n",
    "\n",
    "daily_engagement.csv 데이터와 project_submissions.csv 데이터를 불러오자."
   ]
  },
  {
   "cell_type": "code",
   "execution_count": 33,
   "metadata": {},
   "outputs": [
    {
     "name": "stdout",
     "output_type": "stream",
     "text": [
      "OrderedDict([('acct', '0'), ('utc_date', '2015-01-09'), ('num_courses_visited', '1.0'), ('total_minutes_visited', '11.6793745'), ('lessons_completed', '0.0'), ('projects_completed', '0.0')])\n",
      "OrderedDict([('creation_date', '2015-01-14'), ('completion_date', '2015-01-16'), ('assigned_rating', 'UNGRADED'), ('account_key', '256'), ('lesson_key', '3176718735'), ('processing_state', 'EVALUATED')])\n"
     ]
    }
   ],
   "source": [
    "#================================#\n",
    "# 실습 1-1                        #\n",
    "#================================#\n",
    "\n",
    "with open('daily_engagement.csv', 'rb') as f:\n",
    "    daily_engagement = list(csv.DictReader(f))\n",
    "\n",
    "with open('project_submissions.csv', 'rb') as f:\n",
    "    project_submissions = list(csv.DictReader(f))\n",
    "\n",
    "print(daily_engagement[0])\n",
    "print(project_submissions[0])"
   ]
  },
  {
   "cell_type": "markdown",
   "metadata": {},
   "source": [
    "### 실습 1-2: 위의 코드를 read_csv()라는 함수로 만들어 보자."
   ]
  },
  {
   "cell_type": "code",
   "execution_count": 34,
   "metadata": {},
   "outputs": [
    {
     "name": "stdout",
     "output_type": "stream",
     "text": [
      "OrderedDict([('account_key', '448'), ('status', 'canceled'), ('join_date', '2014-11-10'), ('cancel_date', '2015-01-14'), ('days_to_cancel', '65'), ('is_udacity', 'True'), ('is_canceled', 'True')])\n",
      "OrderedDict([('acct', '0'), ('utc_date', '2015-01-09'), ('num_courses_visited', '1.0'), ('total_minutes_visited', '11.6793745'), ('lessons_completed', '0.0'), ('projects_completed', '0.0')])\n",
      "OrderedDict([('creation_date', '2015-01-14'), ('completion_date', '2015-01-16'), ('assigned_rating', 'UNGRADED'), ('account_key', '256'), ('lesson_key', '3176718735'), ('processing_state', 'EVALUATED')])\n"
     ]
    }
   ],
   "source": [
    "#================================#\n",
    "# 실습 1-2                        #\n",
    "#================================#\n",
    "\n",
    "def read_csv(filename):\n",
    "    with open(filename, 'rb') as f:\n",
    "        return list(csv.DictReader(f))\n",
    "\n",
    "enrollments = read_csv('enrollments.csv')\n",
    "daily_engagement = read_csv('daily_engagement.csv')\n",
    "project_submissions = read_csv('project_submissions.csv')\n",
    "\n",
    "print(enrollments[0])\n",
    "print(daily_engagement[0])\n",
    "print(project_submissions[0])"
   ]
  },
  {
   "cell_type": "code",
   "execution_count": 43,
   "metadata": {},
   "outputs": [],
   "source": [
    "from datetime import datetime as dt\n",
    "\n",
    "def parse_date(date):\n",
    "    if date == \"\":\n",
    "        return None\n",
    "    else: \n",
    "        return dt.strptime(date, '%Y-%m-%d')\n",
    "\n",
    "def parse_int(i):\n",
    "    if i == \"\":\n",
    "        return None\n",
    "    else:\n",
    "        return int(i)\n",
    "\n",
    "def parse_float(i):\n",
    "    if i == \"\":\n",
    "        return None\n",
    "    else:\n",
    "        return float(i)\n",
    "\n",
    "def parse_bool(b):\n",
    "    if b == True:\n",
    "        return True\n",
    "    else: \n",
    "        return False\n"
   ]
  },
  {
   "cell_type": "code",
   "execution_count": 44,
   "metadata": {},
   "outputs": [
    {
     "data": {
      "text/plain": [
       "1"
      ]
     },
     "execution_count": 44,
     "metadata": {},
     "output_type": "execute_result"
    }
   ],
   "source": [
    "int(float('1.2'))"
   ]
  },
  {
   "cell_type": "code",
   "execution_count": null,
   "metadata": {},
   "outputs": [],
   "source": [
    "for enrollment in enrollments:\n",
    "    enrollment['cancel_date'] = parse_date(enrollment['cancel_date'])\n",
    "    enrollment['join_date'] = parse_date(enrollment['join_date'])\n",
    "    enrollment['days_to_cancel'] = parse_int(enrollment['days_to_cancel'])\n",
    "    enrollment['account_key'] = parse_int(enrollment['account_key'])\n",
    "    enrollment['is_udacity'] = parse_bool(enrollment['is_udacity'])\n",
    "    enrollment['is_canceled'] = parse_bool(enrollment['is_canceled'])\n",
    "\n",
    "print(enrollments[0])"
   ]
  },
  {
   "cell_type": "markdown",
   "metadata": {},
   "source": [
    "### 실습 2-1: daily_engagement 데이터의 타입을 고쳐보자.\n",
    "\n",
    "```\n",
    "{\n",
    "  'total_minutes_visited': '11.6793745', \n",
    "  'acct': '0', \n",
    "  'lessons_completed': '0.0', \n",
    "  'projects_completed': '0.0', \n",
    "  'num_courses_visited': '1.0', \n",
    "  'utc_date': '2015-01-09'\n",
    "}\n",
    "```"
   ]
  },
  {
   "cell_type": "code",
   "execution_count": null,
   "metadata": {},
   "outputs": [],
   "source": [
    "#================================#\n",
    "# 실습 2-1                        #\n",
    "#================================#\n",
    "\n",
    "for engagement in daily_engagement:\n",
    "    engagement['total_minutes_visited'] = parse_float(engagement['total_minutes_visited'])\n",
    "    engagement['acct'] = parse_int(engagement['acct'])\n",
    "    engagement['lessons_completed'] = parse_int(float(engagement['lessons_completed']))\n",
    "    engagement['projects_completed'] = parse_int(float(engagement['projects_completed']))\n",
    "    engagement['num_courses_visited'] = parse_int(float(engagement['num_courses_visited']))\n",
    "    engagement['utc_date'] = parse_date(engagement['utc_date'])\n",
    "    \n",
    "print(daily_engagement[0])"
   ]
  },
  {
   "cell_type": "markdown",
   "metadata": {},
   "source": [
    "### 실습 2-2: project_submissions 데이터의 타입을 고쳐보자.\n",
    "\n",
    "```\n",
    "{\n",
    "  'lesson_key': '3176718735', \n",
    "  'creation_date': '2015-01-14', \n",
    "  'account_key': '256', \n",
    "  'completion_date': '2015-01-16', \n",
    "  'processing_state': 'EVALUATED', \n",
    "  'assigned_rating': 'UNGRADED'\n",
    "}\n",
    "```"
   ]
  },
  {
   "cell_type": "code",
   "execution_count": null,
   "metadata": {},
   "outputs": [],
   "source": [
    "#================================#\n",
    "# 실습 2-2                        #\n",
    "#================================#\n",
    "\n",
    "for submission in project_submissions:\n",
    "    submission['lesson_key'] = parse_int(submission['lesson_key'])\n",
    "    submission['creation_date'] = parse_date(submission['creation_date'])\n",
    "    submission['account_key'] = parse_int(submission['account_key'])\n",
    "    submission['completion_date'] = parse_date(submission['completion_date'])\n",
    "    \n",
    "print(project_submission[169])"
   ]
  },
  {
   "cell_type": "code",
   "execution_count": 20,
   "metadata": {},
   "outputs": [
    {
     "name": "stdout",
     "output_type": "stream",
     "text": [
      "1640\n",
      "136240\n",
      "3642\n"
     ]
    }
   ],
   "source": [
    "print(len(enrollments))\n",
    "print(len(daily_engagement))\n",
    "print(len(project_submissions))"
   ]
  },
  {
   "cell_type": "markdown",
   "metadata": {},
   "source": [
    "### 실습 3-1: unique_enrolled_students, unique_engagement_students, unique_project_submitters 의 크기를 구해보자."
   ]
  },
  {
   "cell_type": "code",
   "execution_count": 25,
   "metadata": {},
   "outputs": [
    {
     "name": "stdout",
     "output_type": "stream",
     "text": [
      "1640 1302\n",
      "136240 1238\n",
      "3642 743\n"
     ]
    }
   ],
   "source": [
    "#================================#\n",
    "# 실습 3-1                        #\n",
    "#================================#\n",
    "\n",
    "unique_enrolled_students = set()\n",
    "for enrollment in enrollments:\n",
    "    unique_enrolled_students.add(enrollment['account_key'])\n",
    "\n",
    "unique_engagement_students = set()\n",
    "for engagement in daily_engagement:\n",
    "    unique_engagement_students.add(engagement['acct'])\n",
    "    \n",
    "unique_project_submitters = set()\n",
    "for submission in project_submissions:\n",
    "    unique_project_submitters.add(submission['account_key'])\n",
    "\n",
    "print(len(enrollments), len(unique_enrolled_students))\n",
    "print(len(daily_engagement), len(unique_engagement_students))\n",
    "print(len(project_submissions), len(unique_project_submitters))"
   ]
  },
  {
   "cell_type": "markdown",
   "metadata": {},
   "source": [
    "### 실습 3-2: 똑같은 일을 반복한다면 함수를 만드는 것이 현명하다. unique_students() 함수를 만들어 보자."
   ]
  },
  {
   "cell_type": "code",
   "execution_count": 26,
   "metadata": {},
   "outputs": [
    {
     "name": "stdout",
     "output_type": "stream",
     "text": [
      "1302\n",
      "1238\n",
      "743\n"
     ]
    }
   ],
   "source": [
    "#================================#\n",
    "# 실습 3-2                        #\n",
    "#================================#\n",
    "\n",
    "def unique_students(data, key):\n",
    "    unique_set = set()\n",
    "    for row in data:\n",
    "        unique_set.add(row[key])\n",
    "    return unique_set\n",
    "\n",
    "print(len(unique_students(enrollments, 'account_key')))\n",
    "print(len(unique_students(daily_engagement, 'acct')))\n",
    "print(len(unique_students(project_submissions, 'account_key')))"
   ]
  },
  {
   "cell_type": "code",
   "execution_count": 28,
   "metadata": {},
   "outputs": [
    {
     "name": "stdout",
     "output_type": "stream",
     "text": [
      "OrderedDict([('utc_date', '2015-01-09'), ('num_courses_visited', '1.0'), ('total_minutes_visited', 11.6793745), ('lessons_completed', '0.0'), ('projects_completed', '0.0'), ('account_key', 0)])\n"
     ]
    }
   ],
   "source": [
    "for engagement in daily_engagement:\n",
    "    engagement['account_key'] = engagement['acct']\n",
    "    del[engagement['acct']]\n",
    "    \n",
    "print(daily_engagement[0])"
   ]
  },
  {
   "cell_type": "code",
   "execution_count": null,
   "metadata": {},
   "outputs": [],
   "source": [
    "#================================#\n",
    "# 실습 4                          #\n",
    "#================================#\n",
    "\n",
    "def unique_students_list(data):\n",
    "    unique_set = set()\n",
    "    for row in data:\n",
    "        unique_set.add(row['account_key'])\n",
    "    return unique_set\n",
    "\n",
    "unique_engagement_keys = unique_students_list(engagement)\n",
    "print(len(unique_engagement_keys))"
   ]
  },
  {
   "cell_type": "code",
   "execution_count": null,
   "metadata": {},
   "outputs": [],
   "source": [
    "unique_engagement_keys = unique_students_list(daily_engagement)\n",
    "\n",
    "for enrollment in enrollments:\n",
    "    student = enrollment['account_key']\n",
    "    if student not in unique_engagement_keys:\n",
    "        print(enrollment)\n",
    "        break\n",
    "    "
   ]
  },
  {
   "cell_type": "code",
   "execution_count": null,
   "metadata": {},
   "outputs": [],
   "source": [
    "num_of_problem_students = 0\n",
    "\n",
    "for enrollment in enrollments:\n",
    "    student = enrollment['account_key']\n",
    "    if student not in eunique_engagement_keys and enrollment['join_date'] !== enrollment['cancel_date']:\n",
    "        print(enrollment)\n",
    "        num_of_problem_students += 1\n",
    "        \n",
    "print(\"\\nNumber of problem students: \", num_of_problem_students)"
   ]
  },
  {
   "cell_type": "code",
   "execution_count": 52,
   "metadata": {},
   "outputs": [
    {
     "name": "stdout",
     "output_type": "stream",
     "text": [
      "set()\n"
     ]
    }
   ],
   "source": [
    "udacity_test_accounts = set()\n",
    "\n",
    "for enrollment in enrollments:\n",
    "    if enrollment['is_udacity']:\n",
    "        udacity_test_accounts.add(enrollment['account_key'])\n",
    "\n",
    "len(udacity_test_accounts)\n",
    "print(udacity_test_accounts)"
   ]
  },
  {
   "cell_type": "markdown",
   "metadata": {},
   "source": [
    "### 실습 5: udacity test account를 제외하기 위한 함수 remove_udacity_accounts() 를 작성해 보자."
   ]
  },
  {
   "cell_type": "code",
   "execution_count": null,
   "metadata": {},
   "outputs": [],
   "source": [
    "#================================#\n",
    "# 실습 5                          #\n",
    "#================================#\n",
    "\n",
    "def remove_udacity_accounts(data):\n",
    "    non_udacity_data = []\n",
    "    for data_point in data:\n",
    "        if data_point['account_key'] not in udacity_test_accounts:\n",
    "            non_udacity_data.append(data_point)\n",
    "    return non_udacity_data\n"
   ]
  },
  {
   "cell_type": "code",
   "execution_count": null,
   "metadata": {},
   "outputs": [],
   "source": [
    "non_udacity_enrollments = remove_udacity_accounts(enrollments)\n",
    "non_udacity_engagement = remove_udacity_accounts(daily_engagement)\n",
    "non_udacity_submissions = remove_udacity_accounts(project_submissions)\n",
    "\n",
    "print(len(non_udacity_enrollments))\n",
    "print(len(non_udacity_engagement))\n",
    "print(len(non_udacity_submissions))"
   ]
  },
  {
   "cell_type": "markdown",
   "metadata": {},
   "source": [
    "### 실습 6: 유료 사용자 paid_students 를 만들고 전체 숫자를 출력해보자."
   ]
  },
  {
   "cell_type": "code",
   "execution_count": null,
   "metadata": {},
   "outputs": [],
   "source": [
    "#================================#\n",
    "# 실습 6                          #\n",
    "#================================#\n",
    "\n",
    "paid_students = {}\n",
    "\n",
    "for enrollment in non_udacity_enrollments:\n",
    "    if not enrollment['is_canceled'] or enrollment['days_to_cancel'] > 7:\n",
    "        account_key = enrollment['account_key']\n",
    "        enrollment_date = enrollment['join_date']\n",
    "        \n",
    "        if account_key not in paid_students or enrollment_date > paid_students[account_key]:\n",
    "            paid_students[account_key] = enrollment_date\n",
    "            "
   ]
  },
  {
   "cell_type": "code",
   "execution_count": null,
   "metadata": {},
   "outputs": [],
   "source": [
    "def within_one_week(join_date, engagement_date):\n",
    "    time_delta = engagement_date - join_date\n",
    "    return time_delta.days < 7"
   ]
  },
  {
   "cell_type": "code",
   "execution_count": 53,
   "metadata": {},
   "outputs": [],
   "source": [
    "def remove_free_trial_cancels(data):\n",
    "    new_data = []\n",
    "    for data_point in data:\n",
    "        if data_point['account_key'] in paid_students:\n",
    "            new_data.append(data_point)\n",
    "    return new_data\n",
    "            "
   ]
  },
  {
   "cell_type": "code",
   "execution_count": null,
   "metadata": {},
   "outputs": [],
   "source": [
    "paid_enrollments = remove_free_trial_cancels(non_udacity_enrollments)\n",
    "paid_engagement = remove_free_trial_cancels(non_udacity_engagement)\n",
    "paid_submissions = remove_free_trial_cancels(non_udacity_submissions)\n",
    "\n",
    "print(len(paid_enrollments))\n",
    "print(len(paid_engagement))\n",
    "print(len(paid_submissions))"
   ]
  },
  {
   "cell_type": "markdown",
   "metadata": {},
   "source": [
    "### 실습 7: paid_engagement_in_first_week 를 구하는 코드를 작성해보자.\n",
    "\n",
    "* paid_engagement_in_first_week는 리스트로 생성한다.\n",
    "* paid_engagement에서 'accont_key'를 가져와서 이를 이용하여 paid_students의 join_date을 찾아냔다.\n",
    "* paid_engagement의 'utc_date'을 이용하여 engagement_date을 찾아낸다.\n",
    "* 마지막으로 within_one_week() 함수를 사용하여 engagement가 일주일 이내에 작성된 것들만 추려 paid_engagement_in_first_week 에 저장한다."
   ]
  },
  {
   "cell_type": "code",
   "execution_count": null,
   "metadata": {},
   "outputs": [],
   "source": [
    "#================================#\n",
    "# 실습 7                          #\n",
    "#================================#\n",
    "\n",
    "paid_engagement_in_first_week = []\n",
    "\n",
    "for engagement in paid_engagement:\n",
    "    account_key = engagement['account_key']\n",
    "    join_date = paid_students[account_key] # paid_students는 dict이므로 key값에 따옴표 없이 value를 가져옴\n",
    "    engagement_date = engagement['utc_date'] # engagement는 csv 변환 파일이므로 따옴표 작성\n",
    "    \n",
    "    if within_one_week(join_date, engagement_date):\n",
    "        paid_engagement_in_first_week.append(engagement)\n",
    "        \n",
    "print(len(paid_engagement_in_first_week))  \n",
    "    "
   ]
  },
  {
   "cell_type": "code",
   "execution_count": 57,
   "metadata": {},
   "outputs": [
    {
     "name": "stdout",
     "output_type": "stream",
     "text": [
      "{'a': 7, 'b': 3, 'c': 4}\n"
     ]
    }
   ],
   "source": [
    "document = [\"a\", \"b\", \"c\", \"a\", \"a\", \"c\", \"a\", \"c\", \"a\", \"a\", \"a\", \"b\", \"c\", \"b\"]\n",
    "word_counts = {}\n",
    "for word in document:\n",
    "    if word in word_counts:\n",
    "        word_counts[word] += 1\n",
    "    else:\n",
    "        word_counts[word] = 1\n",
    "\n",
    "print(word_counts)"
   ]
  },
  {
   "cell_type": "code",
   "execution_count": 60,
   "metadata": {},
   "outputs": [
    {
     "name": "stdout",
     "output_type": "stream",
     "text": [
      "defaultdict(<class 'int'>, {'a': 7, 'b': 3, 'c': 4})\n"
     ]
    }
   ],
   "source": [
    "from collections import defaultdict\n",
    "\n",
    "document = [\"a\", \"b\", \"c\", \"a\", \"a\", \"c\", \"a\", \"c\", \"a\", \"a\", \"a\", \"b\", \"c\", \"b\"]\n",
    "word_counts = defaultdict(int)\n",
    "for word in document:\n",
    "    word_counts[word] += 1\n",
    "print(word_counts)"
   ]
  },
  {
   "cell_type": "code",
   "execution_count": 62,
   "metadata": {},
   "outputs": [
    {
     "name": "stdout",
     "output_type": "stream",
     "text": [
      "defaultdict(<class 'list'>, {'key1': [[1, 2], [2, 3]], 'key2': [1]})\n"
     ]
    }
   ],
   "source": [
    "dd_list = defaultdict(list)\n",
    "dd_list[\"key1\"].append([1,2])\n",
    "dd_list[\"key1\"].append([2,3])\n",
    "dd_list[\"key2\"].append(1)\n",
    "print(dd_list)"
   ]
  },
  {
   "cell_type": "code",
   "execution_count": null,
   "metadata": {
    "scrolled": false
   },
   "outputs": [],
   "source": [
    "from collections import defaultdict\n",
    "import pprint\n",
    "\n",
    "engagement_by_account = defaultdict(list)\n",
    "for engagement in paid_engagement_in_first_week:\n",
    "    account_key = engagement['account_key']\n",
    "    engagement_by_account[account_key].append(engagement)\n",
    "\n",
    "pprint.pprint(engagement_by_account[0])"
   ]
  },
  {
   "cell_type": "code",
   "execution_count": null,
   "metadata": {},
   "outputs": [],
   "source": [
    "total_minutes_by_account = {}\n",
    "\n",
    "for account_key, engagement_for_students in engagement_by_account.items():\n",
    "    total_minutes = 0\n",
    "    for engagement in engagement_for_students:\n",
    "        total_minutes += engagement['total_minutes_visited']\n",
    "    total_minutes_by_account[account_key] = total = total_minutes\n",
    "    \n",
    "pprint.pprint(total_minutes_by_account)"
   ]
  },
  {
   "cell_type": "code",
   "execution_count": 65,
   "metadata": {},
   "outputs": [
    {
     "name": "stdout",
     "output_type": "stream",
     "text": [
      "5.5\n",
      "55\n",
      "2.8722813232690143\n",
      "10 1\n"
     ]
    }
   ],
   "source": [
    "import numpy as np\n",
    "\n",
    "test_list = [1,2,3,4,5,6,7,8,9,10]\n",
    "print(np.mean(test_list))\n",
    "print(np.sum(test_list))\n",
    "print(np.std(test_list))\n",
    "print(np.max(test_list), np.min(test_list))"
   ]
  },
  {
   "cell_type": "code",
   "execution_count": null,
   "metadata": {},
   "outputs": [],
   "source": [
    "import numpy as np\n",
    "\n",
    "total_minutes = total_minutes_by_account.values()\n",
    "\n",
    "print(\"Mean:\", np.mean(list(total_minutes)))\n",
    "print(\"Standard deviation:\", np.std(list(total_minutes)))\n",
    "print(\"Minimum:\", np.min(list(total_minutes)))\n",
    "print(\"Maximum:\", np.max(list(total_minutes)))"
   ]
  },
  {
   "cell_type": "code",
   "execution_count": null,
   "metadata": {},
   "outputs": [],
   "source": [
    "student_key_with_max_minutes = None\n",
    "max_minutes = 0\n",
    "\n",
    "for student_key, total_minutes in total_minutes_by_account.items():\n",
    "    if total_minutes > max_minutes:\n",
    "        max_minutes = total_minutes\n",
    "        student_key_with_max_minutes = studnet_key\n",
    "        \n",
    "print(max_minutes, student_key_with_max_minutes)"
   ]
  },
  {
   "cell_type": "code",
   "execution_count": null,
   "metadata": {},
   "outputs": [],
   "source": [
    "for engagement in paid_engagement_first_week:\n",
    "    if engagement['account_key'] == student_key_with_max_minutes:\n",
    "        print(engagement)"
   ]
  },
  {
   "cell_type": "code",
   "execution_count": null,
   "metadata": {},
   "outputs": [],
   "source": [
    "for enrollment in paid_enrollments:\n",
    "    if enrollment['account_key'] == student_key_with_max_minutes:\n",
    "        print(enrollment)"
   ]
  },
  {
   "cell_type": "code",
   "execution_count": null,
   "metadata": {},
   "outputs": [],
   "source": [
    "def within_one_week(join_date, engagement_date):\n",
    "    time_delta = engagement_date - join_date\n",
    "    return 0 <= time_delta.days < 7"
   ]
  },
  {
   "cell_type": "code",
   "execution_count": null,
   "metadata": {},
   "outputs": [],
   "source": [
    "paid_engagement_in_first_week = []\n",
    "\n",
    "for engagement in paid_engagement:\n",
    "    account_key = engagement['account_key']\n",
    "    join_date = paid_students[account_key]\n",
    "    engagement_date = engagement['utc_date']\n",
    "    \n",
    "    if within_one_week(join_date, engagement_date):\n",
    "        paid_engagement_in_first_week.append(engagement)\n",
    "        \n",
    "print(len(paid_engagement_in_first_week))"
   ]
  },
  {
   "cell_type": "markdown",
   "metadata": {},
   "source": [
    "### 실습 8: 다음의 코드를 수정하여 lessons completed in first week 를 계산해보자."
   ]
  },
  {
   "cell_type": "code",
   "execution_count": null,
   "metadata": {},
   "outputs": [],
   "source": [
    "#================================#\n",
    "# 실습 8-code1                    #\n",
    "#================================#\n",
    "\n",
    "from collections import defaultdict\n",
    "\n",
    "engagement_by_account = defaultdict(list)\n",
    "for engagement in paid_engagement_in_first_week:\n",
    "    account_key = engagement['account_key']\n",
    "    engagement_by_account[account_key].append(engagement)"
   ]
  },
  {
   "cell_type": "code",
   "execution_count": null,
   "metadata": {},
   "outputs": [],
   "source": [
    "#================================#\n",
    "# 실습 8-code2                    #\n",
    "#================================#\n",
    "\n",
    "total_minutes_by_account = {}\n",
    "\n",
    "for account_key, engagement_for_students in engagement_by_account.items():\n",
    "    total_minutes = 0\n",
    "    for engagement in engagement_for_students:\n",
    "        total_minutes += engagement['total_minutes_visited']\n",
    "    total_minutes_by_account[account_key] = total_minutes\n",
    "\n",
    "total_lessons_by_account = {}\n",
    "\n",
    "for account_key, engagement_for_students in engagement_by_account.itmes():\n",
    "    total_lessons = 0\n",
    "    for engagement in engagement_for_students:\n",
    "        total_lessons += engagement['lessons_visited']\n",
    "    total_minutes_by_account[account_key] = total_lessons\n",
    "    "
   ]
  },
  {
   "cell_type": "code",
   "execution_count": null,
   "metadata": {},
   "outputs": [],
   "source": [
    "import numpy as np\n",
    "\n",
    "total_minutes = total_minutes_by_account.values()\n",
    "print(\"Mean:\", np.mean(list(total_minutes)))\n",
    "print(\"Standard deviation:\", np.std(list(total_minutes)))\n",
    "print(\"Minimum:\", np.min(list(total_minutes)))\n",
    "print(\"Maximum:\", np.max(list(total_minutes)))\n",
    "\n",
    "print(\"=====\\n\")\n",
    "total_lessons = total_minutes_by_account.values()\n",
    "print(\"Mean:\", np.mean(list(total_lessons)))\n",
    "print(\"Standard deviation:\", np.std(list(total_lessons)))\n",
    "print(\"Minimum:\", np.min(list(total_lessons)))\n",
    "print(\"Maximum:\", np.max(list(total_lessons)))\n"
   ]
  }
 ],
 "metadata": {
  "kernelspec": {
   "display_name": "Python 3",
   "language": "python",
   "name": "python3"
  },
  "language_info": {
   "codemirror_mode": {
    "name": "ipython",
    "version": 3
   },
   "file_extension": ".py",
   "mimetype": "text/x-python",
   "name": "python",
   "nbconvert_exporter": "python",
   "pygments_lexer": "ipython3",
   "version": "3.7.3"
  }
 },
 "nbformat": 4,
 "nbformat_minor": 2
}
