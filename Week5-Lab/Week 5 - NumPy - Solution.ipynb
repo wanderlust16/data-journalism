{
 "cells": [
  {
   "cell_type": "markdown",
   "metadata": {},
   "source": [
    "# Week 5 - Data Analysis Using NumPy and Pandas 1"
   ]
  },
  {
   "cell_type": "markdown",
   "metadata": {},
   "source": [
    "## NumPy\n",
    "\n",
    "NumPy는 \"Numerical Python\"의 약자라고도 한다. 이름이 의미하듯이 파이썬의 수치연산 기능을 강화시켜준다."
   ]
  },
  {
   "cell_type": "markdown",
   "metadata": {},
   "source": [
    "### Array\n",
    "\n",
    "NumPy는 자체적인 array를 제공한다. Python의 list와 비슷하지만, 보다 다양한 연산 메소드를 가지고 있다는 점, 같은 종류의 데이터만 담을 수 있다는 점에서 다르다. NumPy의 array는 다음과 같이 사용한다."
   ]
  },
  {
   "cell_type": "code",
   "execution_count": 1,
   "metadata": {},
   "outputs": [
    {
     "name": "stdout",
     "output_type": "stream",
     "text": [
      "(3,)\n",
      "[1 2 3]\n",
      "1 3\n",
      "[ 1 10  3]\n",
      "(2, 3)\n",
      "[[1 2 3]\n",
      " [4 5 6]]\n",
      "1 2 4\n"
     ]
    }
   ],
   "source": [
    "import numpy as np\n",
    "\n",
    "array1 = np.array([1, 2, 3])   # 1차원 array를 만든다.\n",
    "print(array1.shape)            # (3,) 이라고 출력. 요소가 3인 1차원 array를 의미함          \n",
    "print(array1)\n",
    "\n",
    "# 특정 요소에 접근하기 위해서는 list와 같이 인덱스를 사용한다.\n",
    "print(array1[0], array1[2])\n",
    "array1[1] = 10\n",
    "print(array1)\n",
    "\n",
    "array2 = np.array([[1,2,3],[4,5,6]])   # 2차원 array를 만든다.\n",
    "print(array2.shape)                    # (2, 3) 이라고 출력. (row, column)\n",
    "print(array2)\n",
    "print(array2[0, 0], array2[0, 1], array2[1, 0])   # Prints \"1 2 4\""
   ]
  },
  {
   "cell_type": "code",
   "execution_count": 3,
   "metadata": {},
   "outputs": [
    {
     "name": "stdout",
     "output_type": "stream",
     "text": [
      "[[0. 0. 0.]\n",
      " [0. 0. 0.]]\n",
      "[[1. 1.]]\n",
      "[[0.44208884 0.42686225]\n",
      " [0.26191769 0.62772941]]\n"
     ]
    }
   ],
   "source": [
    "import numpy as np\n",
    "\n",
    "a = np.zeros((2,3))   # 모두 zero로 채워진 2x3 array를 생성\n",
    "print(a)\n",
    "\n",
    "b = np.ones((1,2))    # 모두 1로 채워진 1x2 array를 생성\n",
    "print(b)\n",
    "\n",
    "c = np.random.random((2,2)) # 랜돔 넘버로 채워진 2x2 array를 생성\n",
    "print(c)"
   ]
  },
  {
   "cell_type": "code",
   "execution_count": 5,
   "metadata": {},
   "outputs": [
    {
     "name": "stdout",
     "output_type": "stream",
     "text": [
      "[[ 1  2  3  4]\n",
      " [ 5  6  7  8]\n",
      " [ 9 10 11 12]]\n",
      "[[2 3]\n",
      " [6 7]]\n",
      "[5 6 7 8]\n",
      "[[1 2 3 4]\n",
      " [5 6 7 8]]\n"
     ]
    }
   ],
   "source": [
    "import numpy as np\n",
    "\n",
    "a = np.array([[1,2,3,4], [5,6,7,8], [9,10,11,12]])\n",
    "print(a)\n",
    "\n",
    "b = a[:2, 1:3]\n",
    "print(b)\n",
    "\n",
    "a1 = a[1, :]\n",
    "a2 = a[:2, :]\n",
    "print(a1)\n",
    "print(a2)"
   ]
  },
  {
   "cell_type": "markdown",
   "metadata": {},
   "source": [
    "### Array Datatype\n",
    "\n",
    "Numpy는 다양한 데이터타입을 제공한다. 데이터타입은 array를 생성할 때 지정할 수 있다.\n",
    "\n",
    "* bool_  : Boolean (True or False) stored as a byte\n",
    "* int_  : Default integer type (Int32 또는 Int64 와 같음)\n",
    "* int8  : Byte (-128 to 127)\n",
    "* int16  : Integer (-32768 to 32767)\n",
    "* int32  : Integer (-2147483648 to 2147483647)\n",
    "* int64  : Integer (-9223372036854775808 to 9223372036854775807)\n",
    "* uint8  : Unsigned integer (0 to 255)\n",
    "* uint16 : Unsigned integer (0 to 65535)\n",
    "* uint32 : Unsigned integer (0 to 4294967295)\n",
    "* uint64  : Unsigned integer (0 to 18446744073709551615)\n",
    "* float_ : float64 와 같음\n",
    "* float16 : Half precision float\n",
    "* float32 : Single precision float\n",
    "* float64 : Double precision float\n",
    "* complex_ : complex128 와 같음\n",
    "* complex64 : Complex number, represented by two 32-bit floats\n",
    "* complex128 : Complex number, represented by two 64-bit floats  \n",
    "* object_  : python object\n",
    "* str_  : python str\n",
    "* unicode_  : python unicode"
   ]
  },
  {
   "cell_type": "code",
   "execution_count": 4,
   "metadata": {},
   "outputs": [
    {
     "name": "stdout",
     "output_type": "stream",
     "text": [
      "int64\n",
      "[1 2]\n",
      "float64\n",
      "[1. 2.]\n",
      "float64\n",
      "[1. 2.]\n"
     ]
    }
   ],
   "source": [
    "x = np.array([1, 2])      # default로 datatype을 int64로 지정한다.\n",
    "print(x.dtype)\n",
    "print(x)\n",
    "\n",
    "x = np.array([1.0, 2.0])  # default로 datatype을 float64로 지정한다.\n",
    "print(x.dtype)\n",
    "print(x)\n",
    "\n",
    "x = np.array([1, 2], dtype=np.float64)  # array를 생성할 때 datatype을 float64로 지정한다.\n",
    "print(x.dtype)\n",
    "print(x)"
   ]
  },
  {
   "cell_type": "markdown",
   "metadata": {},
   "source": [
    "### Array Math"
   ]
  },
  {
   "cell_type": "code",
   "execution_count": 5,
   "metadata": {},
   "outputs": [
    {
     "name": "stdout",
     "output_type": "stream",
     "text": [
      "[[1. 2.]\n",
      " [3. 4.]]\n",
      "[[5. 6.]\n",
      " [7. 8.]]\n",
      "[[ 6.  8.]\n",
      " [10. 12.]]\n",
      "[[ 6.  8.]\n",
      " [10. 12.]]\n",
      "[[-4. -4.]\n",
      " [-4. -4.]]\n",
      "[[-4. -4.]\n",
      " [-4. -4.]]\n",
      "[[ 5. 12.]\n",
      " [21. 32.]]\n",
      "[[ 5. 12.]\n",
      " [21. 32.]]\n",
      "[[0.2        0.33333333]\n",
      " [0.42857143 0.5       ]]\n",
      "[[0.2        0.33333333]\n",
      " [0.42857143 0.5       ]]\n",
      "[[1.         1.41421356]\n",
      " [1.73205081 2.        ]]\n"
     ]
    }
   ],
   "source": [
    "import numpy as np\n",
    "\n",
    "x = np.array([[1,2],[3,4]], dtype=np.float64)\n",
    "y = np.array([[5,6],[7,8]], dtype=np.float64)\n",
    "print(x)\n",
    "print(y)\n",
    "\n",
    "print(x + y)\n",
    "print(np.add(x, y))\n",
    "\n",
    "print(x - y)\n",
    "print(np.subtract(x, y))\n",
    "\n",
    "print(x * y)\n",
    "print(np.multiply(x, y))\n",
    "\n",
    "print(x / y)\n",
    "print(np.divide(x, y))\n",
    "\n",
    "print(np.sqrt(x))"
   ]
  },
  {
   "cell_type": "markdown",
   "metadata": {},
   "source": [
    "**(참고) 행렬의 곱**\n",
    "\n",
    "행렬의 곱이 정의되는 경우\n",
    " - 행렬 곱 AB에 대하여, 행렬 A의 열의 수와 행렬 B의 행의 수가 같아야 한다.\n",
    " \n",
    "![](img/image1.png)"
   ]
  },
  {
   "cell_type": "code",
   "execution_count": 7,
   "metadata": {},
   "outputs": [
    {
     "name": "stdout",
     "output_type": "stream",
     "text": [
      "[[1 2]\n",
      " [3 4]]\n",
      "[[5 6]\n",
      " [7 8]]\n",
      "[ 9 10]\n",
      "[11 12]\n",
      "219\n",
      "219\n",
      "[29 67]\n",
      "[29 67]\n",
      "[[19 22]\n",
      " [43 50]]\n",
      "[[19 22]\n",
      " [43 50]]\n"
     ]
    }
   ],
   "source": [
    "import numpy as np\n",
    "\n",
    "x = np.array([[1,2],[3,4]])\n",
    "y = np.array([[5,6],[7,8]])\n",
    "\n",
    "v = np.array([9,10])\n",
    "w = np.array([11, 12])\n",
    "\n",
    "print(x)\n",
    "print(y)\n",
    "print(v)\n",
    "print(w)\n",
    "\n",
    "print(v.dot(w))\n",
    "print(np.dot(v, w))\n",
    "\n",
    "print(x.dot(v))\n",
    "print(np.dot(x, v))\n",
    "\n",
    "print(x.dot(y))\n",
    "print(np.dot(x, y))"
   ]
  },
  {
   "cell_type": "code",
   "execution_count": 9,
   "metadata": {},
   "outputs": [
    {
     "name": "stdout",
     "output_type": "stream",
     "text": [
      "4.5\n",
      "2.29128784747792\n",
      "8\n",
      "1\n"
     ]
    }
   ],
   "source": [
    "x = np.array([[1,2],[3,4],[5,6],[7,8]])\n",
    "\n",
    "print(np.mean(x))\n",
    "print(np.std(x))\n",
    "print(np.max(x))\n",
    "print(np.min(x))"
   ]
  },
  {
   "cell_type": "markdown",
   "metadata": {},
   "source": [
    "### 실습 1"
   ]
  },
  {
   "cell_type": "code",
   "execution_count": 12,
   "metadata": {},
   "outputs": [
    {
     "name": "stdout",
     "output_type": "stream",
     "text": [
      "20\n"
     ]
    }
   ],
   "source": [
    "import numpy as np\n",
    "\n",
    "# First 20 countries with employment data\n",
    "countries = np.array([\n",
    "    'Afghanistan', 'Albania', 'Algeria', 'Angola', 'Argentina',\n",
    "    'Armenia', 'Australia', 'Austria', 'Azerbaijan', 'Bahamas',\n",
    "    'Bahrain', 'Bangladesh', 'Barbados', 'Belarus', 'Belgium',\n",
    "    'Belize', 'Benin', 'Bhutan', 'Bolivia',\n",
    "    'Bosnia and Herzegovina'\n",
    "])\n",
    "\n",
    "# Employment data in 2007 for those 20 countries\n",
    "employment = np.array([\n",
    "    55.70000076,  51.40000153,  50.5       ,  75.69999695,\n",
    "    58.40000153,  40.09999847,  61.5       ,  57.09999847,\n",
    "    60.90000153,  66.59999847,  60.40000153,  68.09999847,\n",
    "    66.90000153,  53.40000153,  48.59999847,  56.79999924,\n",
    "    71.59999847,  58.40000153,  70.40000153,  41.20000076\n",
    "])"
   ]
  },
  {
   "cell_type": "markdown",
   "metadata": {},
   "source": [
    "#### 실습 1-1: 다음의 값을 출력하시오\n",
    "\n",
    "* 3번째 나라의 이름\n",
    "* 2~10번째 나라의 이름\n",
    "* 17번째 이후의 나라의 이름"
   ]
  },
  {
   "cell_type": "code",
   "execution_count": 9,
   "metadata": {},
   "outputs": [
    {
     "name": "stdout",
     "output_type": "stream",
     "text": [
      "Algeria\n",
      "['Albania' 'Algeria' 'Angola' 'Argentina' 'Armenia' 'Australia' 'Austria'\n",
      " 'Azerbaijan' 'Bahamas']\n",
      "['Benin' 'Bhutan' 'Bolivia' 'Bosnia and Herzegovina']\n"
     ]
    }
   ],
   "source": [
    "# 아래에 코드를 입력하시오.\n",
    "print(countries[2])\n",
    "print(countries[1:10])\n",
    "print(countries[16:])"
   ]
  },
  {
   "cell_type": "markdown",
   "metadata": {},
   "source": [
    "#### 실습 1-2: 다음의 값을 출력하시오\n",
    "* countries의 datatype\n",
    "* employment의 datatype"
   ]
  },
  {
   "cell_type": "code",
   "execution_count": 10,
   "metadata": {},
   "outputs": [
    {
     "name": "stdout",
     "output_type": "stream",
     "text": [
      "<U22\n",
      "float64\n"
     ]
    }
   ],
   "source": [
    "# 아래에 코드를 입력하시오.\n",
    "print(countries.dtype)\n",
    "print(employment.dtype)"
   ]
  },
  {
   "cell_type": "markdown",
   "metadata": {},
   "source": [
    "#### 실습 1-3: 다음과 같이 각 나라의 employment data를 출력하시오.\n",
    "```\n",
    " Country Afghanistan has employment 55.70000076\n",
    " Country Albania has employment 51.40000153\n",
    " ...\n",
    "```"
   ]
  },
  {
   "cell_type": "code",
   "execution_count": 11,
   "metadata": {},
   "outputs": [
    {
     "name": "stdout",
     "output_type": "stream",
     "text": [
      "hello, python 3.5\n",
      "hello, python 3.5\n"
     ]
    }
   ],
   "source": [
    "# 참고\n",
    "a = \"python\"\n",
    "b = 3.5\n",
    "print(\"hello, {} {}\".format(a, b))\n",
    "print(\"hello, \" + a + \" \" + str(b))"
   ]
  },
  {
   "cell_type": "code",
   "execution_count": 12,
   "metadata": {},
   "outputs": [
    {
     "name": "stdout",
     "output_type": "stream",
     "text": [
      "Country Afghanistan has employment 55.70000076\n",
      "Country Albania has employment 51.40000153\n",
      "Country Algeria has employment 50.5\n",
      "Country Angola has employment 75.69999695\n",
      "Country Argentina has employment 58.40000153\n",
      "Country Armenia has employment 40.09999847\n",
      "Country Australia has employment 61.5\n",
      "Country Austria has employment 57.09999847\n",
      "Country Azerbaijan has employment 60.90000153\n",
      "Country Bahamas has employment 66.59999847\n",
      "Country Bahrain has employment 60.40000153\n",
      "Country Bangladesh has employment 68.09999847\n",
      "Country Barbados has employment 66.90000153\n",
      "Country Belarus has employment 53.40000153\n",
      "Country Belgium has employment 48.59999847\n",
      "Country Belize has employment 56.79999924\n",
      "Country Benin has employment 71.59999847\n",
      "Country Bhutan has employment 58.40000153\n",
      "Country Bolivia has employment 70.40000153\n",
      "Country Bosnia and Herzegovina has employment 41.20000076\n"
     ]
    }
   ],
   "source": [
    "# 아래의 코드를 완성하시오.\n",
    "for i in range(len(countries)):\n",
    "    country = countries[i]\n",
    "    country_employment = employment[i]\n",
    "    print('Country {} has employment {}'.format(country, country_employment))"
   ]
  },
  {
   "cell_type": "markdown",
   "metadata": {},
   "source": [
    "#### 실습 1-4: employment의 mean, std, max, mean 을 출력하시오."
   ]
  },
  {
   "cell_type": "code",
   "execution_count": 13,
   "metadata": {},
   "outputs": [
    {
     "name": "stdout",
     "output_type": "stream",
     "text": [
      "58.68500003850001\n",
      "9.338269113687888\n",
      "75.69999695\n",
      "1173.70000077\n"
     ]
    }
   ],
   "source": [
    "# 아래에 코드를 입력하시오.\n",
    "print(employment.mean())\n",
    "print(employment.std())\n",
    "print(employment.max())\n",
    "print(employment.sum())"
   ]
  },
  {
   "cell_type": "markdown",
   "metadata": {},
   "source": [
    "#### 실습 1-5: 다음의 함수를 완성하여 employment data가 가장 큰 나라의 이름과 값을 출력하시오."
   ]
  },
  {
   "cell_type": "code",
   "execution_count": 14,
   "metadata": {},
   "outputs": [
    {
     "name": "stdout",
     "output_type": "stream",
     "text": [
      "('Angola', 75.69999695)\n"
     ]
    }
   ],
   "source": [
    "def max_employment(countries, employment):\n",
    "    max_value = employment.max()\n",
    "    max_country = \"\"\n",
    "    for i in range(len(employment)):\n",
    "        if employment[i] == max_value:\n",
    "            max_country = countries[i]\n",
    "    return (max_country, max_value)\n",
    "    \n",
    "print(max_employment(countries, employment))"
   ]
  },
  {
   "cell_type": "markdown",
   "metadata": {},
   "source": [
    "참고로, 위의 코드는 max value가 하나인 경우만 가정하고 있다. max value가 여러 개일 수 있을 경우, list의 형태로 return 하는 것이 좋다."
   ]
  },
  {
   "cell_type": "code",
   "execution_count": 15,
   "metadata": {},
   "outputs": [
    {
     "name": "stdout",
     "output_type": "stream",
     "text": [
      "('Angola', 75.69999695)\n"
     ]
    }
   ],
   "source": [
    "# http://docs.scipy.org/doc/numpy-1.11.0/reference/\n",
    "# or google for \"numpy get index of max\" returns\n",
    "# http://stackoverflow.com/questions/5469286/how-to-get-the-index-of-a-maximum-element-in-a-numpy-array-along-one-axis\n",
    "def max_employment(countries, employment):\n",
    "    i = employment.argmax() # 최댓값의 위치 찾기\n",
    "    return (countries[i], employment[i])\n",
    "    \n",
    "print(max_employment(countries, employment))"
   ]
  },
  {
   "cell_type": "markdown",
   "metadata": {},
   "source": [
    "#### 실습 1-6: 다음의 array는 선택된 20개 나라의 남성과 여성의 school completion data이다. 제시된 함수를 완성하여 각 나라의 overall completion rate을 출력하자."
   ]
  },
  {
   "cell_type": "code",
   "execution_count": 16,
   "metadata": {},
   "outputs": [],
   "source": [
    "# First 20 countries with school completion data\n",
    "countries = np.array([\n",
    "       'Algeria', 'Argentina', 'Armenia', 'Aruba', 'Austria','Azerbaijan',\n",
    "       'Bahamas', 'Barbados', 'Belarus', 'Belgium', 'Belize', 'Bolivia',\n",
    "       'Botswana', 'Brunei', 'Bulgaria', 'Burkina Faso', 'Burundi',\n",
    "       'Cambodia', 'Cameroon', 'Cape Verde'\n",
    "])\n",
    "\n",
    "# Female school completion rate in 2007 for those 20 countries\n",
    "female_completion = np.array([\n",
    "    97.35583,  104.62379,  103.02998,   95.14321,  103.69019,\n",
    "    98.49185,  100.88828,   95.43974,   92.11484,   91.54804,\n",
    "    95.98029,   98.22902,   96.12179,  119.28105,   97.84627,\n",
    "    29.07386,   38.41644,   90.70509,   51.7478 ,   95.45072\n",
    "])\n",
    "\n",
    "# Male school completion rate in 2007 for those 20 countries\n",
    "male_completion = np.array([\n",
    "     95.47622,  100.66476,   99.7926 ,   91.48936,  103.22096,\n",
    "     97.80458,  103.81398,   88.11736,   93.55611,   87.76347,\n",
    "    102.45714,   98.73953,   92.22388,  115.3892 ,   98.70502,\n",
    "     37.00692,   45.39401,   91.22084,   62.42028,   90.66958\n",
    "])"
   ]
  },
  {
   "cell_type": "code",
   "execution_count": 17,
   "metadata": {},
   "outputs": [
    {
     "name": "stdout",
     "output_type": "stream",
     "text": [
      "[ 96.416025 102.644275 101.41129   93.316285 103.455575  98.148215\n",
      " 102.35113   91.77855   92.835475  89.655755  99.218715  98.484275\n",
      "  94.172835 117.335125  98.275645  33.04039   41.905225  90.962965\n",
      "  57.08404   93.06015 ]\n"
     ]
    }
   ],
   "source": [
    "# 다음의 함수를 완성하시오.\n",
    "def overall_completion_rate(female_completion, male_completion):\n",
    "    return (female_completion + male_completion) / 2\n",
    "\n",
    "print(overall_completion_rate(female_completion, male_completion))"
   ]
  },
  {
   "cell_type": "markdown",
   "metadata": {},
   "source": [
    "(생각해보기) 남여의 completion rate 차가 가장 적은 나라와 가장 큰 나라를 찾아보자."
   ]
  }
 ],
 "metadata": {
  "kernelspec": {
   "display_name": "Python 3",
   "language": "python",
   "name": "python3"
  },
  "language_info": {
   "codemirror_mode": {
    "name": "ipython",
    "version": 3
   },
   "file_extension": ".py",
   "mimetype": "text/x-python",
   "name": "python",
   "nbconvert_exporter": "python",
   "pygments_lexer": "ipython3",
   "version": "3.7.3"
  }
 },
 "nbformat": 4,
 "nbformat_minor": 1
}
